{
 "cells": [
  {
   "cell_type": "code",
   "execution_count": null,
   "metadata": {
    "collapsed": true
   },
   "outputs": [],
   "source": [
    "#[SPACE]\n",
    "s=\"python is pure object oriented programing language\"\n",
    "visited = \"\"\n",
    "for char in s:\n",
    "    output=\"\"\n",
    "    res = s.count(char)\n",
    "    if char == \" \":\n",
    "           output = output+\"[space]\"\n",
    "    if res == 1:\n",
    "        output=output+char+\" is not rpeated\"\n",
    "    else:\n",
    "        output = output+char+\" is repeated\"+str(res)\n",
    "print output"
   ]
  }
 ],
 "metadata": {
  "kernelspec": {
   "display_name": "Python 2",
   "language": "python",
   "name": "python2"
  },
  "language_info": {
   "codemirror_mode": {
    "name": "ipython",
    "version": 2
   },
   "file_extension": ".py",
   "mimetype": "text/x-python",
   "name": "python",
   "nbconvert_exporter": "python",
   "pygments_lexer": "ipython2",
   "version": "2.7.11"
  }
 },
 "nbformat": 4,
 "nbformat_minor": 0
}
