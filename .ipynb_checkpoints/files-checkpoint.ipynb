{
 "cells": [
  {
   "cell_type": "code",
   "execution_count": 1,
   "metadata": {
    "collapsed": true
   },
   "outputs": [],
   "source": [
    "f=open('data.csv','r')\n"
   ]
  },
  {
   "cell_type": "code",
   "execution_count": 2,
   "metadata": {
    "collapsed": false
   },
   "outputs": [
    {
     "data": {
      "text/plain": [
       "<open file 'data.csv', mode 'r' at 0x7fc858313270>"
      ]
     },
     "execution_count": 2,
     "metadata": {},
     "output_type": "execute_result"
    }
   ],
   "source": [
    "f"
   ]
  },
  {
   "cell_type": "code",
   "execution_count": 3,
   "metadata": {
    "collapsed": true
   },
   "outputs": [],
   "source": [
    "data = f.read()"
   ]
  },
  {
   "cell_type": "code",
   "execution_count": 4,
   "metadata": {
    "collapsed": false
   },
   "outputs": [
    {
     "data": {
      "text/plain": [
       "'id,name,salary,address\\n1,name1,1234,ad1\\n2,name2,4567,ad2\\n3,name3,8910,ad1\\n'"
      ]
     },
     "execution_count": 4,
     "metadata": {},
     "output_type": "execute_result"
    }
   ],
   "source": [
    "data"
   ]
  },
  {
   "cell_type": "code",
   "execution_count": 5,
   "metadata": {
    "collapsed": false
   },
   "outputs": [
    {
     "name": "stdout",
     "output_type": "stream",
     "text": [
      "id,name,salary,address\n",
      "1,name1,1234,ad1\n",
      "2,name2,4567,ad2\n",
      "3,name3,8910,ad1\n",
      "\n"
     ]
    }
   ],
   "source": [
    "print data"
   ]
  },
  {
   "cell_type": "code",
   "execution_count": 6,
   "metadata": {
    "collapsed": true
   },
   "outputs": [],
   "source": [
    "f.close()"
   ]
  },
  {
   "cell_type": "code",
   "execution_count": 7,
   "metadata": {
    "collapsed": false
   },
   "outputs": [
    {
     "name": "stdout",
     "output_type": "stream",
     "text": [
      "['id,name,salary,address\\n', '1,name1,1234,ad1\\n', '2,name2,4567,ad2\\n', '3,name3,8910,ad1\\n']\n"
     ]
    }
   ],
   "source": [
    "f=open('data.csv','r')\n",
    "data = f.readlines()\n",
    "print data"
   ]
  },
  {
   "cell_type": "code",
   "execution_count": 8,
   "metadata": {
    "collapsed": false
   },
   "outputs": [
    {
     "name": "stdout",
     "output_type": "stream",
     "text": [
      "data= id,name,salary,address\n",
      "1,name1,1234,ad1\n",
      "2,name2,4567,ad2\n",
      "3,name3,8910,ad1\n",
      "\n",
      "data1= \n"
     ]
    }
   ],
   "source": [
    "f=open('data.csv','r')\n",
    "data = f.read()\n",
    "print \"data=\",data\n",
    "data1 = f.read()\n",
    "print \"data1=\",data1"
   ]
  },
  {
   "cell_type": "code",
   "execution_count": 9,
   "metadata": {
    "collapsed": false
   },
   "outputs": [
    {
     "name": "stdout",
     "output_type": "stream",
     "text": [
      "data= id,name,salary,address\n",
      "1,name1,1234,ad1\n",
      "2,name2,4567,ad2\n",
      "3,name3,8910,ad1\n",
      "\n",
      "data1= id,name,salary,address\n",
      "1,name1,1234,ad1\n",
      "2,name2,4567,ad2\n",
      "3,name3,8910,ad1\n",
      "\n"
     ]
    }
   ],
   "source": [
    "f=open('data.csv','r')\n",
    "data = f.read()\n",
    "print \"data=\",data\n",
    "f.close()\n",
    "f=open('data.csv','r')\n",
    "data1 = f.read()\n",
    "print \"data1=\",data1"
   ]
  },
  {
   "cell_type": "code",
   "execution_count": 11,
   "metadata": {
    "collapsed": false
   },
   "outputs": [
    {
     "name": "stdout",
     "output_type": "stream",
     "text": [
      "opened:  0\n",
      "After read:  74\n",
      "data= id,name,salary,address\n",
      "1,name1,1234,ad1\n",
      "2,name2,4567,ad2\n",
      "3,name3,8910,ad1\n",
      "\n",
      "After second read: 74\n",
      "data1= \n",
      "Seeking the contrloer at first position\n",
      "Aftre seek:  0\n",
      "reading data from first\n",
      "data2: id,name,salary,address\n",
      "1,name1,1234,ad1\n",
      "2,name2,4567,ad2\n",
      "3,name3,8910,ad1\n",
      "\n",
      "seeking the controller at 9th position\n",
      "9\n",
      "reading data from 9th position\n",
      "data2: alary,address\n",
      "1,name1,1234,ad1\n",
      "2,name2,4567,ad2\n",
      "3,name3,8910,ad1\n",
      "\n"
     ]
    }
   ],
   "source": [
    "f=open('data.csv','r')\n",
    "print \"opened: \",f.tell()\n",
    "data = f.read()\n",
    "print \"After read: \",f.tell()\n",
    "print \"data=\",data\n",
    "data1 = f.read()\n",
    "print \"After second read:\",f.tell()\n",
    "print \"data1=\",data1\n",
    "print \"Seeking the contrloer at first position\"\n",
    "f.seek(0)\n",
    "print \"Aftre seek: \",f.tell()\n",
    "print \"reading data from first\"\n",
    "data2 = f.read()\n",
    "print \"data2:\",data2\n",
    "print \"seeking the controller at 9th position\"\n",
    "f.seek(9)\n",
    "print f.tell()\n",
    "print \"reading data from 9th position\"\n",
    "data3 = f.read()\n",
    "print \"data2:\",data3"
   ]
  },
  {
   "cell_type": "code",
   "execution_count": 12,
   "metadata": {
    "collapsed": false
   },
   "outputs": [
    {
     "name": "stdout",
     "output_type": "stream",
     "text": [
      "id,name,salary,address\n",
      "\n"
     ]
    }
   ],
   "source": [
    "f=open('data.csv')\n",
    "print f.readline()"
   ]
  },
  {
   "cell_type": "code",
   "execution_count": 13,
   "metadata": {
    "collapsed": false
   },
   "outputs": [
    {
     "data": {
      "text/plain": [
       "'1,name1,1234,ad1\\n'"
      ]
     },
     "execution_count": 13,
     "metadata": {},
     "output_type": "execute_result"
    }
   ],
   "source": [
    "f.readline()"
   ]
  },
  {
   "cell_type": "code",
   "execution_count": 14,
   "metadata": {
    "collapsed": false
   },
   "outputs": [
    {
     "data": {
      "text/plain": [
       "'2,name2,4567,ad2\\n'"
      ]
     },
     "execution_count": 14,
     "metadata": {},
     "output_type": "execute_result"
    }
   ],
   "source": [
    "f.readline()"
   ]
  },
  {
   "cell_type": "code",
   "execution_count": 15,
   "metadata": {
    "collapsed": false
   },
   "outputs": [
    {
     "name": "stdout",
     "output_type": "stream",
     "text": [
      "first line: id,name,salary,address\n",
      "\n",
      "data: 1,name1,1234,ad1\n",
      "2,name2,4567,ad2\n",
      "3,name3,8910,ad1\n",
      "\n"
     ]
    }
   ],
   "source": [
    "f=open('data.csv')\n",
    "print \"first line:\",f.readline()\n",
    "print \"data:\",f.read()"
   ]
  },
  {
   "cell_type": "code",
   "execution_count": 16,
   "metadata": {
    "collapsed": true
   },
   "outputs": [],
   "source": [
    "f=open('data1.csv','w')"
   ]
  },
  {
   "cell_type": "code",
   "execution_count": 17,
   "metadata": {
    "collapsed": true
   },
   "outputs": [],
   "source": [
    "f=open('data1.csv','w')\n",
    "f.write(\"this is the first line of the file\")"
   ]
  },
  {
   "cell_type": "code",
   "execution_count": 18,
   "metadata": {
    "collapsed": true
   },
   "outputs": [],
   "source": [
    "f=open('data1.csv','w')\n",
    "f.write(\"this is the first line of the file\")\n",
    "f.close()"
   ]
  },
  {
   "cell_type": "code",
   "execution_count": 19,
   "metadata": {
    "collapsed": true
   },
   "outputs": [],
   "source": [
    "f=open('data1.csv','w')"
   ]
  },
  {
   "cell_type": "code",
   "execution_count": 20,
   "metadata": {
    "collapsed": true
   },
   "outputs": [],
   "source": [
    "f=open('data1.csv','w')\n",
    "f.write(\"this is the first line of the file\\n\")\n",
    "f.write(\"this is the second line of the file\")\n",
    "\n",
    "f.close()\n"
   ]
  },
  {
   "cell_type": "code",
   "execution_count": 22,
   "metadata": {
    "collapsed": true
   },
   "outputs": [],
   "source": [
    "f=open('data1.csv','w')\n",
    "f.write(\"this is the first line of the file\\n\")\n",
    "f.write(\"this is the second line of the file\\n\")\n",
    "f.write(\"this is the second line of the file\\n\")\n",
    "f.flush()\n",
    "f.write(\"this is the fourth line of the file\")"
   ]
  },
  {
   "cell_type": "code",
   "execution_count": 23,
   "metadata": {
    "collapsed": false
   },
   "outputs": [
    {
     "ename": "ValueError",
     "evalue": "I/O operation on closed file",
     "output_type": "error",
     "traceback": [
      "\u001b[1;31m---------------------------------------------------------------------------\u001b[0m",
      "\u001b[1;31mValueError\u001b[0m                                Traceback (most recent call last)",
      "\u001b[1;32m<ipython-input-23-d47143bca482>\u001b[0m in \u001b[0;36m<module>\u001b[1;34m()\u001b[0m\n\u001b[0;32m      4\u001b[0m \u001b[0mf\u001b[0m\u001b[1;33m.\u001b[0m\u001b[0mclose\u001b[0m\u001b[1;33m(\u001b[0m\u001b[1;33m)\u001b[0m\u001b[1;33m\u001b[0m\u001b[0m\n\u001b[0;32m      5\u001b[0m \u001b[1;33m\u001b[0m\u001b[0m\n\u001b[1;32m----> 6\u001b[1;33m \u001b[0mf\u001b[0m\u001b[1;33m.\u001b[0m\u001b[0mwrite\u001b[0m\u001b[1;33m(\u001b[0m\u001b[1;34m\"this is the third line of the file\"\u001b[0m\u001b[1;33m)\u001b[0m\u001b[1;33m\u001b[0m\u001b[0m\n\u001b[0m",
      "\u001b[1;31mValueError\u001b[0m: I/O operation on closed file"
     ]
    }
   ],
   "source": [
    "f=open('data1.csv','w')\n",
    "f.write(\"this is the first line of the file\\n\")\n",
    "f.write(\"this is the second line of the file\\n\")\n",
    "f.close()\n",
    "\n",
    "f.write(\"this is the third line of the file\")"
   ]
  },
  {
   "cell_type": "code",
   "execution_count": 24,
   "metadata": {
    "collapsed": true
   },
   "outputs": [],
   "source": [
    "f=open('data1.csv','w')\n",
    "f.write(\"this is the first line of the file\\n\")\n",
    "f.write(\"this is the second line of the file\\n\")\n",
    "f.write(\"this is the third line of the file\\n\")\n",
    "f.flush()\n",
    "f.write(\"this is the fourth line of the file\")"
   ]
  },
  {
   "cell_type": "code",
   "execution_count": null,
   "metadata": {
    "collapsed": true
   },
   "outputs": [],
   "source": []
  }
 ],
 "metadata": {
  "kernelspec": {
   "display_name": "Python 2",
   "language": "python",
   "name": "python2"
  },
  "language_info": {
   "codemirror_mode": {
    "name": "ipython",
    "version": 2
   },
   "file_extension": ".py",
   "mimetype": "text/x-python",
   "name": "python",
   "nbconvert_exporter": "python",
   "pygments_lexer": "ipython2",
   "version": "2.7.11"
  }
 },
 "nbformat": 4,
 "nbformat_minor": 0
}
