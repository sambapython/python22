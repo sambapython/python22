{
 "cells": [
  {
   "cell_type": "code",
   "execution_count": 1,
   "metadata": {
    "collapsed": true
   },
   "outputs": [],
   "source": [
    "s=\"python program\""
   ]
  },
  {
   "cell_type": "code",
   "execution_count": 2,
   "metadata": {
    "collapsed": false
   },
   "outputs": [
    {
     "data": {
      "text/plain": [
       "3"
      ]
     },
     "execution_count": 2,
     "metadata": {},
     "output_type": "execute_result"
    }
   ],
   "source": [
    "s.find('hon')"
   ]
  },
  {
   "cell_type": "code",
   "execution_count": 3,
   "metadata": {
    "collapsed": false
   },
   "outputs": [
    {
     "data": {
      "text/plain": [
       "3"
      ]
     },
     "execution_count": 3,
     "metadata": {},
     "output_type": "execute_result"
    }
   ],
   "source": [
    "s.rfind(\"hon\")"
   ]
  },
  {
   "cell_type": "code",
   "execution_count": 4,
   "metadata": {
    "collapsed": false
   },
   "outputs": [
    {
     "data": {
      "text/plain": [
       "0"
      ]
     },
     "execution_count": 4,
     "metadata": {},
     "output_type": "execute_result"
    }
   ],
   "source": [
    "s.find('p')"
   ]
  },
  {
   "cell_type": "code",
   "execution_count": 5,
   "metadata": {
    "collapsed": false
   },
   "outputs": [
    {
     "data": {
      "text/plain": [
       "7"
      ]
     },
     "execution_count": 5,
     "metadata": {},
     "output_type": "execute_result"
    }
   ],
   "source": [
    "s.rfind('p')"
   ]
  },
  {
   "cell_type": "code",
   "execution_count": 6,
   "metadata": {
    "collapsed": false
   },
   "outputs": [
    {
     "name": "stdout",
     "output_type": "stream",
     "text": [
      "3\n",
      "10\n"
     ]
    }
   ],
   "source": [
    "s=\"python prohongram\"\n",
    "print s.find('hon')\n",
    "print s.rfind('hon')"
   ]
  },
  {
   "cell_type": "code",
   "execution_count": 7,
   "metadata": {
    "collapsed": false
   },
   "outputs": [
    {
     "data": {
      "text/plain": [
       "True"
      ]
     },
     "execution_count": 7,
     "metadata": {},
     "output_type": "execute_result"
    }
   ],
   "source": [
    "\"abcd\".isalpha()"
   ]
  },
  {
   "cell_type": "code",
   "execution_count": 8,
   "metadata": {
    "collapsed": false
   },
   "outputs": [
    {
     "data": {
      "text/plain": [
       "True"
      ]
     },
     "execution_count": 8,
     "metadata": {},
     "output_type": "execute_result"
    }
   ],
   "source": [
    "\"abCD\".isalpha()"
   ]
  },
  {
   "cell_type": "code",
   "execution_count": 9,
   "metadata": {
    "collapsed": false
   },
   "outputs": [
    {
     "data": {
      "text/plain": [
       "False"
      ]
     },
     "execution_count": 9,
     "metadata": {},
     "output_type": "execute_result"
    }
   ],
   "source": [
    "\"abcd@#$\".isalpha()"
   ]
  },
  {
   "cell_type": "code",
   "execution_count": 10,
   "metadata": {
    "collapsed": false
   },
   "outputs": [
    {
     "data": {
      "text/plain": [
       "False"
      ]
     },
     "execution_count": 10,
     "metadata": {},
     "output_type": "execute_result"
    }
   ],
   "source": [
    "\"abcd123\".isalpha()"
   ]
  },
  {
   "cell_type": "code",
   "execution_count": 11,
   "metadata": {
    "collapsed": false
   },
   "outputs": [
    {
     "data": {
      "text/plain": [
       "False"
      ]
     },
     "execution_count": 11,
     "metadata": {},
     "output_type": "execute_result"
    }
   ],
   "source": [
    "\"\".isalpha()"
   ]
  },
  {
   "cell_type": "code",
   "execution_count": 12,
   "metadata": {
    "collapsed": false
   },
   "outputs": [
    {
     "data": {
      "text/plain": [
       "False"
      ]
     },
     "execution_count": 12,
     "metadata": {},
     "output_type": "execute_result"
    }
   ],
   "source": [
    "\"\".isupper()"
   ]
  },
  {
   "cell_type": "code",
   "execution_count": 13,
   "metadata": {
    "collapsed": false
   },
   "outputs": [
    {
     "data": {
      "text/plain": [
       "True"
      ]
     },
     "execution_count": 13,
     "metadata": {},
     "output_type": "execute_result"
    }
   ],
   "source": [
    "\"abc123\".isalnum()"
   ]
  },
  {
   "cell_type": "code",
   "execution_count": 14,
   "metadata": {
    "collapsed": false
   },
   "outputs": [
    {
     "data": {
      "text/plain": [
       "True"
      ]
     },
     "execution_count": 14,
     "metadata": {},
     "output_type": "execute_result"
    }
   ],
   "source": [
    "\"abc\".isalnum()"
   ]
  },
  {
   "cell_type": "code",
   "execution_count": 15,
   "metadata": {
    "collapsed": false
   },
   "outputs": [
    {
     "data": {
      "text/plain": [
       "True"
      ]
     },
     "execution_count": 15,
     "metadata": {},
     "output_type": "execute_result"
    }
   ],
   "source": [
    "\"123\".isalnum()"
   ]
  },
  {
   "cell_type": "code",
   "execution_count": 16,
   "metadata": {
    "collapsed": false
   },
   "outputs": [
    {
     "data": {
      "text/plain": [
       "False"
      ]
     },
     "execution_count": 16,
     "metadata": {},
     "output_type": "execute_result"
    }
   ],
   "source": [
    "\"abcd123@\".isalnum()"
   ]
  },
  {
   "cell_type": "code",
   "execution_count": 17,
   "metadata": {
    "collapsed": false
   },
   "outputs": [
    {
     "name": "stdout",
     "output_type": "stream",
     "text": [
      "Enter a string:123\n",
      "given string doesnot contains special chars\n"
     ]
    }
   ],
   "source": [
    "s=raw_input(\"Enter a string:\")\n",
    "if s.isalnum():\n",
    "    print \"given string doesnot contains special chars\"\n",
    "else:\n",
    "    print \"it contains special chars\""
   ]
  },
  {
   "cell_type": "code",
   "execution_count": 18,
   "metadata": {
    "collapsed": false
   },
   "outputs": [
    {
     "name": "stdout",
     "output_type": "stream",
     "text": [
      "Enter a string:pyton\n",
      "given string doesnot contains special chars\n"
     ]
    }
   ],
   "source": [
    "s=raw_input(\"Enter a string:\")\n",
    "if s.isalnum():\n",
    "    print \"given string doesnot contains special chars\"\n",
    "else:\n",
    "    print \"it contains special chars\""
   ]
  },
  {
   "cell_type": "code",
   "execution_count": 19,
   "metadata": {
    "collapsed": false
   },
   "outputs": [
    {
     "name": "stdout",
     "output_type": "stream",
     "text": [
      "Enter a string:andl123\n",
      "given string doesnot contains special chars\n"
     ]
    }
   ],
   "source": [
    "s=raw_input(\"Enter a string:\")\n",
    "if s.isalnum():\n",
    "    print \"given string doesnot contains special chars\"\n",
    "else:\n",
    "    print \"it contains special chars\""
   ]
  },
  {
   "cell_type": "code",
   "execution_count": 20,
   "metadata": {
    "collapsed": false
   },
   "outputs": [
    {
     "name": "stdout",
     "output_type": "stream",
     "text": [
      "Enter a string:alsdjkd123#$%\n",
      "it contains special chars\n"
     ]
    }
   ],
   "source": [
    "s=raw_input(\"Enter a string:\")\n",
    "if s.isalnum():\n",
    "    print \"given string doesnot contains special chars\"\n",
    "else:\n",
    "    print \"it contains special chars\""
   ]
  },
  {
   "cell_type": "code",
   "execution_count": 21,
   "metadata": {
    "collapsed": false
   },
   "outputs": [
    {
     "name": "stdout",
     "output_type": "stream",
     "text": [
      "Enter a string:\n",
      "it contains special chars\n"
     ]
    }
   ],
   "source": [
    "s=raw_input(\"Enter a string:\")\n",
    "if s.isalnum():\n",
    "    print \"given string doesnot contains special chars\"\n",
    "else:\n",
    "    print \"it contains special chars\""
   ]
  },
  {
   "cell_type": "code",
   "execution_count": 22,
   "metadata": {
    "collapsed": false
   },
   "outputs": [
    {
     "name": "stdout",
     "output_type": "stream",
     "text": [
      "Enter string:python\n",
      "Entered:  python\n"
     ]
    }
   ],
   "source": [
    "s=raw_input(\"Enter string:\")\n",
    "if s == \"\":\n",
    "    print \"not entered\"\n",
    "else:\n",
    "    print \"Entered: \",s"
   ]
  },
  {
   "cell_type": "code",
   "execution_count": 23,
   "metadata": {
    "collapsed": false
   },
   "outputs": [
    {
     "name": "stdout",
     "output_type": "stream",
     "text": [
      "Enter string:\n",
      "not entered\n"
     ]
    }
   ],
   "source": [
    "s=raw_input(\"Enter string:\")\n",
    "if s == \"\":\n",
    "    print \"not entered\"\n",
    "else:\n",
    "    print \"Entered: \",s"
   ]
  },
  {
   "cell_type": "code",
   "execution_count": 24,
   "metadata": {
    "collapsed": false
   },
   "outputs": [
    {
     "name": "stdout",
     "output_type": "stream",
     "text": [
      "Enter string:dfsdfsd\n",
      "Entered:  dfsdfsd\n"
     ]
    }
   ],
   "source": [
    "s=raw_input(\"Enter string:\")\n",
    "if len(s)>0:\n",
    "    print \"Entered: \",s\n",
    "else:\n",
    "    print \"not entered\"\n",
    "    "
   ]
  },
  {
   "cell_type": "code",
   "execution_count": 25,
   "metadata": {
    "collapsed": false
   },
   "outputs": [
    {
     "name": "stdout",
     "output_type": "stream",
     "text": [
      "Enter string:\n",
      "not entered\n"
     ]
    }
   ],
   "source": [
    "s=raw_input(\"Enter string:\")\n",
    "if len(s)>0:\n",
    "    print \"Entered: \",s\n",
    "else:\n",
    "    print \"not entered\"\n",
    "    "
   ]
  },
  {
   "cell_type": "code",
   "execution_count": 35,
   "metadata": {
    "collapsed": false
   },
   "outputs": [
    {
     "name": "stdout",
     "output_type": "stream",
     "text": [
      "0 is false\n"
     ]
    }
   ],
   "source": [
    "if 0:\n",
    "    print \"0 is true\"\n",
    "else:\n",
    "    print \"0 is false\""
   ]
  },
  {
   "cell_type": "code",
   "execution_count": 26,
   "metadata": {
    "collapsed": false
   },
   "outputs": [
    {
     "data": {
      "text/plain": [
       "False"
      ]
     },
     "execution_count": 26,
     "metadata": {},
     "output_type": "execute_result"
    }
   ],
   "source": [
    "bool(0)"
   ]
  },
  {
   "cell_type": "code",
   "execution_count": 27,
   "metadata": {
    "collapsed": false
   },
   "outputs": [
    {
     "data": {
      "text/plain": [
       "True"
      ]
     },
     "execution_count": 27,
     "metadata": {},
     "output_type": "execute_result"
    }
   ],
   "source": [
    "bool(1)"
   ]
  },
  {
   "cell_type": "code",
   "execution_count": 28,
   "metadata": {
    "collapsed": false
   },
   "outputs": [
    {
     "data": {
      "text/plain": [
       "True"
      ]
     },
     "execution_count": 28,
     "metadata": {},
     "output_type": "execute_result"
    }
   ],
   "source": [
    "bool(-10)"
   ]
  },
  {
   "cell_type": "code",
   "execution_count": 29,
   "metadata": {
    "collapsed": false
   },
   "outputs": [
    {
     "data": {
      "text/plain": [
       "True"
      ]
     },
     "execution_count": 29,
     "metadata": {},
     "output_type": "execute_result"
    }
   ],
   "source": [
    "bool(\"0\")"
   ]
  },
  {
   "cell_type": "code",
   "execution_count": 30,
   "metadata": {
    "collapsed": false
   },
   "outputs": [
    {
     "data": {
      "text/plain": [
       "True"
      ]
     },
     "execution_count": 30,
     "metadata": {},
     "output_type": "execute_result"
    }
   ],
   "source": [
    "bool(\"ptyo\")"
   ]
  },
  {
   "cell_type": "code",
   "execution_count": 31,
   "metadata": {
    "collapsed": false
   },
   "outputs": [
    {
     "data": {
      "text/plain": [
       "False"
      ]
     },
     "execution_count": 31,
     "metadata": {},
     "output_type": "execute_result"
    }
   ],
   "source": [
    "bool(\"\")"
   ]
  },
  {
   "cell_type": "code",
   "execution_count": 32,
   "metadata": {
    "collapsed": false
   },
   "outputs": [
    {
     "data": {
      "text/plain": [
       "False"
      ]
     },
     "execution_count": 32,
     "metadata": {},
     "output_type": "execute_result"
    }
   ],
   "source": [
    "bool([])"
   ]
  },
  {
   "cell_type": "code",
   "execution_count": 33,
   "metadata": {
    "collapsed": false
   },
   "outputs": [
    {
     "data": {
      "text/plain": [
       "False"
      ]
     },
     "execution_count": 33,
     "metadata": {},
     "output_type": "execute_result"
    }
   ],
   "source": [
    "bool(())"
   ]
  },
  {
   "cell_type": "code",
   "execution_count": 34,
   "metadata": {
    "collapsed": false
   },
   "outputs": [
    {
     "data": {
      "text/plain": [
       "False"
      ]
     },
     "execution_count": 34,
     "metadata": {},
     "output_type": "execute_result"
    }
   ],
   "source": [
    "bool({})"
   ]
  },
  {
   "cell_type": "code",
   "execution_count": 36,
   "metadata": {
    "collapsed": false
   },
   "outputs": [
    {
     "name": "stdout",
     "output_type": "stream",
     "text": [
      "Enter a string:python\n",
      "s is true\n"
     ]
    }
   ],
   "source": [
    "s=raw_input(\"Enter a string:\")\n",
    "if s:\n",
    "    print \"s is true\"\n",
    "else:\n",
    "    print \"s is false\""
   ]
  },
  {
   "cell_type": "code",
   "execution_count": 37,
   "metadata": {
    "collapsed": false
   },
   "outputs": [
    {
     "name": "stdout",
     "output_type": "stream",
     "text": [
      "Enter a string:123\n",
      "s is true\n"
     ]
    }
   ],
   "source": [
    "s=raw_input(\"Enter a string:\")\n",
    "if s:\n",
    "    print \"s is true\"\n",
    "else:\n",
    "    print \"s is false\""
   ]
  },
  {
   "cell_type": "code",
   "execution_count": 38,
   "metadata": {
    "collapsed": false
   },
   "outputs": [
    {
     "name": "stdout",
     "output_type": "stream",
     "text": [
      "Enter a string:0\n",
      "s is true\n"
     ]
    }
   ],
   "source": [
    "s=raw_input(\"Enter a string:\")\n",
    "if s:\n",
    "    print \"s is true\"\n",
    "else:\n",
    "    print \"s is false\""
   ]
  },
  {
   "cell_type": "code",
   "execution_count": 39,
   "metadata": {
    "collapsed": false
   },
   "outputs": [
    {
     "name": "stdout",
     "output_type": "stream",
     "text": [
      "Enter a string:\n",
      "s is false\n"
     ]
    }
   ],
   "source": [
    "s=raw_input(\"Enter a string:\")\n",
    "if s:\n",
    "    print \"s is true\"\n",
    "else:\n",
    "    print \"s is false\""
   ]
  },
  {
   "cell_type": "code",
   "execution_count": 40,
   "metadata": {
    "collapsed": false
   },
   "outputs": [
    {
     "name": "stdout",
     "output_type": "stream",
     "text": [
      "10<20 is true\n"
     ]
    }
   ],
   "source": [
    "if 10<20:\n",
    "    print \"10<20 is true\""
   ]
  },
  {
   "cell_type": "code",
   "execution_count": 41,
   "metadata": {
    "collapsed": false
   },
   "outputs": [
    {
     "data": {
      "text/plain": [
       "True"
      ]
     },
     "execution_count": 41,
     "metadata": {},
     "output_type": "execute_result"
    }
   ],
   "source": [
    "bool(10<20)"
   ]
  },
  {
   "cell_type": "code",
   "execution_count": 42,
   "metadata": {
    "collapsed": false
   },
   "outputs": [
    {
     "data": {
      "text/plain": [
       "False"
      ]
     },
     "execution_count": 42,
     "metadata": {},
     "output_type": "execute_result"
    }
   ],
   "source": [
    "bool(10>20)"
   ]
  },
  {
   "cell_type": "code",
   "execution_count": 43,
   "metadata": {
    "collapsed": false
   },
   "outputs": [
    {
     "name": "stdout",
     "output_type": "stream",
     "text": [
      "1\n",
      "2\n"
     ]
    }
   ],
   "source": [
    "s=\"abcd\"\n",
    "s1=\"abcdasdfg\"\n",
    "print s.count('a')\n",
    "print s1.count('a')"
   ]
  },
  {
   "cell_type": "code",
   "execution_count": 44,
   "metadata": {
    "collapsed": false
   },
   "outputs": [
    {
     "data": {
      "text/plain": [
       "0"
      ]
     },
     "execution_count": 44,
     "metadata": {},
     "output_type": "execute_result"
    }
   ],
   "source": [
    "s.count(\"python\")"
   ]
  },
  {
   "cell_type": "code",
   "execution_count": 45,
   "metadata": {
    "collapsed": false
   },
   "outputs": [
    {
     "name": "stdout",
     "output_type": "stream",
     "text": [
      "p\n",
      "y\n",
      "t\n",
      "h\n",
      "o\n",
      "n\n",
      " \n",
      "p\n",
      "r\n",
      "o\n",
      "g\n",
      "r\n",
      "a\n",
      "m\n"
     ]
    }
   ],
   "source": [
    "for char in \"python program\":\n",
    "    print char"
   ]
  },
  {
   "cell_type": "code",
   "execution_count": 46,
   "metadata": {
    "collapsed": false
   },
   "outputs": [
    {
     "name": "stdout",
     "output_type": "stream",
     "text": [
      "p = 3\n",
      "y = 1\n",
      "t = 3\n",
      "h = 1\n",
      "o = 4\n",
      "n = 4\n",
      "  = 6\n",
      "i = 3\n",
      "s = 1\n",
      "  = 6\n",
      "p = 3\n",
      "u = 2\n",
      "r = 4\n",
      "e = 5\n",
      "  = 6\n",
      "o = 4\n",
      "b = 1\n",
      "j = 1\n",
      "e = 5\n",
      "c = 1\n",
      "t = 3\n",
      "  = 6\n",
      "o = 4\n",
      "r = 4\n",
      "i = 3\n",
      "e = 5\n",
      "n = 4\n",
      "t = 3\n",
      "e = 5\n",
      "d = 1\n",
      "  = 6\n",
      "p = 3\n",
      "r = 4\n",
      "o = 4\n",
      "g = 4\n",
      "r = 4\n",
      "a = 3\n",
      "m = 1\n",
      "i = 3\n",
      "n = 4\n",
      "g = 4\n",
      "  = 6\n",
      "l = 1\n",
      "a = 3\n",
      "n = 4\n",
      "g = 4\n",
      "u = 2\n",
      "a = 3\n",
      "g = 4\n",
      "e = 5\n"
     ]
    }
   ],
   "source": [
    "s=\"python is pure object oriented programing language\"\n",
    "for char in s:\n",
    "    print char,\"=\",s.count(char)"
   ]
  },
  {
   "cell_type": "code",
   "execution_count": 47,
   "metadata": {
    "collapsed": false
   },
   "outputs": [
    {
     "name": "stdout",
     "output_type": "stream",
     "text": [
      "p is repeated\n",
      "y is not rpeated\n",
      "t is repeated\n",
      "h is not rpeated\n",
      "o is repeated\n",
      "n is repeated\n",
      "  is repeated\n",
      "i is repeated\n",
      "s is not rpeated\n",
      "  is repeated\n",
      "p is repeated\n",
      "u is repeated\n",
      "r is repeated\n",
      "e is repeated\n",
      "  is repeated\n",
      "o is repeated\n",
      "b is not rpeated\n",
      "j is not rpeated\n",
      "e is repeated\n",
      "c is not rpeated\n",
      "t is repeated\n",
      "  is repeated\n",
      "o is repeated\n",
      "r is repeated\n",
      "i is repeated\n",
      "e is repeated\n",
      "n is repeated\n",
      "t is repeated\n",
      "e is repeated\n",
      "d is not rpeated\n",
      "  is repeated\n",
      "p is repeated\n",
      "r is repeated\n",
      "o is repeated\n",
      "g is repeated\n",
      "r is repeated\n",
      "a is repeated\n",
      "m is not rpeated\n",
      "i is repeated\n",
      "n is repeated\n",
      "g is repeated\n",
      "  is repeated\n",
      "l is not rpeated\n",
      "a is repeated\n",
      "n is repeated\n",
      "g is repeated\n",
      "u is repeated\n",
      "a is repeated\n",
      "g is repeated\n",
      "e is repeated\n"
     ]
    }
   ],
   "source": [
    "s=\"python is pure object oriented programing language\"\n",
    "for char in s:\n",
    "    if s.count(char) == 1:\n",
    "        print char,\"is not rpeated\"\n",
    "    else:\n",
    "        print char,\"is repeated\"\n",
    "    "
   ]
  },
  {
   "cell_type": "code",
   "execution_count": 48,
   "metadata": {
    "collapsed": false
   },
   "outputs": [
    {
     "name": "stdout",
     "output_type": "stream",
     "text": [
      "p is repeated 3\n",
      "y is not rpeated\n",
      "t is repeated 3\n",
      "h is not rpeated\n",
      "o is repeated 4\n",
      "n is repeated 4\n",
      "  is repeated 6\n",
      "i is repeated 3\n",
      "s is not rpeated\n",
      "  is repeated 6\n",
      "p is repeated 3\n",
      "u is repeated 2\n",
      "r is repeated 4\n",
      "e is repeated 5\n",
      "  is repeated 6\n",
      "o is repeated 4\n",
      "b is not rpeated\n",
      "j is not rpeated\n",
      "e is repeated 5\n",
      "c is not rpeated\n",
      "t is repeated 3\n",
      "  is repeated 6\n",
      "o is repeated 4\n",
      "r is repeated 4\n",
      "i is repeated 3\n",
      "e is repeated 5\n",
      "n is repeated 4\n",
      "t is repeated 3\n",
      "e is repeated 5\n",
      "d is not rpeated\n",
      "  is repeated 6\n",
      "p is repeated 3\n",
      "r is repeated 4\n",
      "o is repeated 4\n",
      "g is repeated 4\n",
      "r is repeated 4\n",
      "a is repeated 3\n",
      "m is not rpeated\n",
      "i is repeated 3\n",
      "n is repeated 4\n",
      "g is repeated 4\n",
      "  is repeated 6\n",
      "l is not rpeated\n",
      "a is repeated 3\n",
      "n is repeated 4\n",
      "g is repeated 4\n",
      "u is repeated 2\n",
      "a is repeated 3\n",
      "g is repeated 4\n",
      "e is repeated 5\n"
     ]
    }
   ],
   "source": [
    "s=\"python is pure object oriented programing language\"\n",
    "for char in s:\n",
    "    if s.count(char) == 1:\n",
    "        print char,\"is not rpeated\"\n",
    "    else:\n",
    "        print char,\"is repeated\",s.count(char)\n",
    "    "
   ]
  },
  {
   "cell_type": "code",
   "execution_count": 49,
   "metadata": {
    "collapsed": false
   },
   "outputs": [
    {
     "name": "stdout",
     "output_type": "stream",
     "text": [
      "p is repeated 3\n",
      "y is not rpeated\n",
      "t is repeated 3\n",
      "h is not rpeated\n",
      "o is repeated 4\n",
      "n is repeated 4\n",
      "  is repeated 6\n",
      "i is repeated 3\n",
      "s is not rpeated\n",
      "  is repeated 6\n",
      "p is repeated 3\n",
      "u is repeated 2\n",
      "r is repeated 4\n",
      "e is repeated 5\n",
      "  is repeated 6\n",
      "o is repeated 4\n",
      "b is not rpeated\n",
      "j is not rpeated\n",
      "e is repeated 5\n",
      "c is not rpeated\n",
      "t is repeated 3\n",
      "  is repeated 6\n",
      "o is repeated 4\n",
      "r is repeated 4\n",
      "i is repeated 3\n",
      "e is repeated 5\n",
      "n is repeated 4\n",
      "t is repeated 3\n",
      "e is repeated 5\n",
      "d is not rpeated\n",
      "  is repeated 6\n",
      "p is repeated 3\n",
      "r is repeated 4\n",
      "o is repeated 4\n",
      "g is repeated 4\n",
      "r is repeated 4\n",
      "a is repeated 3\n",
      "m is not rpeated\n",
      "i is repeated 3\n",
      "n is repeated 4\n",
      "g is repeated 4\n",
      "  is repeated 6\n",
      "l is not rpeated\n",
      "a is repeated 3\n",
      "n is repeated 4\n",
      "g is repeated 4\n",
      "u is repeated 2\n",
      "a is repeated 3\n",
      "g is repeated 4\n",
      "e is repeated 5\n"
     ]
    }
   ],
   "source": [
    "#[SPACE]\n",
    "s=\"python is pure object oriented programing language\"\n",
    "for char in s:\n",
    "    res = s.count(char)\n",
    "    if res == 1:\n",
    "        print char,\"is not rpeated\"\n",
    "    else:\n",
    "        print char,\"is repeated\",res\n",
    "    "
   ]
  },
  {
   "cell_type": "code",
   "execution_count": 50,
   "metadata": {
    "collapsed": false
   },
   "outputs": [
    {
     "name": "stdout",
     "output_type": "stream",
     "text": [
      "p is repeated 3\n",
      "y is not rpeated\n",
      "t is repeated 3\n",
      "h is not rpeated\n",
      "o is repeated 4\n",
      "n is repeated 4\n",
      "  is repeated 6\n",
      "i is repeated 3\n",
      "s is not rpeated\n",
      "  is repeated 6\n",
      "p is repeated 3\n",
      "u is repeated 2\n",
      "r is repeated 4\n",
      "e is repeated 5\n",
      "  is repeated 6\n",
      "o is repeated 4\n",
      "b is not rpeated\n",
      "j is not rpeated\n",
      "e is repeated 5\n",
      "c is not rpeated\n",
      "t is repeated 3\n",
      "  is repeated 6\n",
      "o is repeated 4\n",
      "r is repeated 4\n",
      "i is repeated 3\n",
      "e is repeated 5\n",
      "n is repeated 4\n",
      "t is repeated 3\n",
      "e is repeated 5\n",
      "d is not rpeated\n",
      "  is repeated 6\n",
      "p is repeated 3\n",
      "r is repeated 4\n",
      "o is repeated 4\n",
      "g is repeated 4\n",
      "r is repeated 4\n",
      "a is repeated 3\n",
      "m is not rpeated\n",
      "i is repeated 3\n",
      "n is repeated 4\n",
      "g is repeated 4\n",
      "  is repeated 6\n",
      "l is not rpeated\n",
      "a is repeated 3\n",
      "n is repeated 4\n",
      "g is repeated 4\n",
      "u is repeated 2\n",
      "a is repeated 3\n",
      "g is repeated 4\n",
      "e is repeated 5\n"
     ]
    }
   ],
   "source": [
    "#[SPACE]\n",
    "s=\"python is pure object oriented programing language\"\n",
    "for char in s:\n",
    "    res = s.count(char)\n",
    "    if res == 1:\n",
    "        if char == \" \":\n",
    "            print \"[SPACE]\"\n",
    "        print char,\"is not rpeated\"\n",
    "    else:\n",
    "        print char,\"is repeated\",res\n",
    "    "
   ]
  },
  {
   "cell_type": "code",
   "execution_count": 51,
   "metadata": {
    "collapsed": false
   },
   "outputs": [
    {
     "name": "stdout",
     "output_type": "stream",
     "text": [
      "p is repeated 3\n",
      "y is not rpeated\n",
      "t is repeated 3\n",
      "h is not rpeated\n",
      "o is repeated 4\n",
      "n is repeated 4\n",
      "[SPACE]\n",
      "  is repeated 6\n",
      "i is repeated 3\n",
      "s is not rpeated\n",
      "[SPACE]\n",
      "  is repeated 6\n",
      "p is repeated 3\n",
      "u is repeated 2\n",
      "r is repeated 4\n",
      "e is repeated 5\n",
      "[SPACE]\n",
      "  is repeated 6\n",
      "o is repeated 4\n",
      "b is not rpeated\n",
      "j is not rpeated\n",
      "e is repeated 5\n",
      "c is not rpeated\n",
      "t is repeated 3\n",
      "[SPACE]\n",
      "  is repeated 6\n",
      "o is repeated 4\n",
      "r is repeated 4\n",
      "i is repeated 3\n",
      "e is repeated 5\n",
      "n is repeated 4\n",
      "t is repeated 3\n",
      "e is repeated 5\n",
      "d is not rpeated\n",
      "[SPACE]\n",
      "  is repeated 6\n",
      "p is repeated 3\n",
      "r is repeated 4\n",
      "o is repeated 4\n",
      "g is repeated 4\n",
      "r is repeated 4\n",
      "a is repeated 3\n",
      "m is not rpeated\n",
      "i is repeated 3\n",
      "n is repeated 4\n",
      "g is repeated 4\n",
      "[SPACE]\n",
      "  is repeated 6\n",
      "l is not rpeated\n",
      "a is repeated 3\n",
      "n is repeated 4\n",
      "g is repeated 4\n",
      "u is repeated 2\n",
      "a is repeated 3\n",
      "g is repeated 4\n",
      "e is repeated 5\n"
     ]
    }
   ],
   "source": [
    "#[SPACE]\n",
    "s=\"python is pure object oriented programing language\"\n",
    "for char in s:\n",
    "    res = s.count(char)\n",
    "    if res == 1:\n",
    "        if char == \" \":\n",
    "            print \"[SPACE]\"\n",
    "        print char,\"is not rpeated\"\n",
    "    else:\n",
    "        if char == \" \":\n",
    "            print \"[SPACE]\"\n",
    "        print char,\"is repeated\",res\n",
    "    "
   ]
  },
  {
   "cell_type": "code",
   "execution_count": 52,
   "metadata": {
    "collapsed": false
   },
   "outputs": [
    {
     "name": "stdout",
     "output_type": "stream",
     "text": [
      "p is repeated 3\n",
      "y is not rpeated\n",
      "t is repeated 3\n",
      "h is not rpeated\n",
      "o is repeated 4\n",
      "n is repeated 4\n",
      "[SPACE]\n",
      "  is repeated 6\n",
      "i is repeated 3\n",
      "s is not rpeated\n",
      "[SPACE]\n",
      "  is repeated 6\n",
      "p is repeated 3\n",
      "u is repeated 2\n",
      "r is repeated 4\n",
      "e is repeated 5\n",
      "[SPACE]\n",
      "  is repeated 6\n",
      "o is repeated 4\n",
      "b is not rpeated\n",
      "j is not rpeated\n",
      "e is repeated 5\n",
      "c is not rpeated\n",
      "t is repeated 3\n",
      "[SPACE]\n",
      "  is repeated 6\n",
      "o is repeated 4\n",
      "r is repeated 4\n",
      "i is repeated 3\n",
      "e is repeated 5\n",
      "n is repeated 4\n",
      "t is repeated 3\n",
      "e is repeated 5\n",
      "d is not rpeated\n",
      "[SPACE]\n",
      "  is repeated 6\n",
      "p is repeated 3\n",
      "r is repeated 4\n",
      "o is repeated 4\n",
      "g is repeated 4\n",
      "r is repeated 4\n",
      "a is repeated 3\n",
      "m is not rpeated\n",
      "i is repeated 3\n",
      "n is repeated 4\n",
      "g is repeated 4\n",
      "[SPACE]\n",
      "  is repeated 6\n",
      "l is not rpeated\n",
      "a is repeated 3\n",
      "n is repeated 4\n",
      "g is repeated 4\n",
      "u is repeated 2\n",
      "a is repeated 3\n",
      "g is repeated 4\n",
      "e is repeated 5\n"
     ]
    }
   ],
   "source": [
    "#[SPACE]\n",
    "s=\"python is pure object oriented programing language\"\n",
    "for char in s:\n",
    "    res = s.count(char)\n",
    "    if char == \" \":\n",
    "            print \"[SPACE]\"\n",
    "    if res == 1:\n",
    "        print char,\"is not rpeated\"\n",
    "    else:\n",
    "        print char,\"is repeated\",res\n",
    "    "
   ]
  },
  {
   "cell_type": "code",
   "execution_count": 53,
   "metadata": {
    "collapsed": false
   },
   "outputs": [
    {
     "name": "stdout",
     "output_type": "stream",
     "text": [
      "hello world\n",
      "hello world\n"
     ]
    }
   ],
   "source": [
    "print \"hello world\"\n",
    "print \"hello world\""
   ]
  },
  {
   "cell_type": "code",
   "execution_count": 55,
   "metadata": {
    "collapsed": false
   },
   "outputs": [],
   "source": [
    "#[SPACE]\n",
    "s=\"python is pure object oriented programing language\"\n",
    "output=\"\"\n",
    "for char in s:\n",
    "    res = s.count(char)\n",
    "    if char == \" \":\n",
    "           output = output+\"[space] \"\n",
    "    if res == 1:\n",
    "        output=output+char+\" is not rpeated\"\n",
    "    else:\n",
    "        output = output+char+\" is repeated\"+str(res)\n",
    "    "
   ]
  },
  {
   "cell_type": "code",
   "execution_count": 56,
   "metadata": {
    "collapsed": false
   },
   "outputs": [
    {
     "name": "stdout",
     "output_type": "stream",
     "text": [
      "p is repeated3\n",
      "p is repeated3y is not rpeated\n",
      "p is repeated3y is not rpeatedt is repeated3\n",
      "p is repeated3y is not rpeatedt is repeated3h is not rpeated\n",
      "p is repeated3y is not rpeatedt is repeated3h is not rpeatedo is repeated4\n",
      "p is repeated3y is not rpeatedt is repeated3h is not rpeatedo is repeated4n is repeated4\n",
      "p is repeated3y is not rpeatedt is repeated3h is not rpeatedo is repeated4n is repeated4[space]   is repeated6\n",
      "p is repeated3y is not rpeatedt is repeated3h is not rpeatedo is repeated4n is repeated4[space]   is repeated6i is repeated3\n",
      "p is repeated3y is not rpeatedt is repeated3h is not rpeatedo is repeated4n is repeated4[space]   is repeated6i is repeated3s is not rpeated\n",
      "p is repeated3y is not rpeatedt is repeated3h is not rpeatedo is repeated4n is repeated4[space]   is repeated6i is repeated3s is not rpeated[space]   is repeated6\n",
      "p is repeated3y is not rpeatedt is repeated3h is not rpeatedo is repeated4n is repeated4[space]   is repeated6i is repeated3s is not rpeated[space]   is repeated6p is repeated3\n",
      "p is repeated3y is not rpeatedt is repeated3h is not rpeatedo is repeated4n is repeated4[space]   is repeated6i is repeated3s is not rpeated[space]   is repeated6p is repeated3u is repeated2\n",
      "p is repeated3y is not rpeatedt is repeated3h is not rpeatedo is repeated4n is repeated4[space]   is repeated6i is repeated3s is not rpeated[space]   is repeated6p is repeated3u is repeated2r is repeated4\n",
      "p is repeated3y is not rpeatedt is repeated3h is not rpeatedo is repeated4n is repeated4[space]   is repeated6i is repeated3s is not rpeated[space]   is repeated6p is repeated3u is repeated2r is repeated4e is repeated5\n",
      "p is repeated3y is not rpeatedt is repeated3h is not rpeatedo is repeated4n is repeated4[space]   is repeated6i is repeated3s is not rpeated[space]   is repeated6p is repeated3u is repeated2r is repeated4e is repeated5[space]   is repeated6\n",
      "p is repeated3y is not rpeatedt is repeated3h is not rpeatedo is repeated4n is repeated4[space]   is repeated6i is repeated3s is not rpeated[space]   is repeated6p is repeated3u is repeated2r is repeated4e is repeated5[space]   is repeated6o is repeated4\n",
      "p is repeated3y is not rpeatedt is repeated3h is not rpeatedo is repeated4n is repeated4[space]   is repeated6i is repeated3s is not rpeated[space]   is repeated6p is repeated3u is repeated2r is repeated4e is repeated5[space]   is repeated6o is repeated4b is not rpeated\n",
      "p is repeated3y is not rpeatedt is repeated3h is not rpeatedo is repeated4n is repeated4[space]   is repeated6i is repeated3s is not rpeated[space]   is repeated6p is repeated3u is repeated2r is repeated4e is repeated5[space]   is repeated6o is repeated4b is not rpeatedj is not rpeated\n",
      "p is repeated3y is not rpeatedt is repeated3h is not rpeatedo is repeated4n is repeated4[space]   is repeated6i is repeated3s is not rpeated[space]   is repeated6p is repeated3u is repeated2r is repeated4e is repeated5[space]   is repeated6o is repeated4b is not rpeatedj is not rpeatede is repeated5\n",
      "p is repeated3y is not rpeatedt is repeated3h is not rpeatedo is repeated4n is repeated4[space]   is repeated6i is repeated3s is not rpeated[space]   is repeated6p is repeated3u is repeated2r is repeated4e is repeated5[space]   is repeated6o is repeated4b is not rpeatedj is not rpeatede is repeated5c is not rpeated\n",
      "p is repeated3y is not rpeatedt is repeated3h is not rpeatedo is repeated4n is repeated4[space]   is repeated6i is repeated3s is not rpeated[space]   is repeated6p is repeated3u is repeated2r is repeated4e is repeated5[space]   is repeated6o is repeated4b is not rpeatedj is not rpeatede is repeated5c is not rpeatedt is repeated3\n",
      "p is repeated3y is not rpeatedt is repeated3h is not rpeatedo is repeated4n is repeated4[space]   is repeated6i is repeated3s is not rpeated[space]   is repeated6p is repeated3u is repeated2r is repeated4e is repeated5[space]   is repeated6o is repeated4b is not rpeatedj is not rpeatede is repeated5c is not rpeatedt is repeated3[space]   is repeated6\n",
      "p is repeated3y is not rpeatedt is repeated3h is not rpeatedo is repeated4n is repeated4[space]   is repeated6i is repeated3s is not rpeated[space]   is repeated6p is repeated3u is repeated2r is repeated4e is repeated5[space]   is repeated6o is repeated4b is not rpeatedj is not rpeatede is repeated5c is not rpeatedt is repeated3[space]   is repeated6o is repeated4\n",
      "p is repeated3y is not rpeatedt is repeated3h is not rpeatedo is repeated4n is repeated4[space]   is repeated6i is repeated3s is not rpeated[space]   is repeated6p is repeated3u is repeated2r is repeated4e is repeated5[space]   is repeated6o is repeated4b is not rpeatedj is not rpeatede is repeated5c is not rpeatedt is repeated3[space]   is repeated6o is repeated4r is repeated4\n",
      "p is repeated3y is not rpeatedt is repeated3h is not rpeatedo is repeated4n is repeated4[space]   is repeated6i is repeated3s is not rpeated[space]   is repeated6p is repeated3u is repeated2r is repeated4e is repeated5[space]   is repeated6o is repeated4b is not rpeatedj is not rpeatede is repeated5c is not rpeatedt is repeated3[space]   is repeated6o is repeated4r is repeated4i is repeated3\n",
      "p is repeated3y is not rpeatedt is repeated3h is not rpeatedo is repeated4n is repeated4[space]   is repeated6i is repeated3s is not rpeated[space]   is repeated6p is repeated3u is repeated2r is repeated4e is repeated5[space]   is repeated6o is repeated4b is not rpeatedj is not rpeatede is repeated5c is not rpeatedt is repeated3[space]   is repeated6o is repeated4r is repeated4i is repeated3e is repeated5\n",
      "p is repeated3y is not rpeatedt is repeated3h is not rpeatedo is repeated4n is repeated4[space]   is repeated6i is repeated3s is not rpeated[space]   is repeated6p is repeated3u is repeated2r is repeated4e is repeated5[space]   is repeated6o is repeated4b is not rpeatedj is not rpeatede is repeated5c is not rpeatedt is repeated3[space]   is repeated6o is repeated4r is repeated4i is repeated3e is repeated5n is repeated4\n",
      "p is repeated3y is not rpeatedt is repeated3h is not rpeatedo is repeated4n is repeated4[space]   is repeated6i is repeated3s is not rpeated[space]   is repeated6p is repeated3u is repeated2r is repeated4e is repeated5[space]   is repeated6o is repeated4b is not rpeatedj is not rpeatede is repeated5c is not rpeatedt is repeated3[space]   is repeated6o is repeated4r is repeated4i is repeated3e is repeated5n is repeated4t is repeated3\n",
      "p is repeated3y is not rpeatedt is repeated3h is not rpeatedo is repeated4n is repeated4[space]   is repeated6i is repeated3s is not rpeated[space]   is repeated6p is repeated3u is repeated2r is repeated4e is repeated5[space]   is repeated6o is repeated4b is not rpeatedj is not rpeatede is repeated5c is not rpeatedt is repeated3[space]   is repeated6o is repeated4r is repeated4i is repeated3e is repeated5n is repeated4t is repeated3e is repeated5\n",
      "p is repeated3y is not rpeatedt is repeated3h is not rpeatedo is repeated4n is repeated4[space]   is repeated6i is repeated3s is not rpeated[space]   is repeated6p is repeated3u is repeated2r is repeated4e is repeated5[space]   is repeated6o is repeated4b is not rpeatedj is not rpeatede is repeated5c is not rpeatedt is repeated3[space]   is repeated6o is repeated4r is repeated4i is repeated3e is repeated5n is repeated4t is repeated3e is repeated5d is not rpeated\n",
      "p is repeated3y is not rpeatedt is repeated3h is not rpeatedo is repeated4n is repeated4[space]   is repeated6i is repeated3s is not rpeated[space]   is repeated6p is repeated3u is repeated2r is repeated4e is repeated5[space]   is repeated6o is repeated4b is not rpeatedj is not rpeatede is repeated5c is not rpeatedt is repeated3[space]   is repeated6o is repeated4r is repeated4i is repeated3e is repeated5n is repeated4t is repeated3e is repeated5d is not rpeated[space]   is repeated6\n",
      "p is repeated3y is not rpeatedt is repeated3h is not rpeatedo is repeated4n is repeated4[space]   is repeated6i is repeated3s is not rpeated[space]   is repeated6p is repeated3u is repeated2r is repeated4e is repeated5[space]   is repeated6o is repeated4b is not rpeatedj is not rpeatede is repeated5c is not rpeatedt is repeated3[space]   is repeated6o is repeated4r is repeated4i is repeated3e is repeated5n is repeated4t is repeated3e is repeated5d is not rpeated[space]   is repeated6p is repeated3\n",
      "p is repeated3y is not rpeatedt is repeated3h is not rpeatedo is repeated4n is repeated4[space]   is repeated6i is repeated3s is not rpeated[space]   is repeated6p is repeated3u is repeated2r is repeated4e is repeated5[space]   is repeated6o is repeated4b is not rpeatedj is not rpeatede is repeated5c is not rpeatedt is repeated3[space]   is repeated6o is repeated4r is repeated4i is repeated3e is repeated5n is repeated4t is repeated3e is repeated5d is not rpeated[space]   is repeated6p is repeated3r is repeated4\n",
      "p is repeated3y is not rpeatedt is repeated3h is not rpeatedo is repeated4n is repeated4[space]   is repeated6i is repeated3s is not rpeated[space]   is repeated6p is repeated3u is repeated2r is repeated4e is repeated5[space]   is repeated6o is repeated4b is not rpeatedj is not rpeatede is repeated5c is not rpeatedt is repeated3[space]   is repeated6o is repeated4r is repeated4i is repeated3e is repeated5n is repeated4t is repeated3e is repeated5d is not rpeated[space]   is repeated6p is repeated3r is repeated4o is repeated4\n",
      "p is repeated3y is not rpeatedt is repeated3h is not rpeatedo is repeated4n is repeated4[space]   is repeated6i is repeated3s is not rpeated[space]   is repeated6p is repeated3u is repeated2r is repeated4e is repeated5[space]   is repeated6o is repeated4b is not rpeatedj is not rpeatede is repeated5c is not rpeatedt is repeated3[space]   is repeated6o is repeated4r is repeated4i is repeated3e is repeated5n is repeated4t is repeated3e is repeated5d is not rpeated[space]   is repeated6p is repeated3r is repeated4o is repeated4g is repeated4\n",
      "p is repeated3y is not rpeatedt is repeated3h is not rpeatedo is repeated4n is repeated4[space]   is repeated6i is repeated3s is not rpeated[space]   is repeated6p is repeated3u is repeated2r is repeated4e is repeated5[space]   is repeated6o is repeated4b is not rpeatedj is not rpeatede is repeated5c is not rpeatedt is repeated3[space]   is repeated6o is repeated4r is repeated4i is repeated3e is repeated5n is repeated4t is repeated3e is repeated5d is not rpeated[space]   is repeated6p is repeated3r is repeated4o is repeated4g is repeated4r is repeated4\n",
      "p is repeated3y is not rpeatedt is repeated3h is not rpeatedo is repeated4n is repeated4[space]   is repeated6i is repeated3s is not rpeated[space]   is repeated6p is repeated3u is repeated2r is repeated4e is repeated5[space]   is repeated6o is repeated4b is not rpeatedj is not rpeatede is repeated5c is not rpeatedt is repeated3[space]   is repeated6o is repeated4r is repeated4i is repeated3e is repeated5n is repeated4t is repeated3e is repeated5d is not rpeated[space]   is repeated6p is repeated3r is repeated4o is repeated4g is repeated4r is repeated4a is repeated3\n",
      "p is repeated3y is not rpeatedt is repeated3h is not rpeatedo is repeated4n is repeated4[space]   is repeated6i is repeated3s is not rpeated[space]   is repeated6p is repeated3u is repeated2r is repeated4e is repeated5[space]   is repeated6o is repeated4b is not rpeatedj is not rpeatede is repeated5c is not rpeatedt is repeated3[space]   is repeated6o is repeated4r is repeated4i is repeated3e is repeated5n is repeated4t is repeated3e is repeated5d is not rpeated[space]   is repeated6p is repeated3r is repeated4o is repeated4g is repeated4r is repeated4a is repeated3m is not rpeated\n",
      "p is repeated3y is not rpeatedt is repeated3h is not rpeatedo is repeated4n is repeated4[space]   is repeated6i is repeated3s is not rpeated[space]   is repeated6p is repeated3u is repeated2r is repeated4e is repeated5[space]   is repeated6o is repeated4b is not rpeatedj is not rpeatede is repeated5c is not rpeatedt is repeated3[space]   is repeated6o is repeated4r is repeated4i is repeated3e is repeated5n is repeated4t is repeated3e is repeated5d is not rpeated[space]   is repeated6p is repeated3r is repeated4o is repeated4g is repeated4r is repeated4a is repeated3m is not rpeatedi is repeated3\n",
      "p is repeated3y is not rpeatedt is repeated3h is not rpeatedo is repeated4n is repeated4[space]   is repeated6i is repeated3s is not rpeated[space]   is repeated6p is repeated3u is repeated2r is repeated4e is repeated5[space]   is repeated6o is repeated4b is not rpeatedj is not rpeatede is repeated5c is not rpeatedt is repeated3[space]   is repeated6o is repeated4r is repeated4i is repeated3e is repeated5n is repeated4t is repeated3e is repeated5d is not rpeated[space]   is repeated6p is repeated3r is repeated4o is repeated4g is repeated4r is repeated4a is repeated3m is not rpeatedi is repeated3n is repeated4\n",
      "p is repeated3y is not rpeatedt is repeated3h is not rpeatedo is repeated4n is repeated4[space]   is repeated6i is repeated3s is not rpeated[space]   is repeated6p is repeated3u is repeated2r is repeated4e is repeated5[space]   is repeated6o is repeated4b is not rpeatedj is not rpeatede is repeated5c is not rpeatedt is repeated3[space]   is repeated6o is repeated4r is repeated4i is repeated3e is repeated5n is repeated4t is repeated3e is repeated5d is not rpeated[space]   is repeated6p is repeated3r is repeated4o is repeated4g is repeated4r is repeated4a is repeated3m is not rpeatedi is repeated3n is repeated4g is repeated4\n",
      "p is repeated3y is not rpeatedt is repeated3h is not rpeatedo is repeated4n is repeated4[space]   is repeated6i is repeated3s is not rpeated[space]   is repeated6p is repeated3u is repeated2r is repeated4e is repeated5[space]   is repeated6o is repeated4b is not rpeatedj is not rpeatede is repeated5c is not rpeatedt is repeated3[space]   is repeated6o is repeated4r is repeated4i is repeated3e is repeated5n is repeated4t is repeated3e is repeated5d is not rpeated[space]   is repeated6p is repeated3r is repeated4o is repeated4g is repeated4r is repeated4a is repeated3m is not rpeatedi is repeated3n is repeated4g is repeated4[space]   is repeated6\n",
      "p is repeated3y is not rpeatedt is repeated3h is not rpeatedo is repeated4n is repeated4[space]   is repeated6i is repeated3s is not rpeated[space]   is repeated6p is repeated3u is repeated2r is repeated4e is repeated5[space]   is repeated6o is repeated4b is not rpeatedj is not rpeatede is repeated5c is not rpeatedt is repeated3[space]   is repeated6o is repeated4r is repeated4i is repeated3e is repeated5n is repeated4t is repeated3e is repeated5d is not rpeated[space]   is repeated6p is repeated3r is repeated4o is repeated4g is repeated4r is repeated4a is repeated3m is not rpeatedi is repeated3n is repeated4g is repeated4[space]   is repeated6l is not rpeated\n",
      "p is repeated3y is not rpeatedt is repeated3h is not rpeatedo is repeated4n is repeated4[space]   is repeated6i is repeated3s is not rpeated[space]   is repeated6p is repeated3u is repeated2r is repeated4e is repeated5[space]   is repeated6o is repeated4b is not rpeatedj is not rpeatede is repeated5c is not rpeatedt is repeated3[space]   is repeated6o is repeated4r is repeated4i is repeated3e is repeated5n is repeated4t is repeated3e is repeated5d is not rpeated[space]   is repeated6p is repeated3r is repeated4o is repeated4g is repeated4r is repeated4a is repeated3m is not rpeatedi is repeated3n is repeated4g is repeated4[space]   is repeated6l is not rpeateda is repeated3\n",
      "p is repeated3y is not rpeatedt is repeated3h is not rpeatedo is repeated4n is repeated4[space]   is repeated6i is repeated3s is not rpeated[space]   is repeated6p is repeated3u is repeated2r is repeated4e is repeated5[space]   is repeated6o is repeated4b is not rpeatedj is not rpeatede is repeated5c is not rpeatedt is repeated3[space]   is repeated6o is repeated4r is repeated4i is repeated3e is repeated5n is repeated4t is repeated3e is repeated5d is not rpeated[space]   is repeated6p is repeated3r is repeated4o is repeated4g is repeated4r is repeated4a is repeated3m is not rpeatedi is repeated3n is repeated4g is repeated4[space]   is repeated6l is not rpeateda is repeated3n is repeated4\n",
      "p is repeated3y is not rpeatedt is repeated3h is not rpeatedo is repeated4n is repeated4[space]   is repeated6i is repeated3s is not rpeated[space]   is repeated6p is repeated3u is repeated2r is repeated4e is repeated5[space]   is repeated6o is repeated4b is not rpeatedj is not rpeatede is repeated5c is not rpeatedt is repeated3[space]   is repeated6o is repeated4r is repeated4i is repeated3e is repeated5n is repeated4t is repeated3e is repeated5d is not rpeated[space]   is repeated6p is repeated3r is repeated4o is repeated4g is repeated4r is repeated4a is repeated3m is not rpeatedi is repeated3n is repeated4g is repeated4[space]   is repeated6l is not rpeateda is repeated3n is repeated4g is repeated4\n",
      "p is repeated3y is not rpeatedt is repeated3h is not rpeatedo is repeated4n is repeated4[space]   is repeated6i is repeated3s is not rpeated[space]   is repeated6p is repeated3u is repeated2r is repeated4e is repeated5[space]   is repeated6o is repeated4b is not rpeatedj is not rpeatede is repeated5c is not rpeatedt is repeated3[space]   is repeated6o is repeated4r is repeated4i is repeated3e is repeated5n is repeated4t is repeated3e is repeated5d is not rpeated[space]   is repeated6p is repeated3r is repeated4o is repeated4g is repeated4r is repeated4a is repeated3m is not rpeatedi is repeated3n is repeated4g is repeated4[space]   is repeated6l is not rpeateda is repeated3n is repeated4g is repeated4u is repeated2\n",
      "p is repeated3y is not rpeatedt is repeated3h is not rpeatedo is repeated4n is repeated4[space]   is repeated6i is repeated3s is not rpeated[space]   is repeated6p is repeated3u is repeated2r is repeated4e is repeated5[space]   is repeated6o is repeated4b is not rpeatedj is not rpeatede is repeated5c is not rpeatedt is repeated3[space]   is repeated6o is repeated4r is repeated4i is repeated3e is repeated5n is repeated4t is repeated3e is repeated5d is not rpeated[space]   is repeated6p is repeated3r is repeated4o is repeated4g is repeated4r is repeated4a is repeated3m is not rpeatedi is repeated3n is repeated4g is repeated4[space]   is repeated6l is not rpeateda is repeated3n is repeated4g is repeated4u is repeated2a is repeated3\n",
      "p is repeated3y is not rpeatedt is repeated3h is not rpeatedo is repeated4n is repeated4[space]   is repeated6i is repeated3s is not rpeated[space]   is repeated6p is repeated3u is repeated2r is repeated4e is repeated5[space]   is repeated6o is repeated4b is not rpeatedj is not rpeatede is repeated5c is not rpeatedt is repeated3[space]   is repeated6o is repeated4r is repeated4i is repeated3e is repeated5n is repeated4t is repeated3e is repeated5d is not rpeated[space]   is repeated6p is repeated3r is repeated4o is repeated4g is repeated4r is repeated4a is repeated3m is not rpeatedi is repeated3n is repeated4g is repeated4[space]   is repeated6l is not rpeateda is repeated3n is repeated4g is repeated4u is repeated2a is repeated3g is repeated4\n",
      "p is repeated3y is not rpeatedt is repeated3h is not rpeatedo is repeated4n is repeated4[space]   is repeated6i is repeated3s is not rpeated[space]   is repeated6p is repeated3u is repeated2r is repeated4e is repeated5[space]   is repeated6o is repeated4b is not rpeatedj is not rpeatede is repeated5c is not rpeatedt is repeated3[space]   is repeated6o is repeated4r is repeated4i is repeated3e is repeated5n is repeated4t is repeated3e is repeated5d is not rpeated[space]   is repeated6p is repeated3r is repeated4o is repeated4g is repeated4r is repeated4a is repeated3m is not rpeatedi is repeated3n is repeated4g is repeated4[space]   is repeated6l is not rpeateda is repeated3n is repeated4g is repeated4u is repeated2a is repeated3g is repeated4e is repeated5\n"
     ]
    }
   ],
   "source": [
    "#[SPACE]\n",
    "s=\"python is pure object oriented programing language\"\n",
    "output=\"\"\n",
    "for char in s:\n",
    "    res = s.count(char)\n",
    "    if char == \" \":\n",
    "           output = output+\"[space] \"\n",
    "    if res == 1:\n",
    "        output=output+char+\" is not rpeated\"\n",
    "    else:\n",
    "        output = output+char+\" is repeated\"+str(res)\n",
    "    print output"
   ]
  },
  {
   "cell_type": "code",
   "execution_count": 58,
   "metadata": {
    "collapsed": false
   },
   "outputs": [
    {
     "name": "stdout",
     "output_type": "stream",
     "text": [
      "p is repeated3\n",
      "y is not rpeated\n",
      "t is repeated3\n",
      "h is not rpeated\n",
      "o is repeated4\n",
      "n is repeated4\n",
      "[space]  is repeated6\n",
      "i is repeated3\n",
      "s is not rpeated\n",
      "[space]  is repeated6\n",
      "p is repeated3\n",
      "u is repeated2\n",
      "r is repeated4\n",
      "e is repeated5\n",
      "[space]  is repeated6\n",
      "o is repeated4\n",
      "b is not rpeated\n",
      "j is not rpeated\n",
      "e is repeated5\n",
      "c is not rpeated\n",
      "t is repeated3\n",
      "[space]  is repeated6\n",
      "o is repeated4\n",
      "r is repeated4\n",
      "i is repeated3\n",
      "e is repeated5\n",
      "n is repeated4\n",
      "t is repeated3\n",
      "e is repeated5\n",
      "d is not rpeated\n",
      "[space]  is repeated6\n",
      "p is repeated3\n",
      "r is repeated4\n",
      "o is repeated4\n",
      "g is repeated4\n",
      "r is repeated4\n",
      "a is repeated3\n",
      "m is not rpeated\n",
      "i is repeated3\n",
      "n is repeated4\n",
      "g is repeated4\n",
      "[space]  is repeated6\n",
      "l is not rpeated\n",
      "a is repeated3\n",
      "n is repeated4\n",
      "g is repeated4\n",
      "u is repeated2\n",
      "a is repeated3\n",
      "g is repeated4\n",
      "e is repeated5\n"
     ]
    }
   ],
   "source": [
    "#[SPACE]\n",
    "s=\"python is pure object oriented programing language\"\n",
    "\n",
    "for char in s:\n",
    "    output=\"\"\n",
    "    res = s.count(char)\n",
    "    if char == \" \":\n",
    "           output = output+\"[space]\"\n",
    "    if res == 1:\n",
    "        output=output+char+\" is not rpeated\"\n",
    "    else:\n",
    "        output = output+char+\" is repeated\"+str(res)\n",
    "    print output"
   ]
  },
  {
   "cell_type": "code",
   "execution_count": 59,
   "metadata": {
    "collapsed": false
   },
   "outputs": [
    {
     "name": "stdout",
     "output_type": "stream",
     "text": [
      "e is repeated5\n"
     ]
    }
   ],
   "source": [
    "#[SPACE]\n",
    "s=\"python is pure object oriented programing language\"\n",
    "\n",
    "for char in s:\n",
    "    output=\"\"\n",
    "    res = s.count(char)\n",
    "    if char == \" \":\n",
    "           output = output+\"[space]\"\n",
    "    if res == 1:\n",
    "        output=output+char+\" is not rpeated\"\n",
    "    else:\n",
    "        output = output+char+\" is repeated\"+str(res)\n",
    "print output"
   ]
  },
  {
   "cell_type": "code",
   "execution_count": null,
   "metadata": {
    "collapsed": true
   },
   "outputs": [],
   "source": []
  }
 ],
 "metadata": {
  "kernelspec": {
   "display_name": "Python 2",
   "language": "python",
   "name": "python2"
  },
  "language_info": {
   "codemirror_mode": {
    "name": "ipython",
    "version": 2
   },
   "file_extension": ".py",
   "mimetype": "text/x-python",
   "name": "python",
   "nbconvert_exporter": "python",
   "pygments_lexer": "ipython2",
   "version": "2.7.11"
  }
 },
 "nbformat": 4,
 "nbformat_minor": 0
}
