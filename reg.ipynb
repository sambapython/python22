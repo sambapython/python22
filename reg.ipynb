{
 "cells": [
  {
   "cell_type": "code",
   "execution_count": 1,
   "metadata": {
    "collapsed": false
   },
   "outputs": [
    {
     "name": "stdout",
     "output_type": "stream",
     "text": [
      "sfsd\n"
     ]
    }
   ],
   "source": [
    "print \"sfsd\""
   ]
  },
  {
   "cell_type": "code",
   "execution_count": 2,
   "metadata": {
    "collapsed": true
   },
   "outputs": [],
   "source": [
    "f=open('data2.txt')\n",
    "data = f.read()"
   ]
  },
  {
   "cell_type": "code",
   "execution_count": 3,
   "metadata": {
    "collapsed": false
   },
   "outputs": [
    {
     "data": {
      "text/plain": [
       "'name1,23,9678675467,email1@gamil.com\\n23,name2,email2@yahoo.com,9678675468\\n2345678924,name3,34,email3@outlook.com\\n'"
      ]
     },
     "execution_count": 3,
     "metadata": {},
     "output_type": "execute_result"
    }
   ],
   "source": [
    "data"
   ]
  },
  {
   "cell_type": "code",
   "execution_count": 9,
   "metadata": {
    "collapsed": true
   },
   "outputs": [],
   "source": [
    "f1=open('data.csv')\n",
    "data1=f1.read()"
   ]
  },
  {
   "cell_type": "code",
   "execution_count": 10,
   "metadata": {
    "collapsed": false
   },
   "outputs": [
    {
     "name": "stdout",
     "output_type": "stream",
     "text": [
      "id,name,salary,address\n",
      "1,name1,1234,ad1\n",
      "2,name2,4567,ad2\n",
      "3,name3,8910,ad1\n",
      "\n"
     ]
    }
   ],
   "source": [
    "print data1"
   ]
  },
  {
   "cell_type": "code",
   "execution_count": 11,
   "metadata": {
    "collapsed": true
   },
   "outputs": [],
   "source": [
    "lines = data1.splitlines()"
   ]
  },
  {
   "cell_type": "code",
   "execution_count": 13,
   "metadata": {
    "collapsed": false
   },
   "outputs": [
    {
     "name": "stdout",
     "output_type": "stream",
     "text": [
      "id,name,salary,address\n",
      "1,name1,1234,ad1\n",
      "2,name2,4567,ad2\n",
      "3,name3,8910,ad1\n"
     ]
    }
   ],
   "source": [
    "for line in lines:\n",
    "    print line"
   ]
  },
  {
   "cell_type": "code",
   "execution_count": 14,
   "metadata": {
    "collapsed": false
   },
   "outputs": [
    {
     "name": "stdout",
     "output_type": "stream",
     "text": [
      "['id', 'name', 'salary', 'address']\n",
      "['1', 'name1', '1234', 'ad1']\n",
      "['2', 'name2', '4567', 'ad2']\n",
      "['3', 'name3', '8910', 'ad1']\n"
     ]
    }
   ],
   "source": [
    "for line in lines:\n",
    "    print line.split(',')"
   ]
  },
  {
   "cell_type": "code",
   "execution_count": 15,
   "metadata": {
    "collapsed": false
   },
   "outputs": [
    {
     "name": "stdout",
     "output_type": "stream",
     "text": [
      "salary\n",
      "1234\n",
      "4567\n",
      "8910\n"
     ]
    }
   ],
   "source": [
    "for line in lines:\n",
    "    print line.split(',')[2]"
   ]
  },
  {
   "cell_type": "code",
   "execution_count": 16,
   "metadata": {
    "collapsed": false
   },
   "outputs": [
    {
     "name": "stdout",
     "output_type": "stream",
     "text": [
      "name1,23,9678675467,email1@gamil.com\n",
      "23,name2,email2@yahoo.com,9678675468\n",
      "2345678924,name3,34,email3@outlook.com\n",
      "\n"
     ]
    }
   ],
   "source": [
    "print data"
   ]
  },
  {
   "cell_type": "code",
   "execution_count": 17,
   "metadata": {
    "collapsed": true
   },
   "outputs": [],
   "source": [
    "lines = data.splitlines()"
   ]
  },
  {
   "cell_type": "code",
   "execution_count": 18,
   "metadata": {
    "collapsed": false
   },
   "outputs": [
    {
     "name": "stdout",
     "output_type": "stream",
     "text": [
      "['name1,23,9678675467,email1@gamil.com']\n",
      "['23,name2,email2@yahoo.com,9678675468']\n",
      "['2345678924,name3,34,email3@outlook.com']\n"
     ]
    }
   ],
   "source": [
    "for line in lines:\n",
    "    print line.split()"
   ]
  },
  {
   "cell_type": "code",
   "execution_count": 19,
   "metadata": {
    "collapsed": false
   },
   "outputs": [
    {
     "name": "stdout",
     "output_type": "stream",
     "text": [
      "name1,23,9678675467,email1@gamil.com\n",
      "23,name2,email2@yahoo.com,9678675468\n",
      "2345678924,name3,34,email3@outlook.com\n",
      "\n"
     ]
    }
   ],
   "source": [
    "print data"
   ]
  },
  {
   "cell_type": "code",
   "execution_count": 20,
   "metadata": {
    "collapsed": true
   },
   "outputs": [],
   "source": [
    "import re"
   ]
  },
  {
   "cell_type": "code",
   "execution_count": 22,
   "metadata": {
    "collapsed": false
   },
   "outputs": [
    {
     "data": {
      "text/plain": [
       "['9678675467', '9678675468', '2345678924']"
      ]
     },
     "execution_count": 22,
     "metadata": {},
     "output_type": "execute_result"
    }
   ],
   "source": [
    "re.findall('[0-9]{10}',data)"
   ]
  },
  {
   "cell_type": "code",
   "execution_count": 23,
   "metadata": {
    "collapsed": true
   },
   "outputs": [],
   "source": [
    "#meta characters []{}*.+?$^"
   ]
  },
  {
   "cell_type": "code",
   "execution_count": 24,
   "metadata": {
    "collapsed": false
   },
   "outputs": [
    {
     "data": {
      "text/plain": [
       "'name1,23,9678675467,email1@gamil.com\\n23,name2,email2@yahoo.com,9678675468\\n2345678924,name3,34,email3@outlook.com\\n'"
      ]
     },
     "execution_count": 24,
     "metadata": {},
     "output_type": "execute_result"
    }
   ],
   "source": [
    "data"
   ]
  },
  {
   "cell_type": "code",
   "execution_count": 25,
   "metadata": {
    "collapsed": false
   },
   "outputs": [
    {
     "data": {
      "text/plain": [
       "['a', 'a', 'a', 'c', 'a', 'a', 'a', 'c', 'a', 'a', 'c']"
      ]
     },
     "execution_count": 25,
     "metadata": {},
     "output_type": "execute_result"
    }
   ],
   "source": [
    "re.findall('[abc]',data)"
   ]
  },
  {
   "cell_type": "code",
   "execution_count": 26,
   "metadata": {
    "collapsed": false
   },
   "outputs": [
    {
     "data": {
      "text/plain": [
       "['n',\n",
       " 'a',\n",
       " 'm',\n",
       " 'e',\n",
       " 'e',\n",
       " 'm',\n",
       " 'a',\n",
       " 'i',\n",
       " 'l',\n",
       " 'g',\n",
       " 'a',\n",
       " 'm',\n",
       " 'i',\n",
       " 'l',\n",
       " 'c',\n",
       " 'o',\n",
       " 'm',\n",
       " 'n',\n",
       " 'a',\n",
       " 'm',\n",
       " 'e',\n",
       " 'e',\n",
       " 'm',\n",
       " 'a',\n",
       " 'i',\n",
       " 'l',\n",
       " 'y',\n",
       " 'a',\n",
       " 'h',\n",
       " 'o',\n",
       " 'o',\n",
       " 'c',\n",
       " 'o',\n",
       " 'm',\n",
       " 'n',\n",
       " 'a',\n",
       " 'm',\n",
       " 'e',\n",
       " 'e',\n",
       " 'm',\n",
       " 'a',\n",
       " 'i',\n",
       " 'l',\n",
       " 'o',\n",
       " 'u',\n",
       " 't',\n",
       " 'l',\n",
       " 'o',\n",
       " 'o',\n",
       " 'k',\n",
       " 'c',\n",
       " 'o',\n",
       " 'm']"
      ]
     },
     "execution_count": 26,
     "metadata": {},
     "output_type": "execute_result"
    }
   ],
   "source": [
    "re.findall('[abcdefghijklmnopqrstuvwxyz]',data)"
   ]
  },
  {
   "cell_type": "code",
   "execution_count": 27,
   "metadata": {
    "collapsed": false
   },
   "outputs": [
    {
     "data": {
      "text/plain": [
       "['n',\n",
       " 'a',\n",
       " 'm',\n",
       " 'e',\n",
       " 'e',\n",
       " 'm',\n",
       " 'a',\n",
       " 'i',\n",
       " 'l',\n",
       " 'g',\n",
       " 'a',\n",
       " 'm',\n",
       " 'i',\n",
       " 'l',\n",
       " 'c',\n",
       " 'o',\n",
       " 'm',\n",
       " 'n',\n",
       " 'a',\n",
       " 'm',\n",
       " 'e',\n",
       " 'e',\n",
       " 'm',\n",
       " 'a',\n",
       " 'i',\n",
       " 'l',\n",
       " 'y',\n",
       " 'a',\n",
       " 'h',\n",
       " 'o',\n",
       " 'o',\n",
       " 'c',\n",
       " 'o',\n",
       " 'm',\n",
       " 'n',\n",
       " 'a',\n",
       " 'm',\n",
       " 'e',\n",
       " 'e',\n",
       " 'm',\n",
       " 'a',\n",
       " 'i',\n",
       " 'l',\n",
       " 'o',\n",
       " 'u',\n",
       " 't',\n",
       " 'l',\n",
       " 'o',\n",
       " 'o',\n",
       " 'k',\n",
       " 'c',\n",
       " 'o',\n",
       " 'm']"
      ]
     },
     "execution_count": 27,
     "metadata": {},
     "output_type": "execute_result"
    }
   ],
   "source": [
    "re.findall('[a-z]',data)"
   ]
  },
  {
   "cell_type": "code",
   "execution_count": 29,
   "metadata": {
    "collapsed": false
   },
   "outputs": [
    {
     "data": {
      "text/plain": [
       "['i',\n",
       " 'd',\n",
       " 'n',\n",
       " 'a',\n",
       " 'm',\n",
       " 'e',\n",
       " 's',\n",
       " 'a',\n",
       " 'l',\n",
       " 'a',\n",
       " 'r',\n",
       " 'y',\n",
       " 'a',\n",
       " 'd',\n",
       " 'd',\n",
       " 'r',\n",
       " 'e',\n",
       " 's',\n",
       " 's',\n",
       " 'n',\n",
       " 'a',\n",
       " 'm',\n",
       " 'e',\n",
       " 'a',\n",
       " 'd',\n",
       " 'n',\n",
       " 'a',\n",
       " 'm',\n",
       " 'e',\n",
       " 'a',\n",
       " 'd',\n",
       " 'n',\n",
       " 'a',\n",
       " 'm',\n",
       " 'e',\n",
       " 'a',\n",
       " 'd']"
      ]
     },
     "execution_count": 29,
     "metadata": {},
     "output_type": "execute_result"
    }
   ],
   "source": [
    "data = open('data.csv').read()\n",
    "re.findall('[a-z]',data)"
   ]
  },
  {
   "cell_type": "code",
   "execution_count": 31,
   "metadata": {
    "collapsed": false
   },
   "outputs": [
    {
     "data": {
      "text/plain": [
       "['N',\n",
       " 'a',\n",
       " 'm',\n",
       " 'e',\n",
       " 'e',\n",
       " 'm',\n",
       " 'a',\n",
       " 'i',\n",
       " 'l',\n",
       " 'g',\n",
       " 'a',\n",
       " 'm',\n",
       " 'i',\n",
       " 'l',\n",
       " 'c',\n",
       " 'o',\n",
       " 'm',\n",
       " 'n',\n",
       " 'a',\n",
       " 'm',\n",
       " 'e',\n",
       " 'E',\n",
       " 'm',\n",
       " 'a',\n",
       " 'i',\n",
       " 'l',\n",
       " 'y',\n",
       " 'a',\n",
       " 'h',\n",
       " 'o',\n",
       " 'o',\n",
       " 'c',\n",
       " 'o',\n",
       " 'm',\n",
       " 'n',\n",
       " 'a',\n",
       " 'm',\n",
       " 'e',\n",
       " 'e',\n",
       " 'm',\n",
       " 'a',\n",
       " 'i',\n",
       " 'l',\n",
       " 'o',\n",
       " 'u',\n",
       " 't',\n",
       " 'l',\n",
       " 'o',\n",
       " 'o',\n",
       " 'k',\n",
       " 'c',\n",
       " 'o',\n",
       " 'M']"
      ]
     },
     "execution_count": 31,
     "metadata": {},
     "output_type": "execute_result"
    }
   ],
   "source": [
    "data = open('data2.txt').read()\n",
    "re.findall('[a-zA-Z]',data)"
   ]
  },
  {
   "cell_type": "code",
   "execution_count": 32,
   "metadata": {
    "collapsed": false
   },
   "outputs": [
    {
     "data": {
      "text/plain": [
       "['N',\n",
       " 'a',\n",
       " 'm',\n",
       " 'e',\n",
       " 'e',\n",
       " 'm',\n",
       " 'a',\n",
       " 'i',\n",
       " 'l',\n",
       " 'g',\n",
       " 'a',\n",
       " 'm',\n",
       " 'i',\n",
       " 'l',\n",
       " 'c',\n",
       " 'o',\n",
       " 'm',\n",
       " 'n',\n",
       " 'a',\n",
       " 'm',\n",
       " 'e',\n",
       " 'E',\n",
       " 'm',\n",
       " 'a',\n",
       " 'i',\n",
       " 'l',\n",
       " 'y',\n",
       " 'a',\n",
       " 'h',\n",
       " 'o',\n",
       " 'o',\n",
       " 'c',\n",
       " 'o',\n",
       " 'm',\n",
       " 'n',\n",
       " 'a',\n",
       " 'm',\n",
       " 'e',\n",
       " 'e',\n",
       " 'm',\n",
       " 'a',\n",
       " 'i',\n",
       " 'l',\n",
       " 'o',\n",
       " 'u',\n",
       " 't',\n",
       " 'l',\n",
       " 'o',\n",
       " 'o',\n",
       " 'k',\n",
       " 'c',\n",
       " 'o',\n",
       " 'M']"
      ]
     },
     "execution_count": 32,
     "metadata": {},
     "output_type": "execute_result"
    }
   ],
   "source": [
    "data = open('data2.txt').read()\n",
    "re.findall('[a-z]',data,re.I)"
   ]
  },
  {
   "cell_type": "code",
   "execution_count": 33,
   "metadata": {
    "collapsed": false
   },
   "outputs": [
    {
     "data": {
      "text/plain": [
       "['e1', 'l1', 'e2', 'l2', 'e3', 'l3']"
      ]
     },
     "execution_count": 33,
     "metadata": {},
     "output_type": "execute_result"
    }
   ],
   "source": [
    "data = open('data2.txt').read()\n",
    "\n",
    "#charfollowedby a number\n",
    "re.findall('[a-z][0-9]',data,re.I)"
   ]
  },
  {
   "cell_type": "code",
   "execution_count": 34,
   "metadata": {
    "collapsed": false
   },
   "outputs": [
    {
     "data": {
      "text/plain": [
       "['Nam',\n",
       " 'ema',\n",
       " 'gam',\n",
       " 'com',\n",
       " 'nam',\n",
       " 'Ema',\n",
       " 'yah',\n",
       " 'com',\n",
       " 'nam',\n",
       " 'ema',\n",
       " 'out',\n",
       " 'loo',\n",
       " 'coM']"
      ]
     },
     "execution_count": 34,
     "metadata": {},
     "output_type": "execute_result"
    }
   ],
   "source": [
    "re.findall('[a-z]{3}',data,re.I)"
   ]
  },
  {
   "cell_type": "code",
   "execution_count": 35,
   "metadata": {
    "collapsed": false
   },
   "outputs": [
    {
     "data": {
      "text/plain": [
       "['Name',\n",
       " 'email',\n",
       " 'gamil',\n",
       " 'com',\n",
       " 'name',\n",
       " 'Email',\n",
       " 'yahoo',\n",
       " 'com',\n",
       " 'name',\n",
       " 'email',\n",
       " 'outlo',\n",
       " 'coM']"
      ]
     },
     "execution_count": 35,
     "metadata": {},
     "output_type": "execute_result"
    }
   ],
   "source": [
    "re.findall('[a-z]{3,5}',data,re.I)"
   ]
  },
  {
   "cell_type": "code",
   "execution_count": 36,
   "metadata": {
    "collapsed": false
   },
   "outputs": [
    {
     "data": {
      "text/plain": [
       "['Name',\n",
       " 'email',\n",
       " 'gamil',\n",
       " 'com',\n",
       " 'name',\n",
       " 'Email',\n",
       " 'yahoo',\n",
       " 'com',\n",
       " 'name',\n",
       " 'email',\n",
       " 'outlook',\n",
       " 'coM']"
      ]
     },
     "execution_count": 36,
     "metadata": {},
     "output_type": "execute_result"
    }
   ],
   "source": [
    "re.findall('[a-z]+',data,re.I)"
   ]
  },
  {
   "cell_type": "code",
   "execution_count": 37,
   "metadata": {
    "collapsed": false
   },
   "outputs": [
    {
     "data": {
      "text/plain": [
       "['Name',\n",
       " '',\n",
       " '',\n",
       " '',\n",
       " '',\n",
       " '',\n",
       " '',\n",
       " '',\n",
       " '',\n",
       " '',\n",
       " '',\n",
       " '',\n",
       " '',\n",
       " '',\n",
       " '',\n",
       " '',\n",
       " '',\n",
       " 'email',\n",
       " '',\n",
       " '',\n",
       " 'gamil',\n",
       " '',\n",
       " 'com',\n",
       " '',\n",
       " '',\n",
       " '',\n",
       " '',\n",
       " 'name',\n",
       " '',\n",
       " '',\n",
       " 'Email',\n",
       " '',\n",
       " '',\n",
       " 'yahoo',\n",
       " '',\n",
       " 'com',\n",
       " '',\n",
       " '',\n",
       " '',\n",
       " '',\n",
       " '',\n",
       " '',\n",
       " '',\n",
       " '',\n",
       " '',\n",
       " '',\n",
       " '',\n",
       " '',\n",
       " '',\n",
       " '',\n",
       " '',\n",
       " '',\n",
       " '',\n",
       " '',\n",
       " '',\n",
       " '',\n",
       " '',\n",
       " '',\n",
       " '',\n",
       " 'name',\n",
       " '',\n",
       " '',\n",
       " '',\n",
       " '',\n",
       " '',\n",
       " 'email',\n",
       " '',\n",
       " '',\n",
       " 'outlook',\n",
       " '',\n",
       " 'coM',\n",
       " '',\n",
       " '']"
      ]
     },
     "execution_count": 37,
     "metadata": {},
     "output_type": "execute_result"
    }
   ],
   "source": [
    "re.findall('[a-z]*',data,re.I)"
   ]
  },
  {
   "cell_type": "code",
   "execution_count": 38,
   "metadata": {
    "collapsed": false
   },
   "outputs": [
    {
     "data": {
      "text/plain": [
       "['N',\n",
       " 'a',\n",
       " 'm',\n",
       " 'e',\n",
       " '',\n",
       " '',\n",
       " '',\n",
       " '',\n",
       " '',\n",
       " '',\n",
       " '',\n",
       " '',\n",
       " '',\n",
       " '',\n",
       " '',\n",
       " '',\n",
       " '',\n",
       " '',\n",
       " '',\n",
       " '',\n",
       " 'e',\n",
       " 'm',\n",
       " 'a',\n",
       " 'i',\n",
       " 'l',\n",
       " '',\n",
       " '',\n",
       " 'g',\n",
       " 'a',\n",
       " 'm',\n",
       " 'i',\n",
       " 'l',\n",
       " '',\n",
       " 'c',\n",
       " 'o',\n",
       " 'm',\n",
       " '',\n",
       " '',\n",
       " '',\n",
       " '',\n",
       " 'n',\n",
       " 'a',\n",
       " 'm',\n",
       " 'e',\n",
       " '',\n",
       " '',\n",
       " 'E',\n",
       " 'm',\n",
       " 'a',\n",
       " 'i',\n",
       " 'l',\n",
       " '',\n",
       " '',\n",
       " 'y',\n",
       " 'a',\n",
       " 'h',\n",
       " 'o',\n",
       " 'o',\n",
       " '',\n",
       " 'c',\n",
       " 'o',\n",
       " 'm',\n",
       " '',\n",
       " '',\n",
       " '',\n",
       " '',\n",
       " '',\n",
       " '',\n",
       " '',\n",
       " '',\n",
       " '',\n",
       " '',\n",
       " '',\n",
       " '',\n",
       " '',\n",
       " '',\n",
       " '',\n",
       " '',\n",
       " '',\n",
       " '',\n",
       " '',\n",
       " '',\n",
       " '',\n",
       " '',\n",
       " '',\n",
       " 'n',\n",
       " 'a',\n",
       " 'm',\n",
       " 'e',\n",
       " '',\n",
       " '',\n",
       " '',\n",
       " '',\n",
       " '',\n",
       " 'e',\n",
       " 'm',\n",
       " 'a',\n",
       " 'i',\n",
       " 'l',\n",
       " '',\n",
       " '',\n",
       " 'o',\n",
       " 'u',\n",
       " 't',\n",
       " 'l',\n",
       " 'o',\n",
       " 'o',\n",
       " 'k',\n",
       " '',\n",
       " 'c',\n",
       " 'o',\n",
       " 'M',\n",
       " '',\n",
       " '']"
      ]
     },
     "execution_count": 38,
     "metadata": {},
     "output_type": "execute_result"
    }
   ],
   "source": [
    "re.findall('[a-z]?',data,re.I)"
   ]
  },
  {
   "cell_type": "code",
   "execution_count": 39,
   "metadata": {
    "collapsed": false
   },
   "outputs": [
    {
     "data": {
      "text/plain": [
       "['Name1',\n",
       " 'email1',\n",
       " 'gamil',\n",
       " 'com',\n",
       " 'name2',\n",
       " 'Email2',\n",
       " 'yahoo',\n",
       " 'com',\n",
       " 'name3',\n",
       " 'email3',\n",
       " 'outlook',\n",
       " 'coM']"
      ]
     },
     "execution_count": 39,
     "metadata": {},
     "output_type": "execute_result"
    }
   ],
   "source": [
    "re.findall('[a-z]+[0-9]?',data,re.I)"
   ]
  },
  {
   "cell_type": "code",
   "execution_count": 53,
   "metadata": {
    "collapsed": false
   },
   "outputs": [
    {
     "data": {
      "text/plain": [
       "['Name1']"
      ]
     },
     "execution_count": 53,
     "metadata": {},
     "output_type": "execute_result"
    }
   ],
   "source": [
    "re.findall('^[a-z]+[0-9]?',data,re.I)"
   ]
  },
  {
   "cell_type": "code",
   "execution_count": 49,
   "metadata": {
    "collapsed": false
   },
   "outputs": [
    {
     "name": "stdout",
     "output_type": "stream",
     "text": [
      "Name1,23,9678675467,email1@gamil.com\n",
      "23,name2,Email2@yahoo.com,9678675468\n",
      "2345678924,name3,34,email3@outlook.coM\n",
      "\n"
     ]
    }
   ],
   "source": [
    "print data"
   ]
  },
  {
   "cell_type": "code",
   "execution_count": 55,
   "metadata": {
    "collapsed": false
   },
   "outputs": [
    {
     "data": {
      "text/plain": [
       "['M']"
      ]
     },
     "execution_count": 55,
     "metadata": {},
     "output_type": "execute_result"
    }
   ],
   "source": [
    "re.findall('[a-z]$',data,re.I)"
   ]
  },
  {
   "cell_type": "code",
   "execution_count": 56,
   "metadata": {
    "collapsed": false
   },
   "outputs": [
    {
     "data": {
      "text/plain": [
       "[]"
      ]
     },
     "execution_count": 56,
     "metadata": {},
     "output_type": "execute_result"
    }
   ],
   "source": [
    "re.findall('[a-z]+[0-9]$',data,re.I)"
   ]
  },
  {
   "cell_type": "code",
   "execution_count": 51,
   "metadata": {
    "collapsed": false
   },
   "outputs": [
    {
     "data": {
      "text/plain": [
       "'Name1,23,9678675467,email1@gamil.com\\n23,name2,Email2@yahoo.com,9678675468\\n2345678924,name3,34,email3@outlook.coM\\n'"
      ]
     },
     "execution_count": 51,
     "metadata": {},
     "output_type": "execute_result"
    }
   ],
   "source": [
    "data"
   ]
  },
  {
   "cell_type": "code",
   "execution_count": 57,
   "metadata": {
    "collapsed": false
   },
   "outputs": [
    {
     "data": {
      "text/plain": [
       "['Name1']"
      ]
     },
     "execution_count": 57,
     "metadata": {},
     "output_type": "execute_result"
    }
   ],
   "source": [
    "re.findall('^[a-z]+[0-9]?',data,re.I|re.M)"
   ]
  },
  {
   "cell_type": "code",
   "execution_count": 58,
   "metadata": {
    "collapsed": false
   },
   "outputs": [
    {
     "data": {
      "text/plain": [
       "['com', 'coM']"
      ]
     },
     "execution_count": 58,
     "metadata": {},
     "output_type": "execute_result"
    }
   ],
   "source": [
    "re.findall('[a-z]+[0-9]?$',data,re.I|re.M)"
   ]
  },
  {
   "cell_type": "code",
   "execution_count": 59,
   "metadata": {
    "collapsed": true
   },
   "outputs": [],
   "source": [
    "# . match for any char except \\n"
   ]
  },
  {
   "cell_type": "code",
   "execution_count": 60,
   "metadata": {
    "collapsed": false
   },
   "outputs": [
    {
     "data": {
      "text/plain": [
       "['N',\n",
       " 'a',\n",
       " 'm',\n",
       " 'e',\n",
       " '1',\n",
       " ',',\n",
       " '2',\n",
       " '3',\n",
       " ',',\n",
       " '9',\n",
       " '6',\n",
       " '7',\n",
       " '8',\n",
       " '6',\n",
       " '7',\n",
       " '5',\n",
       " '4',\n",
       " '6',\n",
       " '7',\n",
       " ',',\n",
       " 'e',\n",
       " 'm',\n",
       " 'a',\n",
       " 'i',\n",
       " 'l',\n",
       " '1',\n",
       " '@',\n",
       " 'g',\n",
       " 'a',\n",
       " 'm',\n",
       " 'i',\n",
       " 'l',\n",
       " '.',\n",
       " 'c',\n",
       " 'o',\n",
       " 'm',\n",
       " '2',\n",
       " '3',\n",
       " ',',\n",
       " 'n',\n",
       " 'a',\n",
       " 'm',\n",
       " 'e',\n",
       " '2',\n",
       " ',',\n",
       " 'E',\n",
       " 'm',\n",
       " 'a',\n",
       " 'i',\n",
       " 'l',\n",
       " '2',\n",
       " '@',\n",
       " 'y',\n",
       " 'a',\n",
       " 'h',\n",
       " 'o',\n",
       " 'o',\n",
       " '.',\n",
       " 'c',\n",
       " 'o',\n",
       " 'm',\n",
       " ',',\n",
       " '9',\n",
       " '6',\n",
       " '7',\n",
       " '8',\n",
       " '6',\n",
       " '7',\n",
       " '5',\n",
       " '4',\n",
       " '6',\n",
       " '8',\n",
       " '2',\n",
       " '3',\n",
       " '4',\n",
       " '5',\n",
       " '6',\n",
       " '7',\n",
       " '8',\n",
       " '9',\n",
       " '2',\n",
       " '4',\n",
       " ',',\n",
       " 'n',\n",
       " 'a',\n",
       " 'm',\n",
       " 'e',\n",
       " '3',\n",
       " ',',\n",
       " '3',\n",
       " '4',\n",
       " ',',\n",
       " 'e',\n",
       " 'm',\n",
       " 'a',\n",
       " 'i',\n",
       " 'l',\n",
       " '3',\n",
       " '@',\n",
       " 'o',\n",
       " 'u',\n",
       " 't',\n",
       " 'l',\n",
       " 'o',\n",
       " 'o',\n",
       " 'k',\n",
       " '.',\n",
       " 'c',\n",
       " 'o',\n",
       " 'M']"
      ]
     },
     "execution_count": 60,
     "metadata": {},
     "output_type": "execute_result"
    }
   ],
   "source": [
    "re.findall('.',data)"
   ]
  },
  {
   "cell_type": "code",
   "execution_count": 61,
   "metadata": {
    "collapsed": false
   },
   "outputs": [
    {
     "data": {
      "text/plain": [
       "['N',\n",
       " 'a',\n",
       " 'm',\n",
       " 'e',\n",
       " '1',\n",
       " ',',\n",
       " '2',\n",
       " '3',\n",
       " ',',\n",
       " '9',\n",
       " '6',\n",
       " '7',\n",
       " '8',\n",
       " '6',\n",
       " '7',\n",
       " '5',\n",
       " '4',\n",
       " '6',\n",
       " '7',\n",
       " ',',\n",
       " 'e',\n",
       " 'm',\n",
       " 'a',\n",
       " 'i',\n",
       " 'l',\n",
       " '1',\n",
       " '@',\n",
       " 'g',\n",
       " 'a',\n",
       " 'm',\n",
       " 'i',\n",
       " 'l',\n",
       " '.',\n",
       " 'c',\n",
       " 'o',\n",
       " 'm',\n",
       " '\\n',\n",
       " '2',\n",
       " '3',\n",
       " ',',\n",
       " 'n',\n",
       " 'a',\n",
       " 'm',\n",
       " 'e',\n",
       " '2',\n",
       " ',',\n",
       " 'E',\n",
       " 'm',\n",
       " 'a',\n",
       " 'i',\n",
       " 'l',\n",
       " '2',\n",
       " '@',\n",
       " 'y',\n",
       " 'a',\n",
       " 'h',\n",
       " 'o',\n",
       " 'o',\n",
       " '.',\n",
       " 'c',\n",
       " 'o',\n",
       " 'm',\n",
       " ',',\n",
       " '9',\n",
       " '6',\n",
       " '7',\n",
       " '8',\n",
       " '6',\n",
       " '7',\n",
       " '5',\n",
       " '4',\n",
       " '6',\n",
       " '8',\n",
       " '\\n',\n",
       " '2',\n",
       " '3',\n",
       " '4',\n",
       " '5',\n",
       " '6',\n",
       " '7',\n",
       " '8',\n",
       " '9',\n",
       " '2',\n",
       " '4',\n",
       " ',',\n",
       " 'n',\n",
       " 'a',\n",
       " 'm',\n",
       " 'e',\n",
       " '3',\n",
       " ',',\n",
       " '3',\n",
       " '4',\n",
       " ',',\n",
       " 'e',\n",
       " 'm',\n",
       " 'a',\n",
       " 'i',\n",
       " 'l',\n",
       " '3',\n",
       " '@',\n",
       " 'o',\n",
       " 'u',\n",
       " 't',\n",
       " 'l',\n",
       " 'o',\n",
       " 'o',\n",
       " 'k',\n",
       " '.',\n",
       " 'c',\n",
       " 'o',\n",
       " 'M',\n",
       " '\\n']"
      ]
     },
     "execution_count": 61,
     "metadata": {},
     "output_type": "execute_result"
    }
   ],
   "source": [
    "re.findall('.',data,re.DOTALL)"
   ]
  },
  {
   "cell_type": "code",
   "execution_count": 62,
   "metadata": {
    "collapsed": true
   },
   "outputs": [],
   "source": [
    "# reg"
   ]
  },
  {
   "cell_type": "code",
   "execution_count": 63,
   "metadata": {
    "collapsed": false
   },
   "outputs": [
    {
     "data": {
      "text/plain": [
       "['9678675467', '9678675468', '2345678924']"
      ]
     },
     "execution_count": 63,
     "metadata": {},
     "output_type": "execute_result"
    }
   ],
   "source": [
    "# format for phone number\n",
    "re.findall('[0-9]{10}',data)"
   ]
  },
  {
   "cell_type": "code",
   "execution_count": 64,
   "metadata": {
    "collapsed": false
   },
   "outputs": [
    {
     "data": {
      "text/plain": [
       "['9678675467', '9678675468', '2345678924']"
      ]
     },
     "execution_count": 64,
     "metadata": {},
     "output_type": "execute_result"
    }
   ],
   "source": [
    "# format for phone number\n",
    "re.findall('[\\d]{10}',data)"
   ]
  },
  {
   "cell_type": "code",
   "execution_count": 65,
   "metadata": {
    "collapsed": false
   },
   "outputs": [
    {
     "data": {
      "text/plain": [
       "['@gamil.com', '@yahoo.com', '@outlook.c']"
      ]
     },
     "execution_count": 65,
     "metadata": {},
     "output_type": "execute_result"
    }
   ],
   "source": [
    "re.findall('[^0-9]{10}',data)"
   ]
  },
  {
   "cell_type": "code",
   "execution_count": 66,
   "metadata": {
    "collapsed": false
   },
   "outputs": [
    {
     "data": {
      "text/plain": [
       "['@gamil.com', '@yahoo.com', '@outlook.c']"
      ]
     },
     "execution_count": 66,
     "metadata": {},
     "output_type": "execute_result"
    }
   ],
   "source": [
    "re.findall('[\\D]{10}',data)"
   ]
  },
  {
   "cell_type": "code",
   "execution_count": 67,
   "metadata": {
    "collapsed": false
   },
   "outputs": [
    {
     "data": {
      "text/plain": [
       "['email1@gamil', 'Email2@yahoo', 'email3@outlo']"
      ]
     },
     "execution_count": 67,
     "metadata": {},
     "output_type": "execute_result"
    }
   ],
   "source": [
    "re.findall('[a-z0-9]+@[a-z].[a-z]{2,3}',data,re.I)"
   ]
  },
  {
   "cell_type": "code",
   "execution_count": 70,
   "metadata": {
    "collapsed": false
   },
   "outputs": [
    {
     "data": {
      "text/plain": [
       "[]"
      ]
     },
     "execution_count": 70,
     "metadata": {},
     "output_type": "execute_result"
    }
   ],
   "source": [
    "re.findall('[a-z0-9]+@[a-z]\\.[a-z]{2,3}',data,re.I)"
   ]
  },
  {
   "cell_type": "code",
   "execution_count": 71,
   "metadata": {
    "collapsed": false
   },
   "outputs": [
    {
     "data": {
      "text/plain": [
       "['email1@gamil.com', 'Email2@yahoo.com', 'email3@outlook.coM']"
      ]
     },
     "execution_count": 71,
     "metadata": {},
     "output_type": "execute_result"
    }
   ],
   "source": [
    "re.findall('[a-z0-9]+@[a-z]+\\.[a-z]{2,3}',data,re.I)"
   ]
  },
  {
   "cell_type": "code",
   "execution_count": 72,
   "metadata": {
    "collapsed": false
   },
   "outputs": [
    {
     "data": {
      "text/plain": [
       "['email1@gamil.com', 'Email2@yahoo.com', 'email3@outlook.coM']"
      ]
     },
     "execution_count": 72,
     "metadata": {},
     "output_type": "execute_result"
    }
   ],
   "source": [
    "re.findall('[a-z0-9]+@[a-z]+\\.[cominrg]{2,3}',data,re.I)"
   ]
  },
  {
   "cell_type": "code",
   "execution_count": 73,
   "metadata": {
    "collapsed": false
   },
   "outputs": [
    {
     "data": {
      "text/plain": [
       "['email1@gamil.com', 'il2@yahoo.com', 'email3@outlook.coM']"
      ]
     },
     "execution_count": 73,
     "metadata": {},
     "output_type": "execute_result"
    }
   ],
   "source": [
    "data = open('data2.txt').read()\n",
    "re.findall('[a-z0-9]+@[a-z]+\\.[cominrg]{2,3}',data,re.I)"
   ]
  },
  {
   "cell_type": "code",
   "execution_count": 74,
   "metadata": {
    "collapsed": false
   },
   "outputs": [
    {
     "data": {
      "text/plain": [
       "['email1@gamil.com', 'Ema$il2@yahoo.com', 'email3@outlook.coM']"
      ]
     },
     "execution_count": 74,
     "metadata": {},
     "output_type": "execute_result"
    }
   ],
   "source": [
    "data = open('data2.txt').read()\n",
    "re.findall('[a-z0-9$#%&]+@[a-z]+\\.[cominrg]{2,3}',data,re.I)"
   ]
  },
  {
   "cell_type": "code",
   "execution_count": 75,
   "metadata": {
    "collapsed": false
   },
   "outputs": [
    {
     "data": {
      "text/plain": [
       "['Name1,23,9678675467,email1@gamil.com',\n",
       " '23,name2,Ema$il2@yahoo.com',\n",
       " '2345678924,name3,34,email3@outlook.coM']"
      ]
     },
     "execution_count": 75,
     "metadata": {},
     "output_type": "execute_result"
    }
   ],
   "source": [
    "data = open('data2.txt').read()\n",
    "re.findall('.+@[a-z]+\\.[cominrg]{2,3}',data,re.I)"
   ]
  },
  {
   "cell_type": "code",
   "execution_count": 77,
   "metadata": {
    "collapsed": false
   },
   "outputs": [
    {
     "data": {
      "text/plain": [
       "['email1@gamil.com', 'il2@yahoo.com', 'email3@outlook.coM']"
      ]
     },
     "execution_count": 77,
     "metadata": {},
     "output_type": "execute_result"
    }
   ],
   "source": [
    "data = open('data2.txt').read()\n",
    "re.findall('[\\w]+@[a-z]+\\.[cominrg]{2,3}',data,re.I)"
   ]
  },
  {
   "cell_type": "code",
   "execution_count": 79,
   "metadata": {
    "collapsed": false
   },
   "outputs": [
    {
     "data": {
      "text/plain": [
       "['email1@gamil.com', 'il2@yahoo.com', 'email3@outlook.coM']"
      ]
     },
     "execution_count": 79,
     "metadata": {},
     "output_type": "execute_result"
    }
   ],
   "source": [
    "data = open('data2.txt').read()\n",
    "re.findall('[0-9a-z]+@[a-z]+\\.[cominrg]{2,3}',data,re.I)"
   ]
  },
  {
   "cell_type": "code",
   "execution_count": 81,
   "metadata": {
    "collapsed": false
   },
   "outputs": [],
   "source": [
    "data = open('data2.txt').read()\n",
    "email = re.findall('[a-z0-9$#%&]+@[a-z]+\\.[cominrg]{2,3}',data,re.I)"
   ]
  },
  {
   "cell_type": "code",
   "execution_count": 82,
   "metadata": {
    "collapsed": false
   },
   "outputs": [
    {
     "data": {
      "text/plain": [
       "['email1@gamil.com', 'Ema$il2@yahoo.com', 'email3@outlook.coM']"
      ]
     },
     "execution_count": 82,
     "metadata": {},
     "output_type": "execute_result"
    }
   ],
   "source": [
    "email"
   ]
  },
  {
   "cell_type": "code",
   "execution_count": 83,
   "metadata": {
    "collapsed": false
   },
   "outputs": [
    {
     "data": {
      "text/plain": [
       "True"
      ]
     },
     "execution_count": 83,
     "metadata": {},
     "output_type": "execute_result"
    }
   ],
   "source": [
    "len(email)>1"
   ]
  },
  {
   "cell_type": "code",
   "execution_count": 84,
   "metadata": {
    "collapsed": true
   },
   "outputs": [],
   "source": [
    "data = open('data2.txt').read()\n",
    "re.match('[a-z0-9$#%&]+@[a-z]+\\.[cominrg]{2,3}',data,re.I)"
   ]
  },
  {
   "cell_type": "code",
   "execution_count": 86,
   "metadata": {
    "collapsed": false
   },
   "outputs": [],
   "source": [
    "data = open('data2.txt').read()\n",
    "matched = re.search('[a-z0-9$#%&]+@[a-z]+\\.[cominrg]{2,3}',data,re.I)"
   ]
  },
  {
   "cell_type": "code",
   "execution_count": 88,
   "metadata": {
    "collapsed": false
   },
   "outputs": [
    {
     "data": {
      "text/plain": [
       "'email1@gamil.com'"
      ]
     },
     "execution_count": 88,
     "metadata": {},
     "output_type": "execute_result"
    }
   ],
   "source": [
    "matched.group(0)"
   ]
  },
  {
   "cell_type": "code",
   "execution_count": 89,
   "metadata": {
    "collapsed": true
   },
   "outputs": [],
   "source": [
    "reg = re.compile('[a-z0-9$#%&]+@[a-z]+\\.[cominrg]{2,3}')"
   ]
  },
  {
   "cell_type": "code",
   "execution_count": 90,
   "metadata": {
    "collapsed": false
   },
   "outputs": [
    {
     "data": {
      "text/plain": [
       "['email1@gamil.com', 'ma$il2@yahoo.com', 'email3@outlook.co']"
      ]
     },
     "execution_count": 90,
     "metadata": {},
     "output_type": "execute_result"
    }
   ],
   "source": [
    "reg.findall(data)"
   ]
  },
  {
   "cell_type": "code",
   "execution_count": null,
   "metadata": {
    "collapsed": true
   },
   "outputs": [],
   "source": []
  }
 ],
 "metadata": {
  "kernelspec": {
   "display_name": "Python 2",
   "language": "python",
   "name": "python2"
  },
  "language_info": {
   "codemirror_mode": {
    "name": "ipython",
    "version": 2
   },
   "file_extension": ".py",
   "mimetype": "text/x-python",
   "name": "python",
   "nbconvert_exporter": "python",
   "pygments_lexer": "ipython2",
   "version": "2.7.11"
  }
 },
 "nbformat": 4,
 "nbformat_minor": 0
}
