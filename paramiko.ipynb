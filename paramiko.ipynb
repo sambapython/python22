{
 "cells": [
  {
   "cell_type": "code",
   "execution_count": 1,
   "metadata": {
    "collapsed": true
   },
   "outputs": [],
   "source": [
    "import subprocess as sp\n",
    "ps_output = sp.check_output(['ps','aux'])"
   ]
  },
  {
   "cell_type": "code",
   "execution_count": 2,
   "metadata": {
    "collapsed": false
   },
   "outputs": [
    {
     "data": {
      "text/plain": [
       "'USER       PID %CPU %MEM    VSZ   RSS TTY      STAT START   TIME COMMAND\\nroot         1  0.0  0.1 185008  5664 ?        Ss   03:49   0:03 /sbin/init splash\\nroot         2  0.0  0.0      0     0 ?        S    03:49   0:00 [kthreadd]\\nroot         3  0.0  0.0      0     0 ?        S    03:49   0:00 [ksoftirqd/0]\\nroot         5  0.0  0.0      0     0 ?        S<   03:49   0:00 [kworker/0:0H]\\nroot         7  0.0  0.0      0     0 ?        S    03:49   0:03 [rcu_sched]\\nroot         8  0.0  0.0      0     0 ?        S    03:49   0:00 [rcu_bh]\\nroot         9  0.0  0.0      0     0 ?        S    03:49   0:02 [rcuos/0]\\nroot        10  0.0  0.0      0     0 ?        S    03:49   0:00 [rcuob/0]\\nroot        11  0.0  0.0      0     0 ?        S    03:49   0:00 [migration/0]\\nroot        12  0.0  0.0      0     0 ?        S    03:49   0:00 [watchdog/0]\\nroot        13  0.0  0.0      0     0 ?        S<   03:49   0:00 [khelper]\\nroot        14  0.0  0.0      0     0 ?        S    03:49   0:00 [kdevtmpfs]\\nroot        15  0.0  0.0      0     0 ?        S<   03:49   0:00 [netns]\\nroot        16  0.0  0.0      0     0 ?        S<   03:49   0:00 [perf]\\nroot        17  0.0  0.0      0     0 ?        S    03:49   0:00 [khungtaskd]\\nroot        18  0.0  0.0      0     0 ?        S<   03:49   0:00 [writeback]\\nroot        19  0.0  0.0      0     0 ?        SN   03:49   0:00 [ksmd]\\nroot        20  0.0  0.0      0     0 ?        SN   03:49   0:09 [khugepaged]\\nroot        21  0.0  0.0      0     0 ?        S<   03:49   0:00 [crypto]\\nroot        22  0.0  0.0      0     0 ?        S<   03:49   0:00 [kintegrityd]\\nroot        23  0.0  0.0      0     0 ?        S<   03:49   0:00 [bioset]\\nroot        24  0.0  0.0      0     0 ?        S<   03:49   0:00 [kblockd]\\nroot        25  0.0  0.0      0     0 ?        S<   03:49   0:00 [ata_sff]\\nroot        26  0.0  0.0      0     0 ?        S<   03:49   0:00 [md]\\nroot        27  0.0  0.0      0     0 ?        S<   03:49   0:00 [devfreq_wq]\\nroot        30  0.0  0.0      0     0 ?        S    03:49   0:00 [kswapd0]\\nroot        31  0.0  0.0      0     0 ?        S<   03:49   0:00 [vmstat]\\nroot        32  0.0  0.0      0     0 ?        S    03:49   0:00 [fsnotify_mark]\\nroot        33  0.0  0.0      0     0 ?        S    03:49   0:00 [ecryptfs-kthrea]\\nroot        44  0.0  0.0      0     0 ?        S<   03:49   0:00 [kthrotld]\\nroot        45  0.0  0.0      0     0 ?        S<   03:49   0:00 [acpi_thermal_pm]\\nroot        46  0.0  0.0      0     0 ?        S    03:49   0:00 [scsi_eh_0]\\nroot        47  0.0  0.0      0     0 ?        S<   03:49   0:00 [scsi_tmf_0]\\nroot        48  0.0  0.0      0     0 ?        S    03:49   0:00 [scsi_eh_1]\\nroot        49  0.0  0.0      0     0 ?        S<   03:49   0:00 [scsi_tmf_1]\\nroot        54  0.0  0.0      0     0 ?        S<   03:49   0:00 [ipv6_addrconf]\\nroot        74  0.0  0.0      0     0 ?        S<   03:49   0:00 [deferwq]\\nroot        75  0.0  0.0      0     0 ?        S<   03:49   0:00 [charger_manager]\\nroot       114  0.0  0.0      0     0 ?        S<   03:49   0:00 [kpsmoused]\\nroot       116  0.0  0.0      0     0 ?        S<   03:49   0:00 [kworker/0:1H]\\nroot       117  0.0  0.0      0     0 ?        S    03:49   0:00 [scsi_eh_2]\\nroot       118  0.0  0.0      0     0 ?        S<   03:49   0:00 [scsi_tmf_2]\\nroot       144  0.0  0.0      0     0 ?        S    03:49   0:01 [jbd2/sda1-8]\\nroot       145  0.0  0.0      0     0 ?        S<   03:49   0:00 [ext4-rsv-conver]\\nroot       182  0.0  0.0      0     0 ?        S    03:49   0:00 [kauditd]\\nroot       198  0.0  0.1  32352  4068 ?        Ss   03:49   0:01 /lib/systemd/systemd-journald\\nroot       212  0.0  0.1  45716  5212 ?        Ss   03:49   0:00 /lib/systemd/systemd-udevd\\nroot       295  0.0  0.0      0     0 ?        S<   03:49   0:00 [iprt-VBoxWQueue]\\nsystemd+   307  0.0  0.0 102356  2736 ?        Ssl  03:49   0:00 /lib/systemd/systemd-timesyncd\\nroot       488  0.0  0.0  28600  3136 ?        Ss   03:49   0:00 /lib/systemd/systemd-logind\\nroot       492  0.0  0.0  33124  3112 ?        Ss   03:49   0:00 /usr/sbin/cron -f\\navahi      493  0.0  0.0  40192  3336 ?        Ss   03:49   0:00 avahi-daemon: running [tcloudost-VirtualBox.local]\\nmessage+   499  0.0  0.1  44228  5256 ?        Ss   03:49   0:03 /usr/bin/dbus-daemon --system --address=systemd: --nofork --nopidfile --systemd-activation\\navahi      506  0.0  0.0  40068   316 ?        S    03:49   0:00 avahi-daemon: chroot helper\\nsyslog     507  0.0  0.0 256372  3604 ?        Ssl  03:49   0:00 /usr/sbin/rsyslogd -n\\nroot       514  0.0  0.1 287308  6948 ?        Ssl  03:49   0:01 /usr/lib/accountsservice/accounts-daemon\\nwhoopsie   516  0.0  0.3 447504 12304 ?        Ssl  03:49   0:00 /usr/bin/whoopsie -f\\nroot       518  0.0  0.2 337240  8516 ?        Ssl  03:49   0:00 /usr/sbin/ModemManager\\nroot       519  0.0  0.4 381628 16676 ?        Ssl  03:49   0:00 /usr/sbin/NetworkManager --no-daemon\\nroot       525  0.0  0.0  25180  2608 ?        Ss   03:49   0:00 /sbin/cgmanager -m name=systemd\\nroot       531  0.0  0.2 272360  9440 ?        Ssl  03:49   0:00 /usr/sbin/cups-browsed\\nroot       594  0.0  0.0 247744  2068 ?        Sl   03:49   0:07 /usr/sbin/VBoxService\\nroot       602  0.0  0.2 285720  8472 ?        Ssl  03:49   0:00 /usr/lib/policykit-1/polkitd --no-debug\\nroot       611  0.0  0.1  69932  5936 ?        Ss   03:49   0:00 /usr/sbin/sshd -D\\nmysql      614  0.0  0.0   4476  1672 ?        Ss   03:49   0:00 /bin/sh /usr/bin/mysqld_safe\\nroot       693  0.0  0.1  39192  5140 ?        Ss   03:49   0:00 /sbin/wpa_supplicant -u -s -O /run/wpa_supplicant\\nnobody     836  0.0  0.0  52288  3952 ?        S    03:49   0:00 /usr/sbin/dnsmasq --no-resolv --keep-in-foreground --no-hosts --bind-interfaces --pid-file=/run/sendsigs.omit.d/network-manager.dnsmasq.pid --listen-address=127.0.1.1 --conf-file=/var/run/NetworkManager/dnsmasq.conf --cache-size=0 --proxy-dnssec --enable-dbus=org.freedesktop.NetworkManager.dnsmasq --conf-dir=/etc/NetworkManager/dnsmasq.d\\npostgres   863  0.0  0.5 293632 24092 ?        S    03:49   0:01 /usr/lib/postgresql/9.4/bin/postgres -D /var/lib/postgresql/9.4/main -c config_file=/etc/postgresql/9.4/main/postgresql.conf\\npostgres  1034  0.0  0.0 293632  3832 ?        Ss   03:49   0:00 postgres: checkpointer process                                                                                              \\npostgres  1038  0.0  0.1 293632  5532 ?        Ss   03:49   0:00 postgres: writer process                                                                                                    \\npostgres  1039  0.0  0.0 293632  3832 ?        Ss   03:49   0:00 postgres: wal writer process                                                                                                \\npostgres  1043  0.0  0.1 294052  6280 ?        Ss   03:49   0:00 postgres: autovacuum launcher process                                                                                       \\npostgres  1044  0.0  0.0 148776  3888 ?        Ss   03:49   0:00 postgres: stats collector process                                                                                           \\nmysql     1051  0.0  3.1 729268 126516 ?       Sl   03:49   0:15 /usr/sbin/mysqld --basedir=/usr --datadir=/var/lib/mysql --plugin-dir=/usr/lib/mysql/plugin --log-error=/var/log/mysql/error.log --pid-file=/var/run/mysqld/mysqld.pid --socket=/var/run/mysqld/mysqld.sock --port=3306\\nkernoops  1199  0.0  0.0  45276  2612 ?        Ss   03:49   0:00 /usr/sbin/kerneloops\\nroot      1221  0.0  0.1  73660  5112 ?        Ss   03:49   0:02 /usr/sbin/apache2 -k start\\nroot      1292  0.0  0.2 352548  8152 ?        SLsl 03:49   0:00 /usr/sbin/lightdm\\nroot      1302  6.6  2.7 372096 111536 tty7    Ss+  03:49  21:36 /usr/bin/X -core :0 -seat seat0 -auth /var/run/lightdm/root/:0 -nolisten tcp vt7 -novtswitch\\nroot      1395  0.0  0.0  20052  2200 tty1     Ss+  03:50   0:00 /sbin/agetty --noclear tty1 linux\\nroot      1504  0.0  0.1 230224  6296 ?        Sl   03:50   0:00 lightdm --session-child 12 19\\nrtkit     1529  0.0  0.0 178820  2944 ?        SNsl 03:50   0:00 /usr/lib/rtkit/rtkit-daemon\\nroot      1586  0.0  0.2 345668 10208 ?        Ssl  03:50   0:00 /usr/lib/upower/upowerd\\ncolord    1597  0.0  0.2 305144 10888 ?        Ssl  03:50   0:00 /usr/lib/colord/colord\\ntcloudo+  1618  0.0  0.1  45164  5132 ?        Ss   03:51   0:00 /lib/systemd/systemd --user\\ntcloudo+  1620  0.0  0.0  60996  1736 ?        S    03:51   0:00 (sd-pam)         \\ntcloudo+  1627  0.0  0.1 292396  7440 ?        Sl   03:51   0:00 /usr/bin/gnome-keyring-daemon --daemonize --login\\ntcloudo+  1629  0.0  0.1  45780  4524 ?        Ss   03:51   0:01 /sbin/upstart --user\\ntcloudo+  1706  0.0  0.0  49464  1376 ?        S    03:51   0:05 /usr/bin/VBoxClient --clipboard\\ntcloudo+  1711  0.0  0.0  49464  1404 ?        S    03:51   0:05 /usr/bin/VBoxClient --checkhostversion\\ntcloudo+  1717  0.0  0.0  49464  1360 ?        S    03:51   0:05 /usr/bin/VBoxClient --display\\ntcloudo+  1724  0.0  0.0  49464  1372 ?        S    03:51   0:05 /usr/bin/VBoxClient --seamless\\ntcloudo+  1735  0.0  0.0  49464  1412 ?        S    03:51   0:05 /usr/bin/VBoxClient --draganddrop\\ntcloudo+  1747  0.0  0.0  39016  1788 ?        S    03:51   0:00 dbus-launch --autolaunch=e51c7092bfbd4fb4ac8b04918ff33401 --binary-syntax --close-stderr\\ntcloudo+  1755  0.0  0.0  42848  3200 ?        Ss   03:51   0:00 /usr/bin/dbus-daemon --fork --print-pid 5 --print-address 7 --session\\ntcloudo+  1762  0.0  0.6 439316 26876 ?        Sl   03:51   0:02 /usr/lib/x86_64-linux-gnu/notify-osd\\ntcloudo+  1775  0.0  0.0  32296   260 ?        S    03:51   0:00 upstart-udev-bridge --daemon --user\\ntcloudo+  1787  0.0  0.1 337956  5732 ?        Sl   03:51   0:00 /usr/lib/at-spi2-core/at-spi-bus-launcher\\ntcloudo+  1793  0.0  0.1  42860  4084 ?        S    03:51   0:00 /usr/bin/dbus-daemon --config-file=/etc/at-spi2/accessibility.conf --nofork --print-address 3\\ntcloudo+  1794  0.0  0.1  43948  4480 ?        Ss   03:51   0:04 dbus-daemon --fork --session --address=unix:abstract=/tmp/dbus-cJe7iSDXFY\\ntcloudo+  1798  0.0  0.1 206936  5344 ?        Sl   03:51   0:01 /usr/lib/at-spi2-core/at-spi2-registryd --use-gnome-session\\ntcloudo+  1810  0.0  0.2  88176  9712 ?        Ss   03:51   0:00 /usr/lib/x86_64-linux-gnu/hud/window-stack-bridge\\ntcloudo+  1814  0.0  0.1 271164  5812 ?        Sl   03:51   0:00 /usr/lib/gvfs/gvfsd\\ntcloudo+  1829  0.0  0.1 409032  5404 ?        Sl   03:51   0:00 /usr/lib/gvfs/gvfsd-fuse /run/user/1000/gvfs -f -o big_writes\\ntcloudo+  1857  0.0  0.6 512440 24724 ?        Sl   03:51   0:05 /usr/lib/x86_64-linux-gnu/bamf/bamfdaemon\\ntcloudo+  1870  0.0  0.5 427004 23224 ?        Sl   03:51   0:01 /usr/bin/gnome-screensaver --no-daemon\\ntcloudo+  1881  0.0  0.1 558376  6032 ?        Sl   03:51   0:00 /usr/lib/gvfs/gvfsd\\ntcloudo+  1888  0.0  0.2 353184  9008 ?        Ssl  03:51   0:16 /usr/bin/ibus-daemon --daemonize --xim\\ntcloudo+  1893  0.0  0.0  32364  1776 ?        S    03:51   0:01 upstart-dbus-bridge --daemon --session --user --bus-name session\\ntcloudo+  1900  0.0  0.0  40828  1904 ?        S    03:51   0:00 upstart-file-bridge --daemon --user\\ntcloudo+  1901  0.0  0.0  32364  1812 ?        S    03:51   0:00 upstart-dbus-bridge --daemon --system --user --bus-name system\\ntcloudo+  1918  0.0  1.2 718548 50484 ?        Ssl  03:51   0:13 /usr/lib/x86_64-linux-gnu/hud/hud-service\\ntcloudo+  1920  0.0  0.9 797640 37136 ?        Ssl  03:51   0:07 /usr/lib/unity-settings-daemon/unity-settings-daemon\\ntcloudo+  1922  0.0  0.1 270504  6292 ?        Sl   03:51   0:00 /usr/lib/ibus/ibus-dconf\\ntcloudo+  1927  0.0  0.7 474720 32196 ?        Sl   03:51   0:07 /usr/lib/ibus/ibus-ui-gtk3\\ntcloudo+  1931  0.0  0.3 554600 13980 ?        Ssl  03:51   0:00 gnome-session --session=ubuntu\\ntcloudo+  1933  0.0  0.3 376804 13936 ?        Sl   03:51   0:00 /usr/lib/ibus/ibus-x11 --kill-daemon\\ntcloudo+  1939 10.9  6.9 1245440 282496 ?      Ssl  03:51  35:40 compiz\\ntcloudo+  1943  0.0  1.2 799280 52292 ?        Ssl  03:51   0:09 /usr/lib/unity/unity-panel-service\\ntcloudo+  1956  0.0  0.1 194640  5992 ?        Sl   03:51   0:04 /usr/lib/ibus/ibus-engine-simple\\ntcloudo+  1978  0.0  0.2 363556  9524 ?        Ssl  03:51   0:00 /usr/lib/x86_64-linux-gnu/indicator-messages/indicator-messages-service\\ntcloudo+  1985  0.0  0.1 337480  7696 ?        Ssl  03:51   0:00 /usr/lib/x86_64-linux-gnu/indicator-bluetooth/indicator-bluetooth-service\\ntcloudo+  1989  0.0  0.1 418632  6188 ?        Ssl  03:51   0:00 /usr/lib/x86_64-linux-gnu/indicator-power/indicator-power-service\\ntcloudo+  1991  0.0  0.3 775928 15832 ?        Ssl  03:51   0:01 /usr/lib/x86_64-linux-gnu/indicator-datetime/indicator-datetime-service\\ntcloudo+  1996  0.0  0.6 650208 25648 ?        Ssl  03:51   0:01 /usr/lib/x86_64-linux-gnu/indicator-keyboard/indicator-keyboard-service --use-gtk\\ntcloudo+  1998  0.0  0.1 178628  4908 ?        Sl   03:51   0:00 /usr/lib/dconf/dconf-service\\ntcloudo+  2002  0.0  0.2 548908 10492 ?        Ssl  03:51   0:00 /usr/lib/x86_64-linux-gnu/indicator-sound/indicator-sound-service\\ntcloudo+  2007  0.0  0.6 541696 24528 ?        Ssl  03:51   0:01 /usr/lib/x86_64-linux-gnu/indicator-printers/indicator-printers-service\\ntcloudo+  2008  0.0  0.1 631744  6916 ?        Ssl  03:51   0:00 /usr/lib/x86_64-linux-gnu/indicator-session/indicator-session-service\\ntcloudo+  2022  0.0  0.3 469320 14084 ?        Ssl  03:51   0:00 /usr/lib/x86_64-linux-gnu/indicator-application/indicator-application-service\\ntcloudo+  2039  0.0  0.6 846340 24528 ?        Sl   03:51   0:00 /usr/lib/evolution/evolution-source-registry\\ntcloudo+  2054  0.0  0.2 434344 11304 ?        S<l  03:51   0:00 /usr/bin/pulseaudio --start --log-target=syslog\\ntcloudo+  2086  0.1  1.4 1080340 56920 ?       Sl   03:51   0:22 nautilus -n\\ntcloudo+  2089  0.0  0.5 426108 21840 ?        Sl   03:51   0:01 /usr/lib/policykit-1-gnome/polkit-gnome-authentication-agent-1\\ntcloudo+  2094  0.0  0.5 573644 20632 ?        Sl   03:51   0:01 /usr/lib/unity-settings-daemon/unity-fallback-mount-helper\\ntcloudo+  2095  0.0  0.8 661808 33284 ?        Sl   03:51   0:02 nm-applet\\ntcloudo+  2112  0.0  0.1 289520  7428 ?        Sl   03:51   0:00 /usr/lib/gvfs/gvfs-udisks2-volume-monitor\\ntcloudo+  2114  0.0  0.1  66292  6508 ?        S    03:51   0:00 /usr/lib/x86_64-linux-gnu/gconf/gconfd-2\\nroot      2117  0.0  0.2 367508  8524 ?        Ssl  03:51   0:00 /usr/lib/udisks2/udisksd --no-debug\\ntcloudo+  2129  0.0  0.2 403172 10992 ?        Sl   03:51   0:00 /usr/lib/gvfs/gvfs-afc-volume-monitor\\ntcloudo+  2131  0.0  1.5 859160 60992 ?        Sl   03:51   0:00 /usr/lib/evolution/evolution-calendar-factory\\ntcloudo+  2137  0.0  0.1 275816  5712 ?        Sl   03:51   0:00 /usr/lib/gvfs/gvfs-gphoto2-volume-monitor\\ntcloudo+  2142  0.0  0.1 263620  5208 ?        Sl   03:51   0:00 /usr/lib/gvfs/gvfs-mtp-volume-monitor\\ntcloudo+  2153  0.0  0.1 344896  5956 ?        Sl   03:51   0:00 /usr/lib/gvfs/gvfsd-burn --spawner :1.6 /org/gtk/gvfs/exec_spaw/0\\ntcloudo+  2160  0.0  0.1 349644  6500 ?        Sl   03:51   0:00 /usr/lib/gvfs/gvfsd-trash --spawner :1.6 /org/gtk/gvfs/exec_spaw/1\\ntcloudo+  2178  0.0  0.4 783660 17472 ?        Sl   03:51   0:00 /usr/lib/evolution/evolution-calendar-factory-subprocess --factory contacts --bus-name org.gnome.evolution.dataserver.Subprocess.Backend.Calendarx2131x2 --own-path /org/gnome/evolution/dataserver/Subprocess/Backend/Calendar/2131/2\\ntcloudo+  2189  0.0  0.4 692320 18532 ?        Sl   03:51   0:00 /usr/lib/evolution/evolution-addressbook-factory\\ntcloudo+  2190  0.0  0.4 768028 17020 ?        Sl   03:51   0:00 /usr/lib/evolution/evolution-calendar-factory-subprocess --factory local --bus-name org.gnome.evolution.dataserver.Subprocess.Backend.Calendarx2131x3 --own-path /org/gnome/evolution/dataserver/Subprocess/Backend/Calendar/2131/3\\ntcloudo+  2210  0.0  0.4 767880 19744 ?        Sl   03:51   0:00 /usr/lib/evolution/evolution-addressbook-factory-subprocess --factory local --bus-name org.gnome.evolution.dataserver.Subprocess.Backend.AddressBookx2189x2 --own-path /org/gnome/evolution/dataserver/Subprocess/Backend/AddressBook/2189/2\\ntcloudo+  2223  0.0  0.1 190548  5796 ?        Sl   03:51   0:00 /usr/lib/gvfs/gvfsd-metadata\\ntcloudo+  2247  0.0  0.6 549196 25440 ?        Sl   03:51   0:01 telepathy-indicator\\ntcloudo+  2255  0.0  0.3 424888 15096 ?        Sl   03:51   0:00 /usr/lib/telepathy/mission-control-5\\ntcloudo+  2275  0.0  0.4 412636 18004 ?        Sl   03:52   0:03 zeitgeist-datahub\\ntcloudo+  2282  0.0  0.2 346952  9700 ?        Sl   03:52   0:00 /usr/bin/zeitgeist-daemon\\ntcloudo+  2289  0.0  0.6 328000 24736 ?        Sl   03:52   0:01 /usr/lib/x86_64-linux-gnu/zeitgeist-fts\\ntcloudo+  2368  0.0  0.6 595208 24848 ?        Sl   03:52   0:01 update-notifier\\ntcloudo+  2477  0.0  0.3 515564 13496 ?        Sl   03:53   0:00 /usr/lib/x86_64-linux-gnu/deja-dup/deja-dup-monitor\\nroot      2758  0.0  0.1  90212  7056 ?        Ss   03:54   0:00 /usr/sbin/cupsd -l\\nlp        2762  0.0  0.1  74192  5460 ?        S    03:54   0:00 /usr/lib/cups/notifier/dbus dbus:// \\nlp        2763  0.0  0.1  74192  5404 ?        S    03:54   0:00 /usr/lib/cups/notifier/dbus dbus:// \\ntcloudo+  4628  0.0  0.4 715360 19300 ?        Sl   04:20   0:01 /usr/lib/gvfs/gvfsd-http --spawner :1.6 /org/gtk/gvfs/exec_spaw/2\\ntcloudo+  7342  0.0  0.7 741620 29904 ?        Sl   05:03   0:01 /usr/lib/x86_64-linux-gnu/unity-scope-home/unity-scope-home\\ntcloudo+  7356  0.0  0.6 583316 27644 ?        Sl   05:03   0:02 /usr/bin/unity-scope-loader applications/applications.scope applications/scopes.scope commands.scope\\ntcloudo+  7358  0.0  0.3 710244 13896 ?        Sl   05:03   0:03 /usr/lib/x86_64-linux-gnu/unity-lens-files/unity-files-daemon\\nuuidd     7382  0.0  0.0  27592  1256 ?        Ss   05:03   0:00 /usr/sbin/uuidd --socket-activation\\ntcloudo+  7387  0.0  0.3 339344 13592 ?        Sl   05:03   0:01 /usr/lib/x86_64-linux-gnu/unity-lens-music/unity-music-daemon\\ntcloudo+ 12618  0.0  0.8 634252 34496 ?        Ssl  06:17   0:03 /home/tcloudost/anaconda2/bin/python -m ipykernel -f /run/user/1000/jupyter/kernel-5fc38a98-0836-4c31-a424-af0c331c16a0.json\\ntcloudo+ 17192  0.0  0.7 486304 30592 ?        Sl   07:15   0:01 /usr/lib/x86_64-linux-gnu/notify-osd\\nroot     17198  0.0  0.2  23456 10416 ?        S    07:15   0:00 /sbin/dhclient -d -q -sf /usr/lib/NetworkManager/nm-dhcp-helper -pf /run/sendsigs.omit.d/network-manager.dhclient-enp0s3.pid -lf /var/lib/NetworkManager/dhclient-d1f3a15c-4e75-4243-b07d-930229f09507-enp0s3.lease -cf /var/lib/NetworkManager/dhclient-enp0s3.conf enp0s3\\ntcloudo+ 17414  0.0  0.9 648536 38868 ?        Sl   07:16   0:06 /usr/lib/gnome-terminal/gnome-terminal-server\\ntcloudo+ 17421  0.0  0.0  14852  1916 ?        S    07:16   0:00 gnome-pty-helper\\ntcloudo+ 17422  0.0  0.1  27536  6308 pts/2    Ss   07:16   0:00 bash\\ntcloudo+ 17480  3.4  9.3 1048900 379180 ?      Rl   07:16   4:06 /usr/lib/firefox/firefox http://localhost:8888/tree\\nroot     18544  0.0  0.0      0     0 ?        S    07:30   0:00 [kworker/0:1]\\nwww-data 19034  0.0  0.0  73660  3400 ?        S    07:35   0:00 /usr/sbin/apache2 -k start\\nwww-data 19036  0.0  0.1 362852  6244 ?        Sl   07:35   0:03 /usr/sbin/apache2 -k start\\nwww-data 19038  0.0  0.1 362852  6244 ?        Sl   07:35   0:03 /usr/sbin/apache2 -k start\\ntcloudo+ 20617  0.0  1.1 690704 47660 ?        Sl   07:57   0:02 gedit /home/tcloudost/anaconda2/lib/python2.7/abc.py\\ntcloudo+ 20962  0.1  1.5 906724 64608 ?        Ssl  08:02   0:08 /opt/sublime_text/sublime_text\\ntcloudo+ 20976  0.1  1.0 305632 42924 ?        Sl   08:02   0:04 /opt/sublime_text/plugin_host 20962\\ntcloudo+ 21064  0.0  0.1  27560  6320 pts/17   Ss   08:03   0:00 bash\\nroot     24122  0.0  0.0      0     0 ?        S    08:52   0:00 [kworker/u2:2]\\nroot     24592  0.0  0.0      0     0 ?        S    08:59   0:00 [kworker/0:0]\\ntcloudo+ 24698  0.3  1.1 342208 45908 pts/2    Sl+  09:01   0:02 /home/tcloudost/anaconda2/bin/python /home/tcloudost/anaconda2/bin/ipython notebook\\nroot     24954  0.0  0.0      0     0 ?        S    09:04   0:00 [kworker/u2:1]\\ntcloudo+ 25297  0.5  0.9 633988 36684 ?        Ssl  09:10   0:01 /home/tcloudost/anaconda2/bin/python -m ipykernel -f /run/user/1000/jupyter/kernel-4e738f0f-ac1a-4f6d-8b1b-040b00c96988.json\\ntcloudo+ 25388  0.6  0.7 206468 29272 pts/17   Sl+  09:11   0:01 /home/tcloudost/anaconda2/bin/python /home/tcloudost/anaconda2/bin/ipython\\nroot     25505  0.0  0.0      0     0 ?        S    09:13   0:00 [kworker/u2:0]\\nroot     25527  0.0  0.0      0     0 ?        S    09:13   0:00 [kworker/0:2]\\ntcloudo+ 25673  0.0  0.0  22676  2732 ?        R    09:16   0:00 ps aux\\n'"
      ]
     },
     "execution_count": 2,
     "metadata": {},
     "output_type": "execute_result"
    }
   ],
   "source": [
    "ps_output"
   ]
  },
  {
   "cell_type": "code",
   "execution_count": 3,
   "metadata": {
    "collapsed": false
   },
   "outputs": [
    {
     "name": "stdout",
     "output_type": "stream",
     "text": [
      "USER       PID %CPU %MEM    VSZ   RSS TTY      STAT START   TIME COMMAND\n",
      "root         1  0.0  0.1 185008  5664 ?        Ss   03:49   0:03 /sbin/init splash\n",
      "root         2  0.0  0.0      0     0 ?        S    03:49   0:00 [kthreadd]\n",
      "root         3  0.0  0.0      0     0 ?        S    03:49   0:00 [ksoftirqd/0]\n",
      "root         5  0.0  0.0      0     0 ?        S<   03:49   0:00 [kworker/0:0H]\n",
      "root         7  0.0  0.0      0     0 ?        S    03:49   0:03 [rcu_sched]\n",
      "root         8  0.0  0.0      0     0 ?        S    03:49   0:00 [rcu_bh]\n",
      "root         9  0.0  0.0      0     0 ?        S    03:49   0:02 [rcuos/0]\n",
      "root        10  0.0  0.0      0     0 ?        S    03:49   0:00 [rcuob/0]\n",
      "root        11  0.0  0.0      0     0 ?        S    03:49   0:00 [migration/0]\n",
      "root        12  0.0  0.0      0     0 ?        S    03:49   0:00 [watchdog/0]\n",
      "root        13  0.0  0.0      0     0 ?        S<   03:49   0:00 [khelper]\n",
      "root        14  0.0  0.0      0     0 ?        S    03:49   0:00 [kdevtmpfs]\n",
      "root        15  0.0  0.0      0     0 ?        S<   03:49   0:00 [netns]\n",
      "root        16  0.0  0.0      0     0 ?        S<   03:49   0:00 [perf]\n",
      "root        17  0.0  0.0      0     0 ?        S    03:49   0:00 [khungtaskd]\n",
      "root        18  0.0  0.0      0     0 ?        S<   03:49   0:00 [writeback]\n",
      "root        19  0.0  0.0      0     0 ?        SN   03:49   0:00 [ksmd]\n",
      "root        20  0.0  0.0      0     0 ?        SN   03:49   0:09 [khugepaged]\n",
      "root        21  0.0  0.0      0     0 ?        S<   03:49   0:00 [crypto]\n",
      "root        22  0.0  0.0      0     0 ?        S<   03:49   0:00 [kintegrityd]\n",
      "root        23  0.0  0.0      0     0 ?        S<   03:49   0:00 [bioset]\n",
      "root        24  0.0  0.0      0     0 ?        S<   03:49   0:00 [kblockd]\n",
      "root        25  0.0  0.0      0     0 ?        S<   03:49   0:00 [ata_sff]\n",
      "root        26  0.0  0.0      0     0 ?        S<   03:49   0:00 [md]\n",
      "root        27  0.0  0.0      0     0 ?        S<   03:49   0:00 [devfreq_wq]\n",
      "root        30  0.0  0.0      0     0 ?        S    03:49   0:00 [kswapd0]\n",
      "root        31  0.0  0.0      0     0 ?        S<   03:49   0:00 [vmstat]\n",
      "root        32  0.0  0.0      0     0 ?        S    03:49   0:00 [fsnotify_mark]\n",
      "root        33  0.0  0.0      0     0 ?        S    03:49   0:00 [ecryptfs-kthrea]\n",
      "root        44  0.0  0.0      0     0 ?        S<   03:49   0:00 [kthrotld]\n",
      "root        45  0.0  0.0      0     0 ?        S<   03:49   0:00 [acpi_thermal_pm]\n",
      "root        46  0.0  0.0      0     0 ?        S    03:49   0:00 [scsi_eh_0]\n",
      "root        47  0.0  0.0      0     0 ?        S<   03:49   0:00 [scsi_tmf_0]\n",
      "root        48  0.0  0.0      0     0 ?        S    03:49   0:00 [scsi_eh_1]\n",
      "root        49  0.0  0.0      0     0 ?        S<   03:49   0:00 [scsi_tmf_1]\n",
      "root        54  0.0  0.0      0     0 ?        S<   03:49   0:00 [ipv6_addrconf]\n",
      "root        74  0.0  0.0      0     0 ?        S<   03:49   0:00 [deferwq]\n",
      "root        75  0.0  0.0      0     0 ?        S<   03:49   0:00 [charger_manager]\n",
      "root       114  0.0  0.0      0     0 ?        S<   03:49   0:00 [kpsmoused]\n",
      "root       116  0.0  0.0      0     0 ?        S<   03:49   0:00 [kworker/0:1H]\n",
      "root       117  0.0  0.0      0     0 ?        S    03:49   0:00 [scsi_eh_2]\n",
      "root       118  0.0  0.0      0     0 ?        S<   03:49   0:00 [scsi_tmf_2]\n",
      "root       144  0.0  0.0      0     0 ?        S    03:49   0:01 [jbd2/sda1-8]\n",
      "root       145  0.0  0.0      0     0 ?        S<   03:49   0:00 [ext4-rsv-conver]\n",
      "root       182  0.0  0.0      0     0 ?        S    03:49   0:00 [kauditd]\n",
      "root       198  0.0  0.1  32352  4068 ?        Ss   03:49   0:01 /lib/systemd/systemd-journald\n",
      "root       212  0.0  0.1  45716  5212 ?        Ss   03:49   0:00 /lib/systemd/systemd-udevd\n",
      "root       295  0.0  0.0      0     0 ?        S<   03:49   0:00 [iprt-VBoxWQueue]\n",
      "systemd+   307  0.0  0.0 102356  2736 ?        Ssl  03:49   0:00 /lib/systemd/systemd-timesyncd\n",
      "root       488  0.0  0.0  28600  3136 ?        Ss   03:49   0:00 /lib/systemd/systemd-logind\n",
      "root       492  0.0  0.0  33124  3112 ?        Ss   03:49   0:00 /usr/sbin/cron -f\n",
      "avahi      493  0.0  0.0  40192  3336 ?        Ss   03:49   0:00 avahi-daemon: running [tcloudost-VirtualBox.local]\n",
      "message+   499  0.0  0.1  44228  5256 ?        Ss   03:49   0:03 /usr/bin/dbus-daemon --system --address=systemd: --nofork --nopidfile --systemd-activation\n",
      "avahi      506  0.0  0.0  40068   316 ?        S    03:49   0:00 avahi-daemon: chroot helper\n",
      "syslog     507  0.0  0.0 256372  3604 ?        Ssl  03:49   0:00 /usr/sbin/rsyslogd -n\n",
      "root       514  0.0  0.1 287308  6948 ?        Ssl  03:49   0:01 /usr/lib/accountsservice/accounts-daemon\n",
      "whoopsie   516  0.0  0.3 447504 12304 ?        Ssl  03:49   0:00 /usr/bin/whoopsie -f\n",
      "root       518  0.0  0.2 337240  8516 ?        Ssl  03:49   0:00 /usr/sbin/ModemManager\n",
      "root       519  0.0  0.4 381628 16676 ?        Ssl  03:49   0:00 /usr/sbin/NetworkManager --no-daemon\n",
      "root       525  0.0  0.0  25180  2608 ?        Ss   03:49   0:00 /sbin/cgmanager -m name=systemd\n",
      "root       531  0.0  0.2 272360  9440 ?        Ssl  03:49   0:00 /usr/sbin/cups-browsed\n",
      "root       594  0.0  0.0 247744  2068 ?        Sl   03:49   0:07 /usr/sbin/VBoxService\n",
      "root       602  0.0  0.2 285720  8472 ?        Ssl  03:49   0:00 /usr/lib/policykit-1/polkitd --no-debug\n",
      "root       611  0.0  0.1  69932  5936 ?        Ss   03:49   0:00 /usr/sbin/sshd -D\n",
      "mysql      614  0.0  0.0   4476  1672 ?        Ss   03:49   0:00 /bin/sh /usr/bin/mysqld_safe\n",
      "root       693  0.0  0.1  39192  5140 ?        Ss   03:49   0:00 /sbin/wpa_supplicant -u -s -O /run/wpa_supplicant\n",
      "nobody     836  0.0  0.0  52288  3952 ?        S    03:49   0:00 /usr/sbin/dnsmasq --no-resolv --keep-in-foreground --no-hosts --bind-interfaces --pid-file=/run/sendsigs.omit.d/network-manager.dnsmasq.pid --listen-address=127.0.1.1 --conf-file=/var/run/NetworkManager/dnsmasq.conf --cache-size=0 --proxy-dnssec --enable-dbus=org.freedesktop.NetworkManager.dnsmasq --conf-dir=/etc/NetworkManager/dnsmasq.d\n",
      "postgres   863  0.0  0.5 293632 24092 ?        S    03:49   0:01 /usr/lib/postgresql/9.4/bin/postgres -D /var/lib/postgresql/9.4/main -c config_file=/etc/postgresql/9.4/main/postgresql.conf\n",
      "postgres  1034  0.0  0.0 293632  3832 ?        Ss   03:49   0:00 postgres: checkpointer process                                                                                              \n",
      "postgres  1038  0.0  0.1 293632  5532 ?        Ss   03:49   0:00 postgres: writer process                                                                                                    \n",
      "postgres  1039  0.0  0.0 293632  3832 ?        Ss   03:49   0:00 postgres: wal writer process                                                                                                \n",
      "postgres  1043  0.0  0.1 294052  6280 ?        Ss   03:49   0:00 postgres: autovacuum launcher process                                                                                       \n",
      "postgres  1044  0.0  0.0 148776  3888 ?        Ss   03:49   0:00 postgres: stats collector process                                                                                           \n",
      "mysql     1051  0.0  3.1 729268 126516 ?       Sl   03:49   0:15 /usr/sbin/mysqld --basedir=/usr --datadir=/var/lib/mysql --plugin-dir=/usr/lib/mysql/plugin --log-error=/var/log/mysql/error.log --pid-file=/var/run/mysqld/mysqld.pid --socket=/var/run/mysqld/mysqld.sock --port=3306\n",
      "kernoops  1199  0.0  0.0  45276  2612 ?        Ss   03:49   0:00 /usr/sbin/kerneloops\n",
      "root      1221  0.0  0.1  73660  5112 ?        Ss   03:49   0:02 /usr/sbin/apache2 -k start\n",
      "root      1292  0.0  0.2 352548  8152 ?        SLsl 03:49   0:00 /usr/sbin/lightdm\n",
      "root      1302  6.6  2.7 372096 111536 tty7    Ss+  03:49  21:36 /usr/bin/X -core :0 -seat seat0 -auth /var/run/lightdm/root/:0 -nolisten tcp vt7 -novtswitch\n",
      "root      1395  0.0  0.0  20052  2200 tty1     Ss+  03:50   0:00 /sbin/agetty --noclear tty1 linux\n",
      "root      1504  0.0  0.1 230224  6296 ?        Sl   03:50   0:00 lightdm --session-child 12 19\n",
      "rtkit     1529  0.0  0.0 178820  2944 ?        SNsl 03:50   0:00 /usr/lib/rtkit/rtkit-daemon\n",
      "root      1586  0.0  0.2 345668 10208 ?        Ssl  03:50   0:00 /usr/lib/upower/upowerd\n",
      "colord    1597  0.0  0.2 305144 10888 ?        Ssl  03:50   0:00 /usr/lib/colord/colord\n",
      "tcloudo+  1618  0.0  0.1  45164  5132 ?        Ss   03:51   0:00 /lib/systemd/systemd --user\n",
      "tcloudo+  1620  0.0  0.0  60996  1736 ?        S    03:51   0:00 (sd-pam)         \n",
      "tcloudo+  1627  0.0  0.1 292396  7440 ?        Sl   03:51   0:00 /usr/bin/gnome-keyring-daemon --daemonize --login\n",
      "tcloudo+  1629  0.0  0.1  45780  4524 ?        Ss   03:51   0:01 /sbin/upstart --user\n",
      "tcloudo+  1706  0.0  0.0  49464  1376 ?        S    03:51   0:05 /usr/bin/VBoxClient --clipboard\n",
      "tcloudo+  1711  0.0  0.0  49464  1404 ?        S    03:51   0:05 /usr/bin/VBoxClient --checkhostversion\n",
      "tcloudo+  1717  0.0  0.0  49464  1360 ?        S    03:51   0:05 /usr/bin/VBoxClient --display\n",
      "tcloudo+  1724  0.0  0.0  49464  1372 ?        S    03:51   0:05 /usr/bin/VBoxClient --seamless\n",
      "tcloudo+  1735  0.0  0.0  49464  1412 ?        S    03:51   0:05 /usr/bin/VBoxClient --draganddrop\n",
      "tcloudo+  1747  0.0  0.0  39016  1788 ?        S    03:51   0:00 dbus-launch --autolaunch=e51c7092bfbd4fb4ac8b04918ff33401 --binary-syntax --close-stderr\n",
      "tcloudo+  1755  0.0  0.0  42848  3200 ?        Ss   03:51   0:00 /usr/bin/dbus-daemon --fork --print-pid 5 --print-address 7 --session\n",
      "tcloudo+  1762  0.0  0.6 439316 26876 ?        Sl   03:51   0:02 /usr/lib/x86_64-linux-gnu/notify-osd\n",
      "tcloudo+  1775  0.0  0.0  32296   260 ?        S    03:51   0:00 upstart-udev-bridge --daemon --user\n",
      "tcloudo+  1787  0.0  0.1 337956  5732 ?        Sl   03:51   0:00 /usr/lib/at-spi2-core/at-spi-bus-launcher\n",
      "tcloudo+  1793  0.0  0.1  42860  4084 ?        S    03:51   0:00 /usr/bin/dbus-daemon --config-file=/etc/at-spi2/accessibility.conf --nofork --print-address 3\n",
      "tcloudo+  1794  0.0  0.1  43948  4480 ?        Ss   03:51   0:04 dbus-daemon --fork --session --address=unix:abstract=/tmp/dbus-cJe7iSDXFY\n",
      "tcloudo+  1798  0.0  0.1 206936  5344 ?        Sl   03:51   0:01 /usr/lib/at-spi2-core/at-spi2-registryd --use-gnome-session\n",
      "tcloudo+  1810  0.0  0.2  88176  9712 ?        Ss   03:51   0:00 /usr/lib/x86_64-linux-gnu/hud/window-stack-bridge\n",
      "tcloudo+  1814  0.0  0.1 271164  5812 ?        Sl   03:51   0:00 /usr/lib/gvfs/gvfsd\n",
      "tcloudo+  1829  0.0  0.1 409032  5404 ?        Sl   03:51   0:00 /usr/lib/gvfs/gvfsd-fuse /run/user/1000/gvfs -f -o big_writes\n",
      "tcloudo+  1857  0.0  0.6 512440 24724 ?        Sl   03:51   0:05 /usr/lib/x86_64-linux-gnu/bamf/bamfdaemon\n",
      "tcloudo+  1870  0.0  0.5 427004 23224 ?        Sl   03:51   0:01 /usr/bin/gnome-screensaver --no-daemon\n",
      "tcloudo+  1881  0.0  0.1 558376  6032 ?        Sl   03:51   0:00 /usr/lib/gvfs/gvfsd\n",
      "tcloudo+  1888  0.0  0.2 353184  9008 ?        Ssl  03:51   0:16 /usr/bin/ibus-daemon --daemonize --xim\n",
      "tcloudo+  1893  0.0  0.0  32364  1776 ?        S    03:51   0:01 upstart-dbus-bridge --daemon --session --user --bus-name session\n",
      "tcloudo+  1900  0.0  0.0  40828  1904 ?        S    03:51   0:00 upstart-file-bridge --daemon --user\n",
      "tcloudo+  1901  0.0  0.0  32364  1812 ?        S    03:51   0:00 upstart-dbus-bridge --daemon --system --user --bus-name system\n",
      "tcloudo+  1918  0.0  1.2 718548 50484 ?        Ssl  03:51   0:13 /usr/lib/x86_64-linux-gnu/hud/hud-service\n",
      "tcloudo+  1920  0.0  0.9 797640 37136 ?        Ssl  03:51   0:07 /usr/lib/unity-settings-daemon/unity-settings-daemon\n",
      "tcloudo+  1922  0.0  0.1 270504  6292 ?        Sl   03:51   0:00 /usr/lib/ibus/ibus-dconf\n",
      "tcloudo+  1927  0.0  0.7 474720 32196 ?        Sl   03:51   0:07 /usr/lib/ibus/ibus-ui-gtk3\n",
      "tcloudo+  1931  0.0  0.3 554600 13980 ?        Ssl  03:51   0:00 gnome-session --session=ubuntu\n",
      "tcloudo+  1933  0.0  0.3 376804 13936 ?        Sl   03:51   0:00 /usr/lib/ibus/ibus-x11 --kill-daemon\n",
      "tcloudo+  1939 10.9  6.9 1245440 282496 ?      Ssl  03:51  35:40 compiz\n",
      "tcloudo+  1943  0.0  1.2 799280 52292 ?        Ssl  03:51   0:09 /usr/lib/unity/unity-panel-service\n",
      "tcloudo+  1956  0.0  0.1 194640  5992 ?        Sl   03:51   0:04 /usr/lib/ibus/ibus-engine-simple\n",
      "tcloudo+  1978  0.0  0.2 363556  9524 ?        Ssl  03:51   0:00 /usr/lib/x86_64-linux-gnu/indicator-messages/indicator-messages-service\n",
      "tcloudo+  1985  0.0  0.1 337480  7696 ?        Ssl  03:51   0:00 /usr/lib/x86_64-linux-gnu/indicator-bluetooth/indicator-bluetooth-service\n",
      "tcloudo+  1989  0.0  0.1 418632  6188 ?        Ssl  03:51   0:00 /usr/lib/x86_64-linux-gnu/indicator-power/indicator-power-service\n",
      "tcloudo+  1991  0.0  0.3 775928 15832 ?        Ssl  03:51   0:01 /usr/lib/x86_64-linux-gnu/indicator-datetime/indicator-datetime-service\n",
      "tcloudo+  1996  0.0  0.6 650208 25648 ?        Ssl  03:51   0:01 /usr/lib/x86_64-linux-gnu/indicator-keyboard/indicator-keyboard-service --use-gtk\n",
      "tcloudo+  1998  0.0  0.1 178628  4908 ?        Sl   03:51   0:00 /usr/lib/dconf/dconf-service\n",
      "tcloudo+  2002  0.0  0.2 548908 10492 ?        Ssl  03:51   0:00 /usr/lib/x86_64-linux-gnu/indicator-sound/indicator-sound-service\n",
      "tcloudo+  2007  0.0  0.6 541696 24528 ?        Ssl  03:51   0:01 /usr/lib/x86_64-linux-gnu/indicator-printers/indicator-printers-service\n",
      "tcloudo+  2008  0.0  0.1 631744  6916 ?        Ssl  03:51   0:00 /usr/lib/x86_64-linux-gnu/indicator-session/indicator-session-service\n",
      "tcloudo+  2022  0.0  0.3 469320 14084 ?        Ssl  03:51   0:00 /usr/lib/x86_64-linux-gnu/indicator-application/indicator-application-service\n",
      "tcloudo+  2039  0.0  0.6 846340 24528 ?        Sl   03:51   0:00 /usr/lib/evolution/evolution-source-registry\n",
      "tcloudo+  2054  0.0  0.2 434344 11304 ?        S<l  03:51   0:00 /usr/bin/pulseaudio --start --log-target=syslog\n",
      "tcloudo+  2086  0.1  1.4 1080340 56920 ?       Sl   03:51   0:22 nautilus -n\n",
      "tcloudo+  2089  0.0  0.5 426108 21840 ?        Sl   03:51   0:01 /usr/lib/policykit-1-gnome/polkit-gnome-authentication-agent-1\n",
      "tcloudo+  2094  0.0  0.5 573644 20632 ?        Sl   03:51   0:01 /usr/lib/unity-settings-daemon/unity-fallback-mount-helper\n",
      "tcloudo+  2095  0.0  0.8 661808 33284 ?        Sl   03:51   0:02 nm-applet\n",
      "tcloudo+  2112  0.0  0.1 289520  7428 ?        Sl   03:51   0:00 /usr/lib/gvfs/gvfs-udisks2-volume-monitor\n",
      "tcloudo+  2114  0.0  0.1  66292  6508 ?        S    03:51   0:00 /usr/lib/x86_64-linux-gnu/gconf/gconfd-2\n",
      "root      2117  0.0  0.2 367508  8524 ?        Ssl  03:51   0:00 /usr/lib/udisks2/udisksd --no-debug\n",
      "tcloudo+  2129  0.0  0.2 403172 10992 ?        Sl   03:51   0:00 /usr/lib/gvfs/gvfs-afc-volume-monitor\n",
      "tcloudo+  2131  0.0  1.5 859160 60992 ?        Sl   03:51   0:00 /usr/lib/evolution/evolution-calendar-factory\n",
      "tcloudo+  2137  0.0  0.1 275816  5712 ?        Sl   03:51   0:00 /usr/lib/gvfs/gvfs-gphoto2-volume-monitor\n",
      "tcloudo+  2142  0.0  0.1 263620  5208 ?        Sl   03:51   0:00 /usr/lib/gvfs/gvfs-mtp-volume-monitor\n",
      "tcloudo+  2153  0.0  0.1 344896  5956 ?        Sl   03:51   0:00 /usr/lib/gvfs/gvfsd-burn --spawner :1.6 /org/gtk/gvfs/exec_spaw/0\n",
      "tcloudo+  2160  0.0  0.1 349644  6500 ?        Sl   03:51   0:00 /usr/lib/gvfs/gvfsd-trash --spawner :1.6 /org/gtk/gvfs/exec_spaw/1\n",
      "tcloudo+  2178  0.0  0.4 783660 17472 ?        Sl   03:51   0:00 /usr/lib/evolution/evolution-calendar-factory-subprocess --factory contacts --bus-name org.gnome.evolution.dataserver.Subprocess.Backend.Calendarx2131x2 --own-path /org/gnome/evolution/dataserver/Subprocess/Backend/Calendar/2131/2\n",
      "tcloudo+  2189  0.0  0.4 692320 18532 ?        Sl   03:51   0:00 /usr/lib/evolution/evolution-addressbook-factory\n",
      "tcloudo+  2190  0.0  0.4 768028 17020 ?        Sl   03:51   0:00 /usr/lib/evolution/evolution-calendar-factory-subprocess --factory local --bus-name org.gnome.evolution.dataserver.Subprocess.Backend.Calendarx2131x3 --own-path /org/gnome/evolution/dataserver/Subprocess/Backend/Calendar/2131/3\n",
      "tcloudo+  2210  0.0  0.4 767880 19744 ?        Sl   03:51   0:00 /usr/lib/evolution/evolution-addressbook-factory-subprocess --factory local --bus-name org.gnome.evolution.dataserver.Subprocess.Backend.AddressBookx2189x2 --own-path /org/gnome/evolution/dataserver/Subprocess/Backend/AddressBook/2189/2\n",
      "tcloudo+  2223  0.0  0.1 190548  5796 ?        Sl   03:51   0:00 /usr/lib/gvfs/gvfsd-metadata\n",
      "tcloudo+  2247  0.0  0.6 549196 25440 ?        Sl   03:51   0:01 telepathy-indicator\n",
      "tcloudo+  2255  0.0  0.3 424888 15096 ?        Sl   03:51   0:00 /usr/lib/telepathy/mission-control-5\n",
      "tcloudo+  2275  0.0  0.4 412636 18004 ?        Sl   03:52   0:03 zeitgeist-datahub\n",
      "tcloudo+  2282  0.0  0.2 346952  9700 ?        Sl   03:52   0:00 /usr/bin/zeitgeist-daemon\n",
      "tcloudo+  2289  0.0  0.6 328000 24736 ?        Sl   03:52   0:01 /usr/lib/x86_64-linux-gnu/zeitgeist-fts\n",
      "tcloudo+  2368  0.0  0.6 595208 24848 ?        Sl   03:52   0:01 update-notifier\n",
      "tcloudo+  2477  0.0  0.3 515564 13496 ?        Sl   03:53   0:00 /usr/lib/x86_64-linux-gnu/deja-dup/deja-dup-monitor\n",
      "root      2758  0.0  0.1  90212  7056 ?        Ss   03:54   0:00 /usr/sbin/cupsd -l\n",
      "lp        2762  0.0  0.1  74192  5460 ?        S    03:54   0:00 /usr/lib/cups/notifier/dbus dbus:// \n",
      "lp        2763  0.0  0.1  74192  5404 ?        S    03:54   0:00 /usr/lib/cups/notifier/dbus dbus:// \n",
      "tcloudo+  4628  0.0  0.4 715360 19300 ?        Sl   04:20   0:01 /usr/lib/gvfs/gvfsd-http --spawner :1.6 /org/gtk/gvfs/exec_spaw/2\n",
      "tcloudo+  7342  0.0  0.7 741620 29904 ?        Sl   05:03   0:01 /usr/lib/x86_64-linux-gnu/unity-scope-home/unity-scope-home\n",
      "tcloudo+  7356  0.0  0.6 583316 27644 ?        Sl   05:03   0:02 /usr/bin/unity-scope-loader applications/applications.scope applications/scopes.scope commands.scope\n",
      "tcloudo+  7358  0.0  0.3 710244 13896 ?        Sl   05:03   0:03 /usr/lib/x86_64-linux-gnu/unity-lens-files/unity-files-daemon\n",
      "uuidd     7382  0.0  0.0  27592  1256 ?        Ss   05:03   0:00 /usr/sbin/uuidd --socket-activation\n",
      "tcloudo+  7387  0.0  0.3 339344 13592 ?        Sl   05:03   0:01 /usr/lib/x86_64-linux-gnu/unity-lens-music/unity-music-daemon\n",
      "tcloudo+ 12618  0.0  0.8 634252 34496 ?        Ssl  06:17   0:03 /home/tcloudost/anaconda2/bin/python -m ipykernel -f /run/user/1000/jupyter/kernel-5fc38a98-0836-4c31-a424-af0c331c16a0.json\n",
      "tcloudo+ 17192  0.0  0.7 486304 30592 ?        Sl   07:15   0:01 /usr/lib/x86_64-linux-gnu/notify-osd\n",
      "root     17198  0.0  0.2  23456 10416 ?        S    07:15   0:00 /sbin/dhclient -d -q -sf /usr/lib/NetworkManager/nm-dhcp-helper -pf /run/sendsigs.omit.d/network-manager.dhclient-enp0s3.pid -lf /var/lib/NetworkManager/dhclient-d1f3a15c-4e75-4243-b07d-930229f09507-enp0s3.lease -cf /var/lib/NetworkManager/dhclient-enp0s3.conf enp0s3\n",
      "tcloudo+ 17414  0.0  0.9 648536 38868 ?        Sl   07:16   0:06 /usr/lib/gnome-terminal/gnome-terminal-server\n",
      "tcloudo+ 17421  0.0  0.0  14852  1916 ?        S    07:16   0:00 gnome-pty-helper\n",
      "tcloudo+ 17422  0.0  0.1  27536  6308 pts/2    Ss   07:16   0:00 bash\n",
      "tcloudo+ 17480  3.4  9.3 1048900 379180 ?      Rl   07:16   4:06 /usr/lib/firefox/firefox http://localhost:8888/tree\n",
      "root     18544  0.0  0.0      0     0 ?        S    07:30   0:00 [kworker/0:1]\n",
      "www-data 19034  0.0  0.0  73660  3400 ?        S    07:35   0:00 /usr/sbin/apache2 -k start\n",
      "www-data 19036  0.0  0.1 362852  6244 ?        Sl   07:35   0:03 /usr/sbin/apache2 -k start\n",
      "www-data 19038  0.0  0.1 362852  6244 ?        Sl   07:35   0:03 /usr/sbin/apache2 -k start\n",
      "tcloudo+ 20617  0.0  1.1 690704 47660 ?        Sl   07:57   0:02 gedit /home/tcloudost/anaconda2/lib/python2.7/abc.py\n",
      "tcloudo+ 20962  0.1  1.5 906724 64608 ?        Ssl  08:02   0:08 /opt/sublime_text/sublime_text\n",
      "tcloudo+ 20976  0.1  1.0 305632 42924 ?        Sl   08:02   0:04 /opt/sublime_text/plugin_host 20962\n",
      "tcloudo+ 21064  0.0  0.1  27560  6320 pts/17   Ss   08:03   0:00 bash\n",
      "root     24122  0.0  0.0      0     0 ?        S    08:52   0:00 [kworker/u2:2]\n",
      "root     24592  0.0  0.0      0     0 ?        S    08:59   0:00 [kworker/0:0]\n",
      "tcloudo+ 24698  0.3  1.1 342208 45908 pts/2    Sl+  09:01   0:02 /home/tcloudost/anaconda2/bin/python /home/tcloudost/anaconda2/bin/ipython notebook\n",
      "root     24954  0.0  0.0      0     0 ?        S    09:04   0:00 [kworker/u2:1]\n",
      "tcloudo+ 25297  0.5  0.9 633988 36684 ?        Ssl  09:10   0:01 /home/tcloudost/anaconda2/bin/python -m ipykernel -f /run/user/1000/jupyter/kernel-4e738f0f-ac1a-4f6d-8b1b-040b00c96988.json\n",
      "tcloudo+ 25388  0.6  0.7 206468 29272 pts/17   Sl+  09:11   0:01 /home/tcloudost/anaconda2/bin/python /home/tcloudost/anaconda2/bin/ipython\n",
      "root     25505  0.0  0.0      0     0 ?        S    09:13   0:00 [kworker/u2:0]\n",
      "root     25527  0.0  0.0      0     0 ?        S    09:13   0:00 [kworker/0:2]\n",
      "tcloudo+ 25673  0.0  0.0  22676  2732 ?        R    09:16   0:00 ps aux\n",
      "\n"
     ]
    }
   ],
   "source": [
    "print ps_output"
   ]
  },
  {
   "cell_type": "code",
   "execution_count": 4,
   "metadata": {
    "collapsed": true
   },
   "outputs": [],
   "source": [
    "ps_lines = ps_output.splitlines()"
   ]
  },
  {
   "cell_type": "code",
   "execution_count": 5,
   "metadata": {
    "collapsed": false
   },
   "outputs": [
    {
     "name": "stdout",
     "output_type": "stream",
     "text": [
      "USER       PID %CPU %MEM    VSZ   RSS TTY      STAT START   TIME COMMAND\n",
      "root         1  0.0  0.1 185008  5664 ?        Ss   03:49   0:03 /sbin/init splash\n",
      "root         2  0.0  0.0      0     0 ?        S    03:49   0:00 [kthreadd]\n",
      "root         3  0.0  0.0      0     0 ?        S    03:49   0:00 [ksoftirqd/0]\n",
      "root         5  0.0  0.0      0     0 ?        S<   03:49   0:00 [kworker/0:0H]\n",
      "root         7  0.0  0.0      0     0 ?        S    03:49   0:03 [rcu_sched]\n",
      "root         8  0.0  0.0      0     0 ?        S    03:49   0:00 [rcu_bh]\n",
      "root         9  0.0  0.0      0     0 ?        S    03:49   0:02 [rcuos/0]\n",
      "root        10  0.0  0.0      0     0 ?        S    03:49   0:00 [rcuob/0]\n",
      "root        11  0.0  0.0      0     0 ?        S    03:49   0:00 [migration/0]\n",
      "root        12  0.0  0.0      0     0 ?        S    03:49   0:00 [watchdog/0]\n",
      "root        13  0.0  0.0      0     0 ?        S<   03:49   0:00 [khelper]\n",
      "root        14  0.0  0.0      0     0 ?        S    03:49   0:00 [kdevtmpfs]\n",
      "root        15  0.0  0.0      0     0 ?        S<   03:49   0:00 [netns]\n",
      "root        16  0.0  0.0      0     0 ?        S<   03:49   0:00 [perf]\n",
      "root        17  0.0  0.0      0     0 ?        S    03:49   0:00 [khungtaskd]\n",
      "root        18  0.0  0.0      0     0 ?        S<   03:49   0:00 [writeback]\n",
      "root        19  0.0  0.0      0     0 ?        SN   03:49   0:00 [ksmd]\n",
      "root        20  0.0  0.0      0     0 ?        SN   03:49   0:09 [khugepaged]\n",
      "root        21  0.0  0.0      0     0 ?        S<   03:49   0:00 [crypto]\n",
      "root        22  0.0  0.0      0     0 ?        S<   03:49   0:00 [kintegrityd]\n",
      "root        23  0.0  0.0      0     0 ?        S<   03:49   0:00 [bioset]\n",
      "root        24  0.0  0.0      0     0 ?        S<   03:49   0:00 [kblockd]\n",
      "root        25  0.0  0.0      0     0 ?        S<   03:49   0:00 [ata_sff]\n",
      "root        26  0.0  0.0      0     0 ?        S<   03:49   0:00 [md]\n",
      "root        27  0.0  0.0      0     0 ?        S<   03:49   0:00 [devfreq_wq]\n",
      "root        30  0.0  0.0      0     0 ?        S    03:49   0:00 [kswapd0]\n",
      "root        31  0.0  0.0      0     0 ?        S<   03:49   0:00 [vmstat]\n",
      "root        32  0.0  0.0      0     0 ?        S    03:49   0:00 [fsnotify_mark]\n",
      "root        33  0.0  0.0      0     0 ?        S    03:49   0:00 [ecryptfs-kthrea]\n",
      "root        44  0.0  0.0      0     0 ?        S<   03:49   0:00 [kthrotld]\n",
      "root        45  0.0  0.0      0     0 ?        S<   03:49   0:00 [acpi_thermal_pm]\n",
      "root        46  0.0  0.0      0     0 ?        S    03:49   0:00 [scsi_eh_0]\n",
      "root        47  0.0  0.0      0     0 ?        S<   03:49   0:00 [scsi_tmf_0]\n",
      "root        48  0.0  0.0      0     0 ?        S    03:49   0:00 [scsi_eh_1]\n",
      "root        49  0.0  0.0      0     0 ?        S<   03:49   0:00 [scsi_tmf_1]\n",
      "root        54  0.0  0.0      0     0 ?        S<   03:49   0:00 [ipv6_addrconf]\n",
      "root        74  0.0  0.0      0     0 ?        S<   03:49   0:00 [deferwq]\n",
      "root        75  0.0  0.0      0     0 ?        S<   03:49   0:00 [charger_manager]\n",
      "root       114  0.0  0.0      0     0 ?        S<   03:49   0:00 [kpsmoused]\n",
      "root       116  0.0  0.0      0     0 ?        S<   03:49   0:00 [kworker/0:1H]\n",
      "root       117  0.0  0.0      0     0 ?        S    03:49   0:00 [scsi_eh_2]\n",
      "root       118  0.0  0.0      0     0 ?        S<   03:49   0:00 [scsi_tmf_2]\n",
      "root       144  0.0  0.0      0     0 ?        S    03:49   0:01 [jbd2/sda1-8]\n",
      "root       145  0.0  0.0      0     0 ?        S<   03:49   0:00 [ext4-rsv-conver]\n",
      "root       182  0.0  0.0      0     0 ?        S    03:49   0:00 [kauditd]\n",
      "root       198  0.0  0.1  32352  4068 ?        Ss   03:49   0:01 /lib/systemd/systemd-journald\n",
      "root       212  0.0  0.1  45716  5212 ?        Ss   03:49   0:00 /lib/systemd/systemd-udevd\n",
      "root       295  0.0  0.0      0     0 ?        S<   03:49   0:00 [iprt-VBoxWQueue]\n",
      "systemd+   307  0.0  0.0 102356  2736 ?        Ssl  03:49   0:00 /lib/systemd/systemd-timesyncd\n",
      "root       488  0.0  0.0  28600  3136 ?        Ss   03:49   0:00 /lib/systemd/systemd-logind\n",
      "root       492  0.0  0.0  33124  3112 ?        Ss   03:49   0:00 /usr/sbin/cron -f\n",
      "avahi      493  0.0  0.0  40192  3336 ?        Ss   03:49   0:00 avahi-daemon: running [tcloudost-VirtualBox.local]\n",
      "message+   499  0.0  0.1  44228  5256 ?        Ss   03:49   0:03 /usr/bin/dbus-daemon --system --address=systemd: --nofork --nopidfile --systemd-activation\n",
      "avahi      506  0.0  0.0  40068   316 ?        S    03:49   0:00 avahi-daemon: chroot helper\n",
      "syslog     507  0.0  0.0 256372  3604 ?        Ssl  03:49   0:00 /usr/sbin/rsyslogd -n\n",
      "root       514  0.0  0.1 287308  6948 ?        Ssl  03:49   0:01 /usr/lib/accountsservice/accounts-daemon\n",
      "whoopsie   516  0.0  0.3 447504 12304 ?        Ssl  03:49   0:00 /usr/bin/whoopsie -f\n",
      "root       518  0.0  0.2 337240  8516 ?        Ssl  03:49   0:00 /usr/sbin/ModemManager\n",
      "root       519  0.0  0.4 381628 16676 ?        Ssl  03:49   0:00 /usr/sbin/NetworkManager --no-daemon\n",
      "root       525  0.0  0.0  25180  2608 ?        Ss   03:49   0:00 /sbin/cgmanager -m name=systemd\n",
      "root       531  0.0  0.2 272360  9440 ?        Ssl  03:49   0:00 /usr/sbin/cups-browsed\n",
      "root       594  0.0  0.0 247744  2068 ?        Sl   03:49   0:07 /usr/sbin/VBoxService\n",
      "root       602  0.0  0.2 285720  8472 ?        Ssl  03:49   0:00 /usr/lib/policykit-1/polkitd --no-debug\n",
      "root       611  0.0  0.1  69932  5936 ?        Ss   03:49   0:00 /usr/sbin/sshd -D\n",
      "mysql      614  0.0  0.0   4476  1672 ?        Ss   03:49   0:00 /bin/sh /usr/bin/mysqld_safe\n",
      "root       693  0.0  0.1  39192  5140 ?        Ss   03:49   0:00 /sbin/wpa_supplicant -u -s -O /run/wpa_supplicant\n",
      "nobody     836  0.0  0.0  52288  3952 ?        S    03:49   0:00 /usr/sbin/dnsmasq --no-resolv --keep-in-foreground --no-hosts --bind-interfaces --pid-file=/run/sendsigs.omit.d/network-manager.dnsmasq.pid --listen-address=127.0.1.1 --conf-file=/var/run/NetworkManager/dnsmasq.conf --cache-size=0 --proxy-dnssec --enable-dbus=org.freedesktop.NetworkManager.dnsmasq --conf-dir=/etc/NetworkManager/dnsmasq.d\n",
      "postgres   863  0.0  0.5 293632 24092 ?        S    03:49   0:01 /usr/lib/postgresql/9.4/bin/postgres -D /var/lib/postgresql/9.4/main -c config_file=/etc/postgresql/9.4/main/postgresql.conf\n",
      "postgres  1034  0.0  0.0 293632  3832 ?        Ss   03:49   0:00 postgres: checkpointer process                                                                                              \n",
      "postgres  1038  0.0  0.1 293632  5532 ?        Ss   03:49   0:00 postgres: writer process                                                                                                    \n",
      "postgres  1039  0.0  0.0 293632  3832 ?        Ss   03:49   0:00 postgres: wal writer process                                                                                                \n",
      "postgres  1043  0.0  0.1 294052  6280 ?        Ss   03:49   0:00 postgres: autovacuum launcher process                                                                                       \n",
      "postgres  1044  0.0  0.0 148776  3888 ?        Ss   03:49   0:00 postgres: stats collector process                                                                                           \n",
      "mysql     1051  0.0  3.1 729268 126516 ?       Sl   03:49   0:15 /usr/sbin/mysqld --basedir=/usr --datadir=/var/lib/mysql --plugin-dir=/usr/lib/mysql/plugin --log-error=/var/log/mysql/error.log --pid-file=/var/run/mysqld/mysqld.pid --socket=/var/run/mysqld/mysqld.sock --port=3306\n",
      "kernoops  1199  0.0  0.0  45276  2612 ?        Ss   03:49   0:00 /usr/sbin/kerneloops\n",
      "root      1221  0.0  0.1  73660  5112 ?        Ss   03:49   0:02 /usr/sbin/apache2 -k start\n",
      "root      1292  0.0  0.2 352548  8152 ?        SLsl 03:49   0:00 /usr/sbin/lightdm\n",
      "root      1302  6.6  2.7 372096 111536 tty7    Ss+  03:49  21:36 /usr/bin/X -core :0 -seat seat0 -auth /var/run/lightdm/root/:0 -nolisten tcp vt7 -novtswitch\n",
      "root      1395  0.0  0.0  20052  2200 tty1     Ss+  03:50   0:00 /sbin/agetty --noclear tty1 linux\n",
      "root      1504  0.0  0.1 230224  6296 ?        Sl   03:50   0:00 lightdm --session-child 12 19\n",
      "rtkit     1529  0.0  0.0 178820  2944 ?        SNsl 03:50   0:00 /usr/lib/rtkit/rtkit-daemon\n",
      "root      1586  0.0  0.2 345668 10208 ?        Ssl  03:50   0:00 /usr/lib/upower/upowerd\n",
      "colord    1597  0.0  0.2 305144 10888 ?        Ssl  03:50   0:00 /usr/lib/colord/colord\n",
      "tcloudo+  1618  0.0  0.1  45164  5132 ?        Ss   03:51   0:00 /lib/systemd/systemd --user\n",
      "tcloudo+  1620  0.0  0.0  60996  1736 ?        S    03:51   0:00 (sd-pam)         \n",
      "tcloudo+  1627  0.0  0.1 292396  7440 ?        Sl   03:51   0:00 /usr/bin/gnome-keyring-daemon --daemonize --login\n",
      "tcloudo+  1629  0.0  0.1  45780  4524 ?        Ss   03:51   0:01 /sbin/upstart --user\n",
      "tcloudo+  1706  0.0  0.0  49464  1376 ?        S    03:51   0:05 /usr/bin/VBoxClient --clipboard\n",
      "tcloudo+  1711  0.0  0.0  49464  1404 ?        S    03:51   0:05 /usr/bin/VBoxClient --checkhostversion\n",
      "tcloudo+  1717  0.0  0.0  49464  1360 ?        S    03:51   0:05 /usr/bin/VBoxClient --display\n",
      "tcloudo+  1724  0.0  0.0  49464  1372 ?        S    03:51   0:05 /usr/bin/VBoxClient --seamless\n",
      "tcloudo+  1735  0.0  0.0  49464  1412 ?        S    03:51   0:05 /usr/bin/VBoxClient --draganddrop\n",
      "tcloudo+  1747  0.0  0.0  39016  1788 ?        S    03:51   0:00 dbus-launch --autolaunch=e51c7092bfbd4fb4ac8b04918ff33401 --binary-syntax --close-stderr\n",
      "tcloudo+  1755  0.0  0.0  42848  3200 ?        Ss   03:51   0:00 /usr/bin/dbus-daemon --fork --print-pid 5 --print-address 7 --session\n",
      "tcloudo+  1762  0.0  0.6 439316 26876 ?        Sl   03:51   0:02 /usr/lib/x86_64-linux-gnu/notify-osd\n",
      "tcloudo+  1775  0.0  0.0  32296   260 ?        S    03:51   0:00 upstart-udev-bridge --daemon --user\n",
      "tcloudo+  1787  0.0  0.1 337956  5732 ?        Sl   03:51   0:00 /usr/lib/at-spi2-core/at-spi-bus-launcher\n",
      "tcloudo+  1793  0.0  0.1  42860  4084 ?        S    03:51   0:00 /usr/bin/dbus-daemon --config-file=/etc/at-spi2/accessibility.conf --nofork --print-address 3\n",
      "tcloudo+  1794  0.0  0.1  43948  4480 ?        Ss   03:51   0:04 dbus-daemon --fork --session --address=unix:abstract=/tmp/dbus-cJe7iSDXFY\n",
      "tcloudo+  1798  0.0  0.1 206936  5344 ?        Sl   03:51   0:01 /usr/lib/at-spi2-core/at-spi2-registryd --use-gnome-session\n",
      "tcloudo+  1810  0.0  0.2  88176  9712 ?        Ss   03:51   0:00 /usr/lib/x86_64-linux-gnu/hud/window-stack-bridge\n",
      "tcloudo+  1814  0.0  0.1 271164  5812 ?        Sl   03:51   0:00 /usr/lib/gvfs/gvfsd\n",
      "tcloudo+  1829  0.0  0.1 409032  5404 ?        Sl   03:51   0:00 /usr/lib/gvfs/gvfsd-fuse /run/user/1000/gvfs -f -o big_writes\n",
      "tcloudo+  1857  0.0  0.6 512440 24724 ?        Sl   03:51   0:05 /usr/lib/x86_64-linux-gnu/bamf/bamfdaemon\n",
      "tcloudo+  1870  0.0  0.5 427004 23224 ?        Sl   03:51   0:01 /usr/bin/gnome-screensaver --no-daemon\n",
      "tcloudo+  1881  0.0  0.1 558376  6032 ?        Sl   03:51   0:00 /usr/lib/gvfs/gvfsd\n",
      "tcloudo+  1888  0.0  0.2 353184  9008 ?        Ssl  03:51   0:16 /usr/bin/ibus-daemon --daemonize --xim\n",
      "tcloudo+  1893  0.0  0.0  32364  1776 ?        S    03:51   0:01 upstart-dbus-bridge --daemon --session --user --bus-name session\n",
      "tcloudo+  1900  0.0  0.0  40828  1904 ?        S    03:51   0:00 upstart-file-bridge --daemon --user\n",
      "tcloudo+  1901  0.0  0.0  32364  1812 ?        S    03:51   0:00 upstart-dbus-bridge --daemon --system --user --bus-name system\n",
      "tcloudo+  1918  0.0  1.2 718548 50484 ?        Ssl  03:51   0:13 /usr/lib/x86_64-linux-gnu/hud/hud-service\n",
      "tcloudo+  1920  0.0  0.9 797640 37136 ?        Ssl  03:51   0:07 /usr/lib/unity-settings-daemon/unity-settings-daemon\n",
      "tcloudo+  1922  0.0  0.1 270504  6292 ?        Sl   03:51   0:00 /usr/lib/ibus/ibus-dconf\n",
      "tcloudo+  1927  0.0  0.7 474720 32196 ?        Sl   03:51   0:07 /usr/lib/ibus/ibus-ui-gtk3\n",
      "tcloudo+  1931  0.0  0.3 554600 13980 ?        Ssl  03:51   0:00 gnome-session --session=ubuntu\n",
      "tcloudo+  1933  0.0  0.3 376804 13936 ?        Sl   03:51   0:00 /usr/lib/ibus/ibus-x11 --kill-daemon\n",
      "tcloudo+  1939 10.9  6.9 1245440 282496 ?      Ssl  03:51  35:40 compiz\n",
      "tcloudo+  1943  0.0  1.2 799280 52292 ?        Ssl  03:51   0:09 /usr/lib/unity/unity-panel-service\n",
      "tcloudo+  1956  0.0  0.1 194640  5992 ?        Sl   03:51   0:04 /usr/lib/ibus/ibus-engine-simple\n",
      "tcloudo+  1978  0.0  0.2 363556  9524 ?        Ssl  03:51   0:00 /usr/lib/x86_64-linux-gnu/indicator-messages/indicator-messages-service\n",
      "tcloudo+  1985  0.0  0.1 337480  7696 ?        Ssl  03:51   0:00 /usr/lib/x86_64-linux-gnu/indicator-bluetooth/indicator-bluetooth-service\n",
      "tcloudo+  1989  0.0  0.1 418632  6188 ?        Ssl  03:51   0:00 /usr/lib/x86_64-linux-gnu/indicator-power/indicator-power-service\n",
      "tcloudo+  1991  0.0  0.3 775928 15832 ?        Ssl  03:51   0:01 /usr/lib/x86_64-linux-gnu/indicator-datetime/indicator-datetime-service\n",
      "tcloudo+  1996  0.0  0.6 650208 25648 ?        Ssl  03:51   0:01 /usr/lib/x86_64-linux-gnu/indicator-keyboard/indicator-keyboard-service --use-gtk\n",
      "tcloudo+  1998  0.0  0.1 178628  4908 ?        Sl   03:51   0:00 /usr/lib/dconf/dconf-service\n",
      "tcloudo+  2002  0.0  0.2 548908 10492 ?        Ssl  03:51   0:00 /usr/lib/x86_64-linux-gnu/indicator-sound/indicator-sound-service\n",
      "tcloudo+  2007  0.0  0.6 541696 24528 ?        Ssl  03:51   0:01 /usr/lib/x86_64-linux-gnu/indicator-printers/indicator-printers-service\n",
      "tcloudo+  2008  0.0  0.1 631744  6916 ?        Ssl  03:51   0:00 /usr/lib/x86_64-linux-gnu/indicator-session/indicator-session-service\n",
      "tcloudo+  2022  0.0  0.3 469320 14084 ?        Ssl  03:51   0:00 /usr/lib/x86_64-linux-gnu/indicator-application/indicator-application-service\n",
      "tcloudo+  2039  0.0  0.6 846340 24528 ?        Sl   03:51   0:00 /usr/lib/evolution/evolution-source-registry\n",
      "tcloudo+  2054  0.0  0.2 434344 11304 ?        S<l  03:51   0:00 /usr/bin/pulseaudio --start --log-target=syslog\n",
      "tcloudo+  2086  0.1  1.4 1080340 56920 ?       Sl   03:51   0:22 nautilus -n\n",
      "tcloudo+  2089  0.0  0.5 426108 21840 ?        Sl   03:51   0:01 /usr/lib/policykit-1-gnome/polkit-gnome-authentication-agent-1\n",
      "tcloudo+  2094  0.0  0.5 573644 20632 ?        Sl   03:51   0:01 /usr/lib/unity-settings-daemon/unity-fallback-mount-helper\n",
      "tcloudo+  2095  0.0  0.8 661808 33284 ?        Sl   03:51   0:02 nm-applet\n",
      "tcloudo+  2112  0.0  0.1 289520  7428 ?        Sl   03:51   0:00 /usr/lib/gvfs/gvfs-udisks2-volume-monitor\n",
      "tcloudo+  2114  0.0  0.1  66292  6508 ?        S    03:51   0:00 /usr/lib/x86_64-linux-gnu/gconf/gconfd-2\n",
      "root      2117  0.0  0.2 367508  8524 ?        Ssl  03:51   0:00 /usr/lib/udisks2/udisksd --no-debug\n",
      "tcloudo+  2129  0.0  0.2 403172 10992 ?        Sl   03:51   0:00 /usr/lib/gvfs/gvfs-afc-volume-monitor\n",
      "tcloudo+  2131  0.0  1.5 859160 60992 ?        Sl   03:51   0:00 /usr/lib/evolution/evolution-calendar-factory\n",
      "tcloudo+  2137  0.0  0.1 275816  5712 ?        Sl   03:51   0:00 /usr/lib/gvfs/gvfs-gphoto2-volume-monitor\n",
      "tcloudo+  2142  0.0  0.1 263620  5208 ?        Sl   03:51   0:00 /usr/lib/gvfs/gvfs-mtp-volume-monitor\n",
      "tcloudo+  2153  0.0  0.1 344896  5956 ?        Sl   03:51   0:00 /usr/lib/gvfs/gvfsd-burn --spawner :1.6 /org/gtk/gvfs/exec_spaw/0\n",
      "tcloudo+  2160  0.0  0.1 349644  6500 ?        Sl   03:51   0:00 /usr/lib/gvfs/gvfsd-trash --spawner :1.6 /org/gtk/gvfs/exec_spaw/1\n",
      "tcloudo+  2178  0.0  0.4 783660 17472 ?        Sl   03:51   0:00 /usr/lib/evolution/evolution-calendar-factory-subprocess --factory contacts --bus-name org.gnome.evolution.dataserver.Subprocess.Backend.Calendarx2131x2 --own-path /org/gnome/evolution/dataserver/Subprocess/Backend/Calendar/2131/2\n",
      "tcloudo+  2189  0.0  0.4 692320 18532 ?        Sl   03:51   0:00 /usr/lib/evolution/evolution-addressbook-factory\n",
      "tcloudo+  2190  0.0  0.4 768028 17020 ?        Sl   03:51   0:00 /usr/lib/evolution/evolution-calendar-factory-subprocess --factory local --bus-name org.gnome.evolution.dataserver.Subprocess.Backend.Calendarx2131x3 --own-path /org/gnome/evolution/dataserver/Subprocess/Backend/Calendar/2131/3\n",
      "tcloudo+  2210  0.0  0.4 767880 19744 ?        Sl   03:51   0:00 /usr/lib/evolution/evolution-addressbook-factory-subprocess --factory local --bus-name org.gnome.evolution.dataserver.Subprocess.Backend.AddressBookx2189x2 --own-path /org/gnome/evolution/dataserver/Subprocess/Backend/AddressBook/2189/2\n",
      "tcloudo+  2223  0.0  0.1 190548  5796 ?        Sl   03:51   0:00 /usr/lib/gvfs/gvfsd-metadata\n",
      "tcloudo+  2247  0.0  0.6 549196 25440 ?        Sl   03:51   0:01 telepathy-indicator\n",
      "tcloudo+  2255  0.0  0.3 424888 15096 ?        Sl   03:51   0:00 /usr/lib/telepathy/mission-control-5\n",
      "tcloudo+  2275  0.0  0.4 412636 18004 ?        Sl   03:52   0:03 zeitgeist-datahub\n",
      "tcloudo+  2282  0.0  0.2 346952  9700 ?        Sl   03:52   0:00 /usr/bin/zeitgeist-daemon\n",
      "tcloudo+  2289  0.0  0.6 328000 24736 ?        Sl   03:52   0:01 /usr/lib/x86_64-linux-gnu/zeitgeist-fts\n",
      "tcloudo+  2368  0.0  0.6 595208 24848 ?        Sl   03:52   0:01 update-notifier\n",
      "tcloudo+  2477  0.0  0.3 515564 13496 ?        Sl   03:53   0:00 /usr/lib/x86_64-linux-gnu/deja-dup/deja-dup-monitor\n",
      "root      2758  0.0  0.1  90212  7056 ?        Ss   03:54   0:00 /usr/sbin/cupsd -l\n",
      "lp        2762  0.0  0.1  74192  5460 ?        S    03:54   0:00 /usr/lib/cups/notifier/dbus dbus:// \n",
      "lp        2763  0.0  0.1  74192  5404 ?        S    03:54   0:00 /usr/lib/cups/notifier/dbus dbus:// \n",
      "tcloudo+  4628  0.0  0.4 715360 19300 ?        Sl   04:20   0:01 /usr/lib/gvfs/gvfsd-http --spawner :1.6 /org/gtk/gvfs/exec_spaw/2\n",
      "tcloudo+  7342  0.0  0.7 741620 29904 ?        Sl   05:03   0:01 /usr/lib/x86_64-linux-gnu/unity-scope-home/unity-scope-home\n",
      "tcloudo+  7356  0.0  0.6 583316 27644 ?        Sl   05:03   0:02 /usr/bin/unity-scope-loader applications/applications.scope applications/scopes.scope commands.scope\n",
      "tcloudo+  7358  0.0  0.3 710244 13896 ?        Sl   05:03   0:03 /usr/lib/x86_64-linux-gnu/unity-lens-files/unity-files-daemon\n",
      "uuidd     7382  0.0  0.0  27592  1256 ?        Ss   05:03   0:00 /usr/sbin/uuidd --socket-activation\n",
      "tcloudo+  7387  0.0  0.3 339344 13592 ?        Sl   05:03   0:01 /usr/lib/x86_64-linux-gnu/unity-lens-music/unity-music-daemon\n",
      "tcloudo+ 12618  0.0  0.8 634252 34496 ?        Ssl  06:17   0:03 /home/tcloudost/anaconda2/bin/python -m ipykernel -f /run/user/1000/jupyter/kernel-5fc38a98-0836-4c31-a424-af0c331c16a0.json\n",
      "tcloudo+ 17192  0.0  0.7 486304 30592 ?        Sl   07:15   0:01 /usr/lib/x86_64-linux-gnu/notify-osd\n",
      "root     17198  0.0  0.2  23456 10416 ?        S    07:15   0:00 /sbin/dhclient -d -q -sf /usr/lib/NetworkManager/nm-dhcp-helper -pf /run/sendsigs.omit.d/network-manager.dhclient-enp0s3.pid -lf /var/lib/NetworkManager/dhclient-d1f3a15c-4e75-4243-b07d-930229f09507-enp0s3.lease -cf /var/lib/NetworkManager/dhclient-enp0s3.conf enp0s3\n",
      "tcloudo+ 17414  0.0  0.9 648536 38868 ?        Sl   07:16   0:06 /usr/lib/gnome-terminal/gnome-terminal-server\n",
      "tcloudo+ 17421  0.0  0.0  14852  1916 ?        S    07:16   0:00 gnome-pty-helper\n",
      "tcloudo+ 17422  0.0  0.1  27536  6308 pts/2    Ss   07:16   0:00 bash\n",
      "tcloudo+ 17480  3.4  9.3 1048900 379180 ?      Rl   07:16   4:06 /usr/lib/firefox/firefox http://localhost:8888/tree\n",
      "root     18544  0.0  0.0      0     0 ?        S    07:30   0:00 [kworker/0:1]\n",
      "www-data 19034  0.0  0.0  73660  3400 ?        S    07:35   0:00 /usr/sbin/apache2 -k start\n",
      "www-data 19036  0.0  0.1 362852  6244 ?        Sl   07:35   0:03 /usr/sbin/apache2 -k start\n",
      "www-data 19038  0.0  0.1 362852  6244 ?        Sl   07:35   0:03 /usr/sbin/apache2 -k start\n",
      "tcloudo+ 20617  0.0  1.1 690704 47660 ?        Sl   07:57   0:02 gedit /home/tcloudost/anaconda2/lib/python2.7/abc.py\n",
      "tcloudo+ 20962  0.1  1.5 906724 64608 ?        Ssl  08:02   0:08 /opt/sublime_text/sublime_text\n",
      "tcloudo+ 20976  0.1  1.0 305632 42924 ?        Sl   08:02   0:04 /opt/sublime_text/plugin_host 20962\n",
      "tcloudo+ 21064  0.0  0.1  27560  6320 pts/17   Ss   08:03   0:00 bash\n",
      "root     24122  0.0  0.0      0     0 ?        S    08:52   0:00 [kworker/u2:2]\n",
      "root     24592  0.0  0.0      0     0 ?        S    08:59   0:00 [kworker/0:0]\n",
      "tcloudo+ 24698  0.3  1.1 342208 45908 pts/2    Sl+  09:01   0:02 /home/tcloudost/anaconda2/bin/python /home/tcloudost/anaconda2/bin/ipython notebook\n",
      "root     24954  0.0  0.0      0     0 ?        S    09:04   0:00 [kworker/u2:1]\n",
      "tcloudo+ 25297  0.5  0.9 633988 36684 ?        Ssl  09:10   0:01 /home/tcloudost/anaconda2/bin/python -m ipykernel -f /run/user/1000/jupyter/kernel-4e738f0f-ac1a-4f6d-8b1b-040b00c96988.json\n",
      "tcloudo+ 25388  0.6  0.7 206468 29272 pts/17   Sl+  09:11   0:01 /home/tcloudost/anaconda2/bin/python /home/tcloudost/anaconda2/bin/ipython\n",
      "root     25505  0.0  0.0      0     0 ?        S    09:13   0:00 [kworker/u2:0]\n",
      "root     25527  0.0  0.0      0     0 ?        S    09:13   0:00 [kworker/0:2]\n",
      "tcloudo+ 25673  0.0  0.0  22676  2732 ?        R    09:16   0:00 ps aux\n"
     ]
    }
   ],
   "source": [
    "for process in ps_lines:\n",
    "    print process"
   ]
  },
  {
   "cell_type": "code",
   "execution_count": 6,
   "metadata": {
    "collapsed": false
   },
   "outputs": [
    {
     "name": "stdout",
     "output_type": "stream",
     "text": [
      "U\n",
      "S\n",
      "E\n",
      "R\n",
      " \n",
      " \n",
      " \n",
      " \n",
      " \n",
      " \n"
     ]
    }
   ],
   "source": [
    "for i in ps_output[:10]:\n",
    "    print i"
   ]
  },
  {
   "cell_type": "code",
   "execution_count": 7,
   "metadata": {
    "collapsed": false
   },
   "outputs": [
    {
     "name": "stdout",
     "output_type": "stream",
     "text": [
      "tcloudo+ 17480  3.4  9.3 1048900 379180 ?      Rl   07:16   4:06 /usr/lib/firefox/firefox http://localhost:8888/tree\n"
     ]
    }
   ],
   "source": [
    "for process in ps_lines:\n",
    "    if \"firefox\" in process:\n",
    "        print process"
   ]
  },
  {
   "cell_type": "code",
   "execution_count": 8,
   "metadata": {
    "collapsed": false
   },
   "outputs": [
    {
     "name": "stdout",
     "output_type": "stream",
     "text": [
      "17480\n"
     ]
    }
   ],
   "source": [
    "for process in ps_lines:\n",
    "    if \"firefox\" in process:\n",
    "        print process[9:14]"
   ]
  },
  {
   "cell_type": "code",
   "execution_count": 9,
   "metadata": {
    "collapsed": false
   },
   "outputs": [
    {
     "name": "stdout",
     "output_type": "stream",
     "text": [
      "['tcloudo+', '17480', '', '3.4', '', '9.3', '1048900', '379180', '?', '', '', '', '', '', 'Rl', '', '', '07:16', '', '', '4:06', '/usr/lib/firefox/firefox', 'http://localhost:8888/tree']\n"
     ]
    }
   ],
   "source": [
    "for process in ps_lines:\n",
    "    if \"firefox\" in process:\n",
    "        print process.split(\" \")"
   ]
  },
  {
   "cell_type": "code",
   "execution_count": 10,
   "metadata": {
    "collapsed": false
   },
   "outputs": [
    {
     "name": "stdout",
     "output_type": "stream",
     "text": [
      "17480\n"
     ]
    }
   ],
   "source": [
    "for process in ps_lines:\n",
    "    if \"firefox\" in process:\n",
    "        print process.split(\" \")[1]"
   ]
  },
  {
   "cell_type": "code",
   "execution_count": null,
   "metadata": {
    "collapsed": true
   },
   "outputs": [],
   "source": [
    "for process in ps_lines:\n",
    "    if \"firefox\" in process:\n",
    "        pid = process.split(\" \")[1].\n",
    "        sp.check_output(['kill',pid])\n",
    "        "
   ]
  },
  {
   "cell_type": "code",
   "execution_count": 14,
   "metadata": {
    "collapsed": true
   },
   "outputs": [],
   "source": [
    "import paramiko as pmk\n",
    "ssh = pmk.SSHClient()\n",
    "ssh.set_missing_host_key_policy(pmk.AutoAddPolicy())\n",
    "ssh.connect(\"localhost\",username=\"tcloudost\",password=\"pythonrocks\")\n"
   ]
  },
  {
   "cell_type": "code",
   "execution_count": 15,
   "metadata": {
    "collapsed": false
   },
   "outputs": [
    {
     "data": {
      "text/plain": [
       "(<paramiko.ChannelFile from <paramiko.Channel 0 (open) window=2097152 -> <paramiko.Transport at 0x34132c90L (cipher aes128-ctr, 128 bits) (active; 1 open channel(s))>>>,\n",
       " <paramiko.ChannelFile from <paramiko.Channel 0 (open) window=2097152 -> <paramiko.Transport at 0x34132c90L (cipher aes128-ctr, 128 bits) (active; 1 open channel(s))>>>,\n",
       " <paramiko.ChannelFile from <paramiko.Channel 0 (open) window=2097152 -> <paramiko.Transport at 0x34132c90L (cipher aes128-ctr, 128 bits) (active; 1 open channel(s))>>>)"
      ]
     },
     "execution_count": 15,
     "metadata": {},
     "output_type": "execute_result"
    }
   ],
   "source": [
    "ssh.exec_command('mkdir dir1')"
   ]
  },
  {
   "cell_type": "code",
   "execution_count": 16,
   "metadata": {
    "collapsed": false
   },
   "outputs": [
    {
     "data": {
      "text/plain": [
       "u'/home/tcloudost/pythonexamples/batch22/python22'"
      ]
     },
     "execution_count": 16,
     "metadata": {},
     "output_type": "execute_result"
    }
   ],
   "source": [
    "pwd"
   ]
  },
  {
   "cell_type": "code",
   "execution_count": 20,
   "metadata": {
    "collapsed": true
   },
   "outputs": [],
   "source": [
    "inp,outp,err=ssh.exec_command('ls -l')"
   ]
  },
  {
   "cell_type": "code",
   "execution_count": 21,
   "metadata": {
    "collapsed": false
   },
   "outputs": [
    {
     "data": {
      "text/plain": [
       "<paramiko.ChannelFile from <paramiko.Channel 2 (closed) -> <paramiko.Transport at 0x34132c90L (cipher aes128-ctr, 128 bits) (active; 0 open channel(s))>>>"
      ]
     },
     "execution_count": 21,
     "metadata": {},
     "output_type": "execute_result"
    }
   ],
   "source": [
    "outp"
   ]
  },
  {
   "cell_type": "code",
   "execution_count": 22,
   "metadata": {
    "collapsed": false
   },
   "outputs": [],
   "source": [
    "data = outp.read()"
   ]
  },
  {
   "cell_type": "code",
   "execution_count": 23,
   "metadata": {
    "collapsed": false
   },
   "outputs": [
    {
     "data": {
      "text/plain": [
       "True"
      ]
     },
     "execution_count": 23,
     "metadata": {},
     "output_type": "execute_result"
    }
   ],
   "source": [
    "\"dir1\" in data"
   ]
  },
  {
   "cell_type": "code",
   "execution_count": 27,
   "metadata": {
    "collapsed": false
   },
   "outputs": [],
   "source": [
    "import urllib2"
   ]
  },
  {
   "cell_type": "code",
   "execution_count": 28,
   "metadata": {
    "collapsed": true
   },
   "outputs": [],
   "source": [
    "resp = urllib2.urlopen('http://www.w3schools.com/')"
   ]
  },
  {
   "cell_type": "code",
   "execution_count": 29,
   "metadata": {
    "collapsed": false
   },
   "outputs": [
    {
     "data": {
      "text/plain": [
       "instance"
      ]
     },
     "execution_count": 29,
     "metadata": {},
     "output_type": "execute_result"
    }
   ],
   "source": [
    "type(resp)"
   ]
  },
  {
   "cell_type": "code",
   "execution_count": 30,
   "metadata": {
    "collapsed": true
   },
   "outputs": [],
   "source": [
    "data = resp.read()"
   ]
  },
  {
   "cell_type": "code",
   "execution_count": 32,
   "metadata": {
    "collapsed": false
   },
   "outputs": [
    {
     "data": {
      "text/plain": [
       "'\\r\\n<!DOCTYPE html>\\r\\n<html lang=\"en-US\">\\r\\n<head>\\r\\n<title>W3Schools Online Web Tutorials</title>\\r\\n<meta charset=\"utf-8\">\\r\\n<meta name=\"viewport\" content=\"width=device-width, initial-scale=1\">\\r\\n<meta name=\"Keywords\" content=\"HTML,CSS,JavaScript,DOM,jQuery,PHP,SQL,XML,Bootstrap,Web,W3CSS,W3C,tutorials,programming,development,training,learning,quiz,primer,lessons,reference,examples,source code,colors,demos,tips,w3c\">\\r\\n<link rel=\"icon\" href=\"/favicon.ico\" type=\"image/x-icon\">\\r\\n<link rel=\"stylesheet\" href=\"/lib/w3.css\">\\r\\n<script>\\r\\n(function() {\\r\\nvar cx = \\'012971019331610648934:m2tou3_miwy\\';\\r\\nvar gcse = document.createElement(\\'script\\'); gcse.type = \\'text/javascript\\'; gcse.async = true;\\r\\ngcse.src = \\'https://www.google.com/cse/cse.js?cx=\\' + cx;\\r\\nvar s = document.getElementsByTagName(\\'script\\')[0]; s.parentNode.insertBefore(gcse, s);\\r\\n})();\\r\\n(function(i,s,o,g,r,a,m){i[\\'GoogleAnalyticsObject\\']=r;i[r]=i[r]||function(){\\r\\n(i[r].q=i[r].q||[]).push(arguments)},i[r].l=1*new Date();a=s.createElement(o),\\r\\nm=s.getElementsByTagName(o)[0];a.async=1;a.src=g;m.parentNode.insertBefore(a,m)\\r\\n})(window,document,\\'script\\',\\'https://www.google-analytics.com/analytics.js\\',\\'ga\\');\\r\\nga(\\'create\\', \\'UA-3855518-1\\', \\'auto\\');\\r\\nga(\\'require\\', \\'displayfeatures\\');\\r\\nga(\\'send\\', \\'pageview\\');\\r\\n</script>\\r\\n<style>\\r\\n/* W3Schools Font Logo */\\r\\n.w3schools-logo {\\r\\nfont-family:fontawesome;\\r\\ntext-decoration:none;\\r\\nline-height: 1;\\r\\n-webkit-font-smoothing: antialiased;\\r\\n-moz-osx-font-smoothing: grayscale;\\r\\nfont-size:37px;\\r\\nletter-spacing:3px;\\r\\ncolor:#555555;\\r\\ndisplay:block;\\r\\nposition:relative;\\r\\n}\\r\\n.w3schools-logo .dotcom {color:#4CAF50;}\\r\\n@font-face {\\r\\nfont-family:\\'fontawesome\\';\\r\\nsrc:url(\\'../lib/fonts/fontawesome.eot?14663396#iefix\\') format(\\'embedded-opentype\\'),\\r\\nurl(\\'../lib/fonts/fontawesome.woff?14663396\\') format(\\'woff\\'),\\r\\nurl(\\'../lib/fonts/fontawesome.ttf?14663396\\') format(\\'truetype\\'),\\r\\nurl(\\'../lib/fonts/fontawesome.svg?14663396#fontawesome\\') format(\\'svg\\');\\r\\nfont-style:normal;\\r\\n}\\r\\n.fa {\\r\\ndisplay:inline-block;\\r\\nfont:normal normal normal 14px/1 FontAwesome;\\r\\nfont-size:20px;\\r\\ntext-rendering:auto;\\r\\n-webkit-font-smoothing:antialiased;\\r\\n-moz-osx-font-smoothing:grayscale;\\r\\ntransform:translate(0,0);\\r\\n}\\r\\n.fa-home:before {content:\\'\\\\e800\\';}\\r\\n.fa-globe:before {content:\\'\\\\e801\\';}\\r\\n.fa-search:before {content:\\'\\\\e802\\'; }\\r\\n.fa-thumbs-o-up:before {content:\\'\\\\e803\\';}\\r\\n.fa-left-open:before {content:\\'\\\\e804\\';}\\r\\n.fa-right-open:before {content:\\'\\\\e805\\';}\\r\\n.fa-caret-down:before {content:\\'\\\\e809\\';}\\r\\n.fa-caret-up:before {content:\\'\\\\e80a\\';}\\r\\n/* Google */\\r\\n#nav_translate, #nav_search {display:none;}\\r\\n#nav_translate a {display:inline;}\\r\\n#googleSearch {color:#000000;}\\r\\n.searchdiv {\\r\\nmax-width:400px;\\r\\nmargin:auto;\\r\\ntext-align:left;\\r\\nfont-size:16px;\\r\\n}\\r\\ndiv.cse .gsc-control-cse, div.gsc-control-cse {\\r\\nbackground-color:transparent;\\r\\nborder:none;\\r\\npadding:0px;\\r\\nmargin:0px;\\r\\n}\\r\\ntd.gsc-search-button input.gsc-search-button {background-color:#555555;border-color:#555555;}\\r\\ninput.gsc-input, .gsc-input-box, .gsc-input-box-hover, .gsc-input-box-focus, .gsc-search-button {\\r\\nbox-sizing:content-box;\\r\\nline-height:normal;\\r\\n}\\r\\n.gsc-tabsArea div {overflow:visible;}\\r\\n.gsst_a .gscb_a {margin-top:3px;}\\r\\n/* Customize W3.CSS */\\r\\n.w3-dropnav {\\r\\ndisplay:none;\\r\\npadding-bottom:40px;\\r\\nposition:absolute;\\r\\nwidth:100%;\\r\\nz-index:99 !important;\\r\\n}\\r\\n.w3-col .w3-btn {\\r\\nmargin:5px 5px 5px 0;\\r\\nfont-size:16px;\\r\\n}\\r\\n.w3-col.l4 .w3-card-2 {\\r\\npadding:15px 10px;\\r\\nheight:260px;\\r\\n}\\r\\n.w3-closebtn {\\r\\npadding:10px 20px !important;\\r\\nposition:absolute;\\r\\nright:0;\\r\\n}\\r\\n.w3-closebtn:hover {background-color:#cccccc;}\\r\\n.w3-theme {color:#fff !important;background-color:#4CAF50 !important;}\\r\\n.w3-accordion-content .w3-closebtn{display:none;}\\r\\n.w3-main {margin-left:230px;}\\r\\n.w3-sidenav {\\r\\nz-index:3;\\r\\nwidth:230px;\\r\\noverflow:hidden !important;\\r\\nposition:absolute !important;\\r\\nmargin-bottom:-155px;\\r\\n}\\r\\n.w3-sidenav a {\\r\\npadding:0 16px;\\r\\nfont-size:16px;\\r\\n}\\r\\n.w3-navbar {\\r\\nposition:relative;\\r\\nz-index:4;\\r\\nfont-size:17px;\\r\\n}\\r\\nh1 {\\r\\nfont-size:80px;\\r\\ncolor:#555555;\\r\\nmargin:2px 0 -20px 0 !important;\\r\\n}\\r\\n@media screen and (min-width:769px){.w3-sidenav.w3-collapse{display:block !important;}}\\r\\n@media screen and (min-width:769px){.w3-opennav,.w3-accordion{display:none !important;}}\\r\\n@media screen and (min-width:769px){.w3-main{margin-left:230px !important;}}\\r\\n@media screen and (max-width:768px){.w3-sidenav.w3-collapse,.navbarbtns,.navex{display:none !important;}h1,.w3-jumbo{font-size:60px !important;}.w3-padding-jumbo{padding:32px !important;}}\\r\\n</style>\\r\\n<!--[if lt IE 9]>\\r\\n<script src=\"https://oss.maxcdn.com/libs/html5shiv/3.7.0/html5shiv.js\"></script>\\r\\n<script src=\"https://oss.maxcdn.com/libs/respond.js/1.4.2/respond.min.js\"></script>\\r\\n<![endif]-->\\r\\n</head>\\r\\n<body style=\"position:relative;min-height:100%;\">\\r\\n\\r\\n<div class=\"w3-row w3-white w3-padding w3-hide-medium w3-hide-small\" style=\"margin-top:5px;\">\\r\\n <div class=\"w3-half\" style=\"margin:4px 0 6px 0\"><a class=\\'w3schools-logo\\' href=\\'//www.w3schools.com\\'>w3schools<span class=\\'dotcom\\'>.com</span></a></div>\\r\\n <div class=\"w3-half w3-margin-top w3-wide w3-hide-medium w3-hide-small\">\\r\\n  <div class=\"w3-right\" style=\"position:relative;top:5px;\">THE WORLD\\'S LARGEST WEB DEVELOPER SITE</div>\\r\\n </div>\\r\\n</div>\\r\\n\\r\\n<div class=\"w3-hide-large w3-hide-large w3-padding-12\" style=\"margin-top:8px;\">\\r\\n <div class=\"w3-center\"><a class=\\'w3schools-logo\\' href=\\'//www.w3schools.com\\'>w3schools<span class=\\'dotcom\\'>.com</span></a></div>\\r\\n <div class=\"w3-center w3-wide w3-hide-small\" style=\"margin:14px 0 -5px 0\">THE WORLD\\'S LARGEST WEB DEVELOPER SITE</div>\\r\\n</div>\\r\\n\\r\\n<div style=\\'display:none;position:absolute;z-index:6;right:60px;height:57px;padding-top:12px;padding-right:20px;background-color:#4CAF50;\\' id=\\'googleSearch\\'><div class=\\'gcse-search\\'></div></div>\\r\\n<div style=\\'display:none;position:absolute;z-index:5;right:120px;height:57px;background-color:#4CAF50;text-align:right;padding-top:15px;\\' id=\\'google_translate_element\\'></div>\\r\\n\\r\\n<ul class=\"w3-navbar w3-theme w3-card-2 w3-wide\">\\r\\n <li class=\"w3-opennav\">\\r\\n  <a class=\"w3-hover-white w3-theme w3-padding-16\" href=\"javascript:void(0)\" onclick=\"w3_open()\">&#9776;</a>\\r\\n </li>\\r\\n <li class=\"navbarbtns\"><a class=\"w3-hover-white w3-padding-16\" href=\"javascript:void(0)\" onclick=\"w3_open_nav(\\'tutorials\\')\" id=\"navbtn_tutorials\">TUTORIALS <i class=\\'fa fa-caret-down\\'></i><i class=\\'fa fa-caret-up\\' style=\"display:none\"></i></a></li>\\r\\n <li class=\"navbarbtns\"><a class=\"w3-hover-white w3-padding-16\" href=\"javascript:void(0)\" onclick=\"w3_open_nav(\\'references\\')\" id=\"navbtn_references\">REFERENCES <i class=\\'fa fa-caret-down\\'></i><i class=\\'fa fa-caret-up\\' style=\"display:none\"></i></a></li>\\r\\n <li class=\"navbarbtns\"><a class=\"w3-hover-white w3-padding-16\" href=\"javascript:void(0)\" onclick=\"w3_open_nav(\\'examples\\')\" id=\"navbtn_examples\">EXAMPLES <i class=\\'fa fa-caret-down\\'></i><i class=\\'fa fa-caret-up\\' style=\"display:none\"></i></a></li>\\r\\n <li class=\"w3-right\"><a class=\"w3-hover-white w3-padding-16 w3-right\" href=\"javascript:void(0)\" onclick=\"open_search(this)\" title=\\'Search W3Schools\\'><i class=\\'fa\\'>&#xe802;</i></a></li>\\r\\n <li class=\"w3-right\"><a class=\"w3-hover-white w3-padding-16 w3-right\" href=\"javascript:void(0)\" onclick=\"open_translate(this)\" title=\\'Translate W3Schools\\'><i class=\\'fa\\'>&#xe801;</i></a></li>\\r\\n</ul>\\r\\n\\r\\n<nav class=\"w3-sidenav w3-collapse w3-white w3-card-2\" id=\"mySidenav\">\\r\\n <div class=\"w3-container w3-padding-top\">\\r\\n  <h4>HTML and CSS</h4>\\r\\n </div>\\r\\n <a href=\"/html/default.asp\">Learn HTML</a>\\r\\n <a href=\"/css/default.asp\">Learn CSS</a>\\r\\n <a href=\"/w3css/default.asp\">Learn W3.CSS</a>\\r\\n <a href=\"/colors/default.asp\">Learn Colors</a>\\r\\n <a href=\"/bootstrap/default.asp\">Learn Bootstrap</a>\\r\\n <a href=\"/icons/default.asp\">Learn Icons</a>\\r\\n <a href=\"/graphics/default.asp\">Learn Graphics</a>\\r\\n <a href=\"/howto/default.asp\">Learn How To</a>\\r\\n <div class=\"w3-container w3-padding-top\">\\r\\n  <h4>JavaScript</h4>\\r\\n </div>\\r\\n <a href=\"/js/default.asp\">Learn JavaScript</a>\\r\\n <a href=\"/jquery/default.asp\">Learn jQuery</a>\\r\\n <a href=\"/jquerymobile/default.asp\">Learn jQueryMobile</a>\\r\\n <a href=\"/appml/default.asp\">Learn AppML</a>\\r\\n <a href=\"/angular/default.asp\">Learn AngularJS</a>\\r\\n <a href=\"/js/js_json_intro.asp\">Learn JSON</a>\\r\\n <a href=\"/js/js_ajax_intro.asp\">Learn AJAX</a>\\r\\n <div class=\"w3-container w3-padding-top\">\\r\\n  <h4>Server Side</h4>\\r\\n </div>\\r\\n <a href=\"/sql/default.asp\">Learn SQL</a>\\r\\n <a href=\"/php/default.asp\">Learn PHP</a>\\r\\n <a href=\\'/asp/default.asp\\'>Learn ASP</a>\\r\\n <div class=\"w3-container w3-padding-top\">\\r\\n  <h4>Web Building</h4>\\r\\n </div>\\r\\n <a href=\"/w3css/w3css_templates.asp\">Web Templates</a>\\r\\n <a href=\"/browsers/default.asp\">Web Statistics</a>\\r\\n <a href=\"/cert/default.asp\">Web Certificates</a>\\r\\n <div class=\"w3-container w3-padding-top\">\\r\\n  <h4>XML Tutorials</h4>\\r\\n </div>\\r\\n <a href=\"/xml/default.asp\">Learn XML</a>\\r\\n <a href=\\'/xml/ajax_intro.asp\\'>Learn XML AJAX</a>\\r\\n <a href=\"/xml/dom_intro.asp\">Learn XML DOM</a>\\r\\n <a href=\\'/xml/xml_dtd_intro.asp\\'>Learn XML DTD</a>\\r\\n <a href=\\'/xml/schema_intro.asp\\'>Learn XML Schema</a>\\r\\n <a href=\"/xml/xsl_intro.asp\">Learn XSLT</a>\\r\\n <a href=\\'/xml/xpath_intro.asp\\'>Learn XPath</a>\\r\\n <a href=\\'/xml/xquery_intro.asp\\'>Learn XQuery</a>\\r\\n</nav>\\r\\n\\r\\n<div id=\\'myAccordion\\' class=\"w3-card-2 w3-light-grey w3-center w3-hide-large w3-accordion\" style=\"display:none;cursor:default\">\\r\\n <a href=\"javascript:void(0)\" onclick=\"w3_close()\" class=\"w3-closebtn w3-xlarge w3-margin-0\">&times;</a><br>\\r\\n <div class=\"w3-container w3-padding-32\">\\r\\n  <a class=\"w3-btn-block w3-light-grey w3-large w3-wide w3-hover-none w3-hover-opacity\" onclick=\"open_xs_menu(\\'tutorials\\');\" href=\"javascript:void(0);\">TUTORIALS <i class=\\'fa fa-caret-down\\'></i></a>\\r\\n  <div id=\"sectionxs_tutorials\" class=\"w3-white w3-accordion-content w3-show\"></div>\\r\\n  <a class=\"w3-btn-block w3-light-grey w3-large w3-wide w3-hover-none w3-hover-opacity\" onclick=\"open_xs_menu(\\'references\\')\" href=\"javascript:void(0);\">REFERENCES <i class=\\'fa fa-caret-down\\'></i></a>\\r\\n  <div id=\"sectionxs_references\" class=\"w3-white w3-accordion-content w3-show\"></div>\\r\\n  <a cla'"
      ]
     },
     "execution_count": 32,
     "metadata": {},
     "output_type": "execute_result"
    }
   ],
   "source": [
    "data[:10000]"
   ]
  },
  {
   "cell_type": "code",
   "execution_count": null,
   "metadata": {
    "collapsed": true
   },
   "outputs": [],
   "source": []
  },
  {
   "cell_type": "code",
   "execution_count": 33,
   "metadata": {
    "collapsed": false
   },
   "outputs": [
    {
     "data": {
      "text/plain": [
       "29844"
      ]
     },
     "execution_count": 33,
     "metadata": {},
     "output_type": "execute_result"
    }
   ],
   "source": [
    "len(data)"
   ]
  },
  {
   "cell_type": "code",
   "execution_count": 34,
   "metadata": {
    "collapsed": true
   },
   "outputs": [],
   "source": [
    "import re"
   ]
  },
  {
   "cell_type": "code",
   "execution_count": 36,
   "metadata": {
    "collapsed": false
   },
   "outputs": [
    {
     "data": {
      "text/plain": [
       "['<title>W3Schools Online Web Tutorials</title>']"
      ]
     },
     "execution_count": 36,
     "metadata": {},
     "output_type": "execute_result"
    }
   ],
   "source": [
    "re.findall(\"<title.*/title>\",data)"
   ]
  },
  {
   "cell_type": "code",
   "execution_count": 38,
   "metadata": {
    "collapsed": false
   },
   "outputs": [
    {
     "ename": "ImportError",
     "evalue": "No module named BeautifulSoup",
     "output_type": "error",
     "traceback": [
      "\u001b[1;31m---------------------------------------------------------------------------\u001b[0m",
      "\u001b[1;31mImportError\u001b[0m                               Traceback (most recent call last)",
      "\u001b[1;32m<ipython-input-38-aa1e12a76f5e>\u001b[0m in \u001b[0;36m<module>\u001b[1;34m()\u001b[0m\n\u001b[1;32m----> 1\u001b[1;33m \u001b[1;32mimport\u001b[0m \u001b[0mBeautifulSoup\u001b[0m\u001b[1;33m\u001b[0m\u001b[0m\n\u001b[0m",
      "\u001b[1;31mImportError\u001b[0m: No module named BeautifulSoup"
     ]
    }
   ],
   "source": [
    "import BeautifulSoup"
   ]
  },
  {
   "cell_type": "code",
   "execution_count": 39,
   "metadata": {
    "collapsed": true
   },
   "outputs": [],
   "source": [
    "from bs4 import BeautifulSoup"
   ]
  },
  {
   "cell_type": "code",
   "execution_count": 40,
   "metadata": {
    "collapsed": false
   },
   "outputs": [
    {
     "name": "stderr",
     "output_type": "stream",
     "text": [
      "/home/tcloudost/anaconda2/lib/python2.7/site-packages/bs4/__init__.py:166: UserWarning: No parser was explicitly specified, so I'm using the best available HTML parser for this system (\"lxml\"). This usually isn't a problem, but if you run this code on another system, or in a different virtual environment, it may use a different parser and behave differently.\n",
      "\n",
      "To get rid of this warning, change this:\n",
      "\n",
      " BeautifulSoup([your markup])\n",
      "\n",
      "to this:\n",
      "\n",
      " BeautifulSoup([your markup], \"lxml\")\n",
      "\n",
      "  markup_type=markup_type))\n"
     ]
    }
   ],
   "source": [
    "soup = BeautifulSoup(data)"
   ]
  },
  {
   "cell_type": "code",
   "execution_count": 41,
   "metadata": {
    "collapsed": true
   },
   "outputs": [],
   "source": [
    "soup.findAll?"
   ]
  },
  {
   "cell_type": "code",
   "execution_count": 42,
   "metadata": {
    "collapsed": false
   },
   "outputs": [
    {
     "data": {
      "text/plain": [
       "[]"
      ]
     },
     "execution_count": 42,
     "metadata": {},
     "output_type": "execute_result"
    }
   ],
   "source": [
    "soup.findAll('table')"
   ]
  },
  {
   "cell_type": "code",
   "execution_count": 43,
   "metadata": {
    "collapsed": false
   },
   "outputs": [
    {
     "data": {
      "text/plain": [
       "[<title>W3Schools Online Web Tutorials</title>]"
      ]
     },
     "execution_count": 43,
     "metadata": {},
     "output_type": "execute_result"
    }
   ],
   "source": [
    "soup.findAll('title')"
   ]
  },
  {
   "cell_type": "code",
   "execution_count": 44,
   "metadata": {
    "collapsed": false
   },
   "outputs": [
    {
     "data": {
      "text/plain": [
       "[<div class=\"w3-row w3-white w3-padding w3-hide-medium w3-hide-small\" style=\"margin-top:5px;\">\\n<div class=\"w3-half\" style=\"margin:4px 0 6px 0\"><a class=\"w3schools-logo\" href=\"//www.w3schools.com\">w3schools<span class=\"dotcom\">.com</span></a></div>\\n<div class=\"w3-half w3-margin-top w3-wide w3-hide-medium w3-hide-small\">\\n<div class=\"w3-right\" style=\"position:relative;top:5px;\">THE WORLD'S LARGEST WEB DEVELOPER SITE</div>\\n</div>\\n</div>,\n",
       " <div class=\"w3-half\" style=\"margin:4px 0 6px 0\"><a class=\"w3schools-logo\" href=\"//www.w3schools.com\">w3schools<span class=\"dotcom\">.com</span></a></div>,\n",
       " <div class=\"w3-half w3-margin-top w3-wide w3-hide-medium w3-hide-small\">\\n<div class=\"w3-right\" style=\"position:relative;top:5px;\">THE WORLD'S LARGEST WEB DEVELOPER SITE</div>\\n</div>,\n",
       " <div class=\"w3-right\" style=\"position:relative;top:5px;\">THE WORLD'S LARGEST WEB DEVELOPER SITE</div>,\n",
       " <div class=\"w3-hide-large w3-hide-large w3-padding-12\" style=\"margin-top:8px;\">\\n<div class=\"w3-center\"><a class=\"w3schools-logo\" href=\"//www.w3schools.com\">w3schools<span class=\"dotcom\">.com</span></a></div>\\n<div class=\"w3-center w3-wide w3-hide-small\" style=\"margin:14px 0 -5px 0\">THE WORLD'S LARGEST WEB DEVELOPER SITE</div>\\n</div>,\n",
       " <div class=\"w3-center\"><a class=\"w3schools-logo\" href=\"//www.w3schools.com\">w3schools<span class=\"dotcom\">.com</span></a></div>,\n",
       " <div class=\"w3-center w3-wide w3-hide-small\" style=\"margin:14px 0 -5px 0\">THE WORLD'S LARGEST WEB DEVELOPER SITE</div>,\n",
       " <div id=\"googleSearch\" style=\"display:none;position:absolute;z-index:6;right:60px;height:57px;padding-top:12px;padding-right:20px;background-color:#4CAF50;\"><div class=\"gcse-search\"></div></div>,\n",
       " <div class=\"gcse-search\"></div>,\n",
       " <div id=\"google_translate_element\" style=\"display:none;position:absolute;z-index:5;right:120px;height:57px;background-color:#4CAF50;text-align:right;padding-top:15px;\"></div>,\n",
       " <div class=\"w3-container w3-padding-top\">\\n<h4>HTML and CSS</h4>\\n</div>,\n",
       " <div class=\"w3-container w3-padding-top\">\\n<h4>JavaScript</h4>\\n</div>,\n",
       " <div class=\"w3-container w3-padding-top\">\\n<h4>Server Side</h4>\\n</div>,\n",
       " <div class=\"w3-container w3-padding-top\">\\n<h4>Web Building</h4>\\n</div>,\n",
       " <div class=\"w3-container w3-padding-top\">\\n<h4>XML Tutorials</h4>\\n</div>,\n",
       " <div class=\"w3-card-2 w3-light-grey w3-center w3-hide-large w3-accordion\" id=\"myAccordion\" style=\"display:none;cursor:default\">\\n<a class=\"w3-closebtn w3-xlarge w3-margin-0\" href=\"javascript:void(0)\" onclick=\"w3_close()\">\\xd7</a><br/>\\n<div class=\"w3-container w3-padding-32\">\\n<a class=\"w3-btn-block w3-light-grey w3-large w3-wide w3-hover-none w3-hover-opacity\" href=\"javascript:void(0);\" onclick=\"open_xs_menu('tutorials');\">TUTORIALS <i class=\"fa fa-caret-down\"></i></a>\\n<div class=\"w3-white w3-accordion-content w3-show\" id=\"sectionxs_tutorials\"></div>\\n<a class=\"w3-btn-block w3-light-grey w3-large w3-wide w3-hover-none w3-hover-opacity\" href=\"javascript:void(0);\" onclick=\"open_xs_menu('references')\">REFERENCES <i class=\"fa fa-caret-down\"></i></a>\\n<div class=\"w3-white w3-accordion-content w3-show\" id=\"sectionxs_references\"></div>\\n<a class=\"w3-btn-block w3-light-grey w3-large w3-wide w3-hover-none w3-hover-opacity\" href=\"javascript:void(0);\" onclick=\"open_xs_menu('examples')\">EXAMPLES <i class=\"fa fa-caret-down\"></i></a>\\n<div class=\"w3-white w3-accordion-content w3-show\" id=\"sectionxs_examples\"></div>\\n</div>\\n</div>,\n",
       " <div class=\"w3-container w3-padding-32\">\\n<a class=\"w3-btn-block w3-light-grey w3-large w3-wide w3-hover-none w3-hover-opacity\" href=\"javascript:void(0);\" onclick=\"open_xs_menu('tutorials');\">TUTORIALS <i class=\"fa fa-caret-down\"></i></a>\\n<div class=\"w3-white w3-accordion-content w3-show\" id=\"sectionxs_tutorials\"></div>\\n<a class=\"w3-btn-block w3-light-grey w3-large w3-wide w3-hover-none w3-hover-opacity\" href=\"javascript:void(0);\" onclick=\"open_xs_menu('references')\">REFERENCES <i class=\"fa fa-caret-down\"></i></a>\\n<div class=\"w3-white w3-accordion-content w3-show\" id=\"sectionxs_references\"></div>\\n<a class=\"w3-btn-block w3-light-grey w3-large w3-wide w3-hover-none w3-hover-opacity\" href=\"javascript:void(0);\" onclick=\"open_xs_menu('examples')\">EXAMPLES <i class=\"fa fa-caret-down\"></i></a>\\n<div class=\"w3-white w3-accordion-content w3-show\" id=\"sectionxs_examples\"></div>\\n</div>,\n",
       " <div class=\"w3-white w3-accordion-content w3-show\" id=\"sectionxs_tutorials\"></div>,\n",
       " <div class=\"w3-white w3-accordion-content w3-show\" id=\"sectionxs_references\"></div>,\n",
       " <div class=\"w3-white w3-accordion-content w3-show\" id=\"sectionxs_examples\"></div>,\n",
       " <div class=\"w3-row-padding w3-padding-bottom\">\\n<div class=\"w3-col l3 m6\">\\n<h3>HTML and CSS</h3>\\n<a href=\"/html/default.asp\">Learn HTML</a>\\n<a href=\"/css/default.asp\">Learn CSS</a>\\n<a href=\"/w3css/default.asp\">Learn W3.CSS</a>\\n<a href=\"/colors/default.asp\">Learn Colors</a>\\n<a href=\"/bootstrap/default.asp\">Learn Bootstrap</a>\\n<a href=\"/icons/default.asp\">Learn Icons</a>\\n<a href=\"/graphics/default.asp\">Learn Graphics</a>\\n<a href=\"/howto/default.asp\">Learn How To</a>\\n</div>\\n<div class=\"w3-col l3 m6\">\\n<h3>JavaScript</h3>\\n<a href=\"/js/default.asp\">Learn JavaScript</a>\\n<a href=\"/jquery/default.asp\">Learn jQuery</a>\\n<a href=\"/jquerymobile/default.asp\">Learn jQueryMobile</a>\\n<a href=\"/appml/default.asp\">Learn AppML</a>\\n<a href=\"/angular/default.asp\">Learn AngularJS</a>\\n<a href=\"/js/js_json_intro.asp\">Learn JSON</a>\\n<a href=\"/js/js_ajax_intro.asp\">Learn AJAX</a>\\n<div class=\"w3-hide-small\"><br/><br/></div>\\n</div>\\n<div class=\"w3-col l3 m6\">\\n<h3>Server Side</h3>\\n<a href=\"/sql/default.asp\">Learn SQL</a>\\n<a href=\"/php/default.asp\">Learn PHP</a>\\n<a href=\"/asp/default.asp\">Learn ASP</a>\\n<h3>Web Building</h3>\\n<a href=\"/w3css/w3css_templates.asp\">Web Templates</a>\\n<a href=\"/browsers/default.asp\">Web Statistics</a>\\n<a href=\"/cert/default.asp\">Web Certificates</a>\\n</div>\\n<div class=\"w3-col l3 m6\">\\n<h3>XML Tutorials</h3>\\n<a href=\"/xml/default.asp\">Learn XML</a>\\n<a href=\"/xml/ajax_intro.asp\">Learn XML AJAX</a>\\n<a href=\"/xml/dom_intro.asp\">Learn XML DOM</a>\\n<a href=\"/xml/xml_dtd_intro.asp\">Learn XML DTD</a>\\n<a href=\"/xml/schema_intro.asp\">Learn XML Schema</a>\\n<a href=\"/xml/xsl_intro.asp\">Learn XSLT</a>\\n<a href=\"/xml/xpath_intro.asp\">Learn XPath</a>\\n<a href=\"/xml/xquery_intro.asp\">Learn XQuery</a>\\n</div>\\n</div>,\n",
       " <div class=\"w3-col l3 m6\">\\n<h3>HTML and CSS</h3>\\n<a href=\"/html/default.asp\">Learn HTML</a>\\n<a href=\"/css/default.asp\">Learn CSS</a>\\n<a href=\"/w3css/default.asp\">Learn W3.CSS</a>\\n<a href=\"/colors/default.asp\">Learn Colors</a>\\n<a href=\"/bootstrap/default.asp\">Learn Bootstrap</a>\\n<a href=\"/icons/default.asp\">Learn Icons</a>\\n<a href=\"/graphics/default.asp\">Learn Graphics</a>\\n<a href=\"/howto/default.asp\">Learn How To</a>\\n</div>,\n",
       " <div class=\"w3-col l3 m6\">\\n<h3>JavaScript</h3>\\n<a href=\"/js/default.asp\">Learn JavaScript</a>\\n<a href=\"/jquery/default.asp\">Learn jQuery</a>\\n<a href=\"/jquerymobile/default.asp\">Learn jQueryMobile</a>\\n<a href=\"/appml/default.asp\">Learn AppML</a>\\n<a href=\"/angular/default.asp\">Learn AngularJS</a>\\n<a href=\"/js/js_json_intro.asp\">Learn JSON</a>\\n<a href=\"/js/js_ajax_intro.asp\">Learn AJAX</a>\\n<div class=\"w3-hide-small\"><br/><br/></div>\\n</div>,\n",
       " <div class=\"w3-hide-small\"><br/><br/></div>,\n",
       " <div class=\"w3-col l3 m6\">\\n<h3>Server Side</h3>\\n<a href=\"/sql/default.asp\">Learn SQL</a>\\n<a href=\"/php/default.asp\">Learn PHP</a>\\n<a href=\"/asp/default.asp\">Learn ASP</a>\\n<h3>Web Building</h3>\\n<a href=\"/w3css/w3css_templates.asp\">Web Templates</a>\\n<a href=\"/browsers/default.asp\">Web Statistics</a>\\n<a href=\"/cert/default.asp\">Web Certificates</a>\\n</div>,\n",
       " <div class=\"w3-col l3 m6\">\\n<h3>XML Tutorials</h3>\\n<a href=\"/xml/default.asp\">Learn XML</a>\\n<a href=\"/xml/ajax_intro.asp\">Learn XML AJAX</a>\\n<a href=\"/xml/dom_intro.asp\">Learn XML DOM</a>\\n<a href=\"/xml/xml_dtd_intro.asp\">Learn XML DTD</a>\\n<a href=\"/xml/schema_intro.asp\">Learn XML Schema</a>\\n<a href=\"/xml/xsl_intro.asp\">Learn XSLT</a>\\n<a href=\"/xml/xpath_intro.asp\">Learn XPath</a>\\n<a href=\"/xml/xquery_intro.asp\">Learn XQuery</a>\\n</div>,\n",
       " <div class=\"w3-row-padding w3-padding-bottom\">\\n<div class=\"w3-col m4\">\\n<h3>HTML</h3>\\n<a href=\"/tags/default.asp\">HTML Tag Reference</a>\\n<a href=\"/tags/ref_eventattributes.asp\">HTML Event Reference</a>\\n<a href=\"/colors/default.asp\">HTML Color Reference</a>\\n<a href=\"/tags/ref_attributes.asp\">HTML Attribute Reference</a>\\n<a href=\"/tags/ref_canvas.asp\">HTML Canvas Reference</a>\\n<a href=\"/graphics/svg_reference.asp\">HTML SVG Reference</a>\\n<a href=\"/graphics/google_maps_reference.asp\">Google Maps Reference</a>\\n<h3>CSS</h3>\\n<a href=\"/cssref/default.asp\">CSS Reference</a>\\n<a href=\"/cssref/css_selectors.asp\">CSS Selector Reference</a>\\n<a href=\"/w3css/w3css_references.asp\">W3.CSS Reference</a>\\n<a href=\"/bootstrap/bootstrap_ref_all_classes.asp\">Bootstrap Reference</a>\\n<a href=\"/icons/icons_reference.asp\">Icon Reference</a>\\n</div>\\n<div class=\"w3-col m4\">\\n<h3>JavaScript</h3>\\n<a href=\"/jsref/default.asp\">JavaScript Reference</a>\\n<a href=\"/jsref/default.asp\">HTML DOM Reference</a>\\n<a href=\"/jquery/jquery_ref_selectors.asp\">jQuery Reference</a>\\n<a href=\"/jquerymobile/jquerymobile_ref_data.asp\">jQuery Mobile Reference</a>\\n<a href=\"/angular/angular_ref_directives.asp\">AngularJS Reference</a>\\n<h3>XML</h3>\\n<a href=\"/xml/dom_nodetype.asp\">XML DOM Reference</a>\\n<a href=\"/xml/dom_http.asp\">XML Http Reference</a>\\n<a href=\"/xml/xsl_elementref.asp\">XSLT Reference</a>\\n<a href=\"/xml/schema_elements_ref.asp\">XML Schema Reference</a>\\n</div>\\n<div class=\"w3-col m4\">\\n<h3>Character Sets</h3>\\n<a href=\"/charsets/default.asp\">HTML Character Sets</a>\\n<a href=\"/charsets/ref_html_ascii.asp\">HTML ASCII</a>\\n<a href=\"/charsets/ref_html_ansi.asp\">HTML ANSI</a>\\n<a href=\"/charsets/ref_html_ansi.asp\">HTML Windows-1252</a>\\n<a href=\"/charsets/ref_html_8859.asp\">HTML ISO-8859-1</a>\\n<a href=\"/charsets/ref_html_symbols.asp\">HTML Symbols</a>\\n<a href=\"/charsets/ref_html_utf8.asp\">HTML UTF-8</a>\\n<h3>Server Side</h3>\\n<a href=\"/php/php_ref_array.asp\">PHP Reference</a>\\n<a href=\"/sql/sql_quickref.asp\">SQL Reference</a>\\n<a href=\"/asp/asp_ref_response.asp\">ASP Reference</a>\\n</div>\\n</div>,\n",
       " <div class=\"w3-col m4\">\\n<h3>HTML</h3>\\n<a href=\"/tags/default.asp\">HTML Tag Reference</a>\\n<a href=\"/tags/ref_eventattributes.asp\">HTML Event Reference</a>\\n<a href=\"/colors/default.asp\">HTML Color Reference</a>\\n<a href=\"/tags/ref_attributes.asp\">HTML Attribute Reference</a>\\n<a href=\"/tags/ref_canvas.asp\">HTML Canvas Reference</a>\\n<a href=\"/graphics/svg_reference.asp\">HTML SVG Reference</a>\\n<a href=\"/graphics/google_maps_reference.asp\">Google Maps Reference</a>\\n<h3>CSS</h3>\\n<a href=\"/cssref/default.asp\">CSS Reference</a>\\n<a href=\"/cssref/css_selectors.asp\">CSS Selector Reference</a>\\n<a href=\"/w3css/w3css_references.asp\">W3.CSS Reference</a>\\n<a href=\"/bootstrap/bootstrap_ref_all_classes.asp\">Bootstrap Reference</a>\\n<a href=\"/icons/icons_reference.asp\">Icon Reference</a>\\n</div>,\n",
       " <div class=\"w3-col m4\">\\n<h3>JavaScript</h3>\\n<a href=\"/jsref/default.asp\">JavaScript Reference</a>\\n<a href=\"/jsref/default.asp\">HTML DOM Reference</a>\\n<a href=\"/jquery/jquery_ref_selectors.asp\">jQuery Reference</a>\\n<a href=\"/jquerymobile/jquerymobile_ref_data.asp\">jQuery Mobile Reference</a>\\n<a href=\"/angular/angular_ref_directives.asp\">AngularJS Reference</a>\\n<h3>XML</h3>\\n<a href=\"/xml/dom_nodetype.asp\">XML DOM Reference</a>\\n<a href=\"/xml/dom_http.asp\">XML Http Reference</a>\\n<a href=\"/xml/xsl_elementref.asp\">XSLT Reference</a>\\n<a href=\"/xml/schema_elements_ref.asp\">XML Schema Reference</a>\\n</div>,\n",
       " <div class=\"w3-col m4\">\\n<h3>Character Sets</h3>\\n<a href=\"/charsets/default.asp\">HTML Character Sets</a>\\n<a href=\"/charsets/ref_html_ascii.asp\">HTML ASCII</a>\\n<a href=\"/charsets/ref_html_ansi.asp\">HTML ANSI</a>\\n<a href=\"/charsets/ref_html_ansi.asp\">HTML Windows-1252</a>\\n<a href=\"/charsets/ref_html_8859.asp\">HTML ISO-8859-1</a>\\n<a href=\"/charsets/ref_html_symbols.asp\">HTML Symbols</a>\\n<a href=\"/charsets/ref_html_utf8.asp\">HTML UTF-8</a>\\n<h3>Server Side</h3>\\n<a href=\"/php/php_ref_array.asp\">PHP Reference</a>\\n<a href=\"/sql/sql_quickref.asp\">SQL Reference</a>\\n<a href=\"/asp/asp_ref_response.asp\">ASP Reference</a>\\n</div>,\n",
       " <div class=\"w3-row-padding w3-padding-bottom\">\\n<div class=\"w3-col l3 m6\">\\n<h3>HTML and CSS</h3>\\n<a href=\"/html/html_examples.asp\">HTML Examples</a>\\n<a href=\"/css/css_examples.asp\">CSS Examples</a>\\n<a href=\"/w3css/w3css_examples.asp\">W3.CSS Examples</a>\\n<a href=\"/bootstrap/bootstrap_examples.asp\">Bootstrap Examples</a>\\n</div>\\n<div class=\"w3-col l3 m6\">\\n<h3>JavaScript</h3>\\n<a href=\"/js/js_examples.asp\" target=\"_top\">JavaScript Examples</a>\\n<a href=\"/js/js_dom_examples.asp\" target=\"_top\">HTML DOM Examples</a>\\n<a href=\"/jquery/jquery_examples.asp\" target=\"_top\">jQuery Examples</a>\\n<a href=\"/jquerymobile/jquerymobile_examples.asp\" target=\"_top\">jQuery Mobile Examples</a>\\n<a href=\"/angular/angular_examples.asp\" target=\"_top\">AngularJS Examples</a>\\n<a href=\"/js/js_ajax_examples.asp\" target=\"_top\">AJAX Examples</a>\\n</div>\\n<div class=\"w3-col l3 m6\">\\n<h3>XML</h3>\\n<a href=\"/xml/xml_examples.asp\" target=\"_top\">XML Examples</a>\\n<a href=\"/xml/xsl_examples.asp\" target=\"_top\">XSLT Examples</a>\\n<a href=\"/xml/xpath_examples.asp\" target=\"_top\">XPath Examples</a>\\n<a href=\"/xml/schema_example.asp\" target=\"_top\">XML Schema Examples</a>\\n<a href=\"/xml/ajax_examples.asp\" target=\"_top\">AJAX Examples</a>\\n<a href=\"/graphics/svg_examples.asp\" target=\"_top\">SVG Examples</a>\\n<h3>Server Side</h3>\\n<a href=\"/php/php_examples.asp\" target=\"_top\">PHP Examples</a>\\n<a href=\"/asp/asp_examples.asp\" target=\"_top\">ASP Examples</a>\\n</div>\\n<div class=\"w3-col l3 m6\"><h3>Quizzes</h3>\\n<a href=\"/quiztest/quiztest.asp?Qtest=HTML\" target=\"_top\">HTML Quiz</a>\\n<a href=\"/quiztest/quiztest.asp?Qtest=CSS\" target=\"_top\">CSS Quiz</a>\\n<a href=\"/quiztest/quiztest.asp?Qtest=JavaScript\" target=\"_top\">JavaScript Quiz</a>\\n<a href=\"/quiztest/quiztest.asp?Qtest=Bootstrap\" target=\"_top\">Bootstrap Quiz</a>\\n<a href=\"/quiztest/quiztest.asp?Qtest=jQuery\" target=\"_top\">jQuery Quiz</a>\\n<a href=\"/quiztest/quiztest.asp?Qtest=PHP\" target=\"_top\">PHP Quiz</a>\\n<a href=\"/quiztest/quiztest.asp?Qtest=SQL\" target=\"_top\">SQL Quiz</a>\\n<a href=\"/quiztest/quiztest.asp?Qtest=XML\" target=\"_top\">XML Quiz</a>\\n</div>\\n</div>,\n",
       " <div class=\"w3-col l3 m6\">\\n<h3>HTML and CSS</h3>\\n<a href=\"/html/html_examples.asp\">HTML Examples</a>\\n<a href=\"/css/css_examples.asp\">CSS Examples</a>\\n<a href=\"/w3css/w3css_examples.asp\">W3.CSS Examples</a>\\n<a href=\"/bootstrap/bootstrap_examples.asp\">Bootstrap Examples</a>\\n</div>,\n",
       " <div class=\"w3-col l3 m6\">\\n<h3>JavaScript</h3>\\n<a href=\"/js/js_examples.asp\" target=\"_top\">JavaScript Examples</a>\\n<a href=\"/js/js_dom_examples.asp\" target=\"_top\">HTML DOM Examples</a>\\n<a href=\"/jquery/jquery_examples.asp\" target=\"_top\">jQuery Examples</a>\\n<a href=\"/jquerymobile/jquerymobile_examples.asp\" target=\"_top\">jQuery Mobile Examples</a>\\n<a href=\"/angular/angular_examples.asp\" target=\"_top\">AngularJS Examples</a>\\n<a href=\"/js/js_ajax_examples.asp\" target=\"_top\">AJAX Examples</a>\\n</div>,\n",
       " <div class=\"w3-col l3 m6\">\\n<h3>XML</h3>\\n<a href=\"/xml/xml_examples.asp\" target=\"_top\">XML Examples</a>\\n<a href=\"/xml/xsl_examples.asp\" target=\"_top\">XSLT Examples</a>\\n<a href=\"/xml/xpath_examples.asp\" target=\"_top\">XPath Examples</a>\\n<a href=\"/xml/schema_example.asp\" target=\"_top\">XML Schema Examples</a>\\n<a href=\"/xml/ajax_examples.asp\" target=\"_top\">AJAX Examples</a>\\n<a href=\"/graphics/svg_examples.asp\" target=\"_top\">SVG Examples</a>\\n<h3>Server Side</h3>\\n<a href=\"/php/php_examples.asp\" target=\"_top\">PHP Examples</a>\\n<a href=\"/asp/asp_examples.asp\" target=\"_top\">ASP Examples</a>\\n</div>,\n",
       " <div class=\"w3-col l3 m6\"><h3>Quizzes</h3>\\n<a href=\"/quiztest/quiztest.asp?Qtest=HTML\" target=\"_top\">HTML Quiz</a>\\n<a href=\"/quiztest/quiztest.asp?Qtest=CSS\" target=\"_top\">CSS Quiz</a>\\n<a href=\"/quiztest/quiztest.asp?Qtest=JavaScript\" target=\"_top\">JavaScript Quiz</a>\\n<a href=\"/quiztest/quiztest.asp?Qtest=Bootstrap\" target=\"_top\">Bootstrap Quiz</a>\\n<a href=\"/quiztest/quiztest.asp?Qtest=jQuery\" target=\"_top\">jQuery Quiz</a>\\n<a href=\"/quiztest/quiztest.asp?Qtest=PHP\" target=\"_top\">PHP Quiz</a>\\n<a href=\"/quiztest/quiztest.asp?Qtest=SQL\" target=\"_top\">SQL Quiz</a>\\n<a href=\"/quiztest/quiztest.asp?Qtest=XML\" target=\"_top\">XML Quiz</a>\\n</div>,\n",
       " <div class=\"w3-main\">\\n<div class=\"w3-row w3-margin-bottom\">\\n<div class=\"w3-col l6 w3-center\" style=\"padding:3%\">\\n<h1>HTML</h1>\\n<p class=\"w3-xlarge w3-text-dark-grey\">The language for building web pages</p>\\n<a class=\"w3-btn w3-dark-grey w3-padding\" href=\"/html/default.asp\">LEARN HTML</a>\\n<a class=\"w3-btn w3-dark-grey w3-padding\" href=\"/tags/default.asp\">HTML REFERENCE</a>\\n</div>\\n<div class=\"w3-col l6\" style=\"padding:3%\">\\n<div class=\"w3-example w3-padding-16 w3-margin-0 w3-hide-small\">\\n<h4>HTML Example:</h4>\\n<div class=\"w3-code htmlHigh notranslate w3-border-green\">\\r\\n&lt;!DOCTYPE html&gt;<br/>\\r\\n&lt;html&gt;<br/>\\r\\n&lt;title&gt;HTML Tutorial&lt;/title&gt;<br/>\\r\\n&lt;body&gt;<br/><br/>\\r\\n&lt;h1&gt;This is a heading&lt;/h1&gt;<br/>\\r\\n&lt;p&gt;This is a paragraph.&lt;/p&gt;<br/><br/>\\r\\n&lt;/body&gt;<br/>\\r\\n&lt;/html&gt;\\r\\n   </div>\\n<a class=\"w3-btn w3-theme w3-margin-0\" href=\"/html/tryit.asp?filename=tryhtml_default\" target=\"_blank\">Try it Yourself \\xbb</a>\\n</div>\\n</div>\\n</div>\\n<div class=\"w3-row w3-light-grey w3-hide-medium w3-hide-small\">\\n<div class=\"w3-col l6\" style=\"padding-top:40px;padding:3%;\">\\n<h4>CSS Example:</h4>\\n<div class=\"w3-code cssHigh notranslate w3-card-2 w3-border-green\">\\r\\nbody {<br/>\\r\\n\\xa0\\xa0\\xa0 background-color: lightblue;<br/>}<br/>\\r\\nh1 {<br/>\\r\\n\\xa0\\xa0\\xa0 color: white;<br/>\\r\\n\\xa0\\xa0\\xa0 text-align: center;<br/>}<br/>\\r\\np {<br/>\\r\\n\\xa0\\xa0\\xa0 font-family: verdana;<br/>\\r\\n\\xa0\\xa0\\xa0 font-size: 20px;<br/>}\\r\\n  </div>\\n<a class=\"w3-btn w3-theme w3-margin-0\" href=\"/css/tryit.asp?filename=trycss_default\" target=\"_blank\">Try it Yourself \\xbb</a>\\n</div>\\n<div class=\"w3-col l6 w3-center\" style=\"padding:3%\">\\n<h1>CSS</h1>\\n<p class=\"w3-xlarge\">The language for styling web pages</p>\\n<a class=\"w3-btn w3-dark-grey w3-padding\" href=\"/css/default.asp\">LEARN CSS</a>\\n<a class=\"w3-btn w3-dark-grey w3-padding\" href=\"/cssref/default.asp\">CSS REFERENCE</a>\\n</div>\\n</div>\\n<div class=\"w3-row w3-light-grey w3-hide-large\" style=\"padding-bottom:30px\">\\n<div class=\"w3-col l6 w3-center\" style=\"padding:3%\">\\n<h1>CSS</h1>\\n<p class=\"w3-xlarge\">The language for styling web pages</p>\\n<a class=\"w3-btn w3-dark-grey w3-padding\" href=\"/css/default.asp\">LEARN CSS</a>\\n<a class=\"w3-btn w3-dark-grey w3-padding\" href=\"/cssref/default.asp\">CSS REFERENCE</a>\\n</div>\\n<div class=\"w3-col l6 w3-hide-small\" style=\"padding-top:40px;padding:3%;\">\\n<h4>CSS Example:</h4>\\n<div class=\"w3-code cssHigh notranslate w3-card-2 w3-border-green\">\\r\\nbody {<br/>\\r\\n\\xa0\\xa0\\xa0 background-color: lightblue;<br/>}<br/>\\r\\nh1 {<br/>\\r\\n\\xa0\\xa0\\xa0 color: white;<br/>\\r\\n\\xa0\\xa0\\xa0 text-align: center;<br/>}<br/>\\r\\np {<br/>\\r\\n\\xa0\\xa0\\xa0 font-family: verdana;<br/>\\r\\n\\xa0\\xa0\\xa0 font-size: 20px;<br/>}\\r\\n  </div>\\n<a class=\"w3-btn w3-theme w3-margin-0\" href=\"/css/tryit.asp?filename=trycss_default\" target=\"_blank\">Try it Yourself \\xbb</a>\\n</div>\\n</div>\\n<div class=\"w3-row\">\\n<div class=\"w3-col l6 w3-center\" style=\"padding:3%\">\\n<h1 class=\"w3-jumbo\">JavaScript</h1>\\n<p class=\"w3-xlarge w3-text-dark-grey\">The language for programming web pages</p>\\n<a class=\"w3-btn w3-dark-grey w3-padding\" href=\"/js/default.asp\">LEARN JAVASCRIPT</a>\\n<a class=\"w3-btn w3-dark-grey w3-padding\" href=\"/jsref/default.asp\">JAVASCRIPT REFERENCE</a>\\n</div>\\n<div class=\"w3-col l6\" style=\"padding:3%\">\\n<div class=\"w3-example w3-padding-16 w3-margin-0 w3-hide-small\">\\n<h4>JavaScript Example:</h4>\\n<div class=\"w3-code notranslate w3-border-green\">\\n<div class=\"htmlHigh\">\\r\\n&lt;script&gt;\\r\\n   </div>\\n<div class=\"jsHigh\">\\r\\nfunction myFunction() {<br/>\\r\\n\\xa0\\xa0\\xa0 var x = document.getElementById(\"demo\");<br/>\\r\\n\\xa0\\xa0\\xa0 x.style.fontSize = \"25px\"; <br/>\\r\\n\\xa0\\xa0\\xa0 x.style.color = \"red\"; <br/>}<br/>\\n</div>\\n<div class=\"htmlHigh\">\\r\\n&lt;/script&gt;<br/><br/>\\r\\n&lt;button onclick=\"myFunction()\"&gt;Click Me!&lt;/button&gt;\\r\\n    </div>\\n</div>\\n<a class=\"w3-btn w3-theme w3-margin-0\" href=\"/js/tryit.asp?filename=tryjs_default\" target=\"_blank\">Try it Yourself \\xbb</a>\\n</div>\\n</div>\\n</div>\\n<div class=\"w3-row w3-light-grey w3-padding-12\">\\n<div class=\"w3-col l4 w3-center\" style=\"padding:3%;\">\\n<div class=\"w3-card-2 w3-white\">\\n<h2 class=\"w3-xxlarge\">SQL</h2>\\n<h4 class=\"w3-text-dark-grey\">A language for accessing databases</h4>\\n<a class=\"w3-btn w3-dark-grey w3-padding\" href=\"/sql/default.asp\">LEARN SQL</a>\\n</div>\\n</div>\\n<div class=\"w3-col l4 w3-center\" style=\"padding:3%;\">\\n<div class=\"w3-card-2 w3-white\">\\n<h2 class=\"w3-xxlarge\">PHP</h2>\\n<h4 class=\"w3-text-dark-grey\">A web server programming language</h4>\\n<a class=\"w3-btn w3-dark-grey w3-padding\" href=\"/php/default.asp\">LEARN PHP</a>\\n</div>\\n</div>\\n<div class=\"w3-col l4 w3-center\" style=\"padding:3%;\">\\n<div class=\"w3-card-2 w3-white\">\\n<h2 class=\"w3-xxlarge\">jQuery</h2>\\n<h4 class=\"w3-text-dark-grey\">A JavaScript library for developing web pages</h4>\\n<a class=\"w3-btn w3-dark-grey w3-padding\" href=\"/jquery/default.asp\">LEARN JQUERY</a>\\n</div>\\n</div>\\n</div>\\n<div class=\"w3-row\">\\n<div class=\"w3-col l4 w3-center\" style=\"padding:3%;\">\\n<h2 class=\"w3-xxlarge\">W3.CSS</h2>\\n<h4 class=\"w3-text-dark-grey\">A modern CSS framework for faster and better responsive web sites</h4>\\n<a class=\"w3-btn w3-dark-grey w3-padding\" href=\"/w3css/default.asp\">LEARN W3.CSS</a>\\n</div>\\n<div class=\"w3-col l4 w3-center\" style=\"padding:3%;\">\\n<h2 class=\"w3-xxlarge\">Color Picker</h2>\\n<a class=\"w3-hover-opacity\" href=\"/colors/colors_picker.asp\"><img alt=\"Colorpicker\" src=\"/images/colorpicker.png\" style=\"width:150px;height:128px;margin-top:16px;\"/></a>\\n</div>\\n<div class=\"w3-col l4 w3-center\" style=\"padding:3%;\">\\n<h2 class=\"w3-xxlarge\">Bootstrap</h2>\\n<h4 class=\"w3-text-dark-grey\">Bootstrap is a CSS framework for designing better web pages</h4>\\n<a class=\"w3-btn w3-dark-grey w3-padding\" href=\"/bootstrap/default.asp\">LEARN BOOTSTRAP</a>\\n</div>\\n</div>\\n<br/>\\n<div class=\"w3-light-grey w3-center w3-padding-jumbo w3-padding-32\">\\n<h2 class=\"w3-xxlarge\">Web Templates</h2>\\n<h4 class=\"w3-text-dark-grey\">Browse our selection of <strong>free</strong> responsive HTML Templates</h4>\\n<div class=\"w3-content\">\\n<a href=\"/w3css/w3css_templates.asp\"><img alt=\"W3.CSS Templates\" src=\"w3css_templates.jpg\" style=\"width:100%;margin:32px 0\"/></a>\\n</div>\\n<p><a class=\"w3-btn w3-dark-grey w3-padding-large\" href=\"/w3css/w3css_templates.asp\">BROWSE TEMPLATES</a></p>\\n</div>\\n<footer class=\"w3-container w3-dark-grey w3-center w3-padding-jumbo w3-padding-32\">\\n<div class=\"w3-container w3-padding-32\">\\n<a class=\"w3-btn w3-light-grey w3-hide-small w3-hide-medium w3-left w3-padding\" href=\"/cert/default.asp\" style=\"font-size:16px;margin-top:-9px\">WEB CERTIFICATES</a>\\n<a class=\"w3-btn w3-light-grey w3-hide-large\" href=\"/cert/default.asp\" style=\"font-size:16px;margin-bottom:16px\">WEB CERTIFICATES</a>\\n<nav class=\"w3-right w3-hide-medium w3-hide-small w3-wide\">\\n<a class=\"w3-hover-text-green\" href=\"/forum/default.asp\" style=\"text-decoration:none\" target=\"_blank\">FORUM</a> |\\r\\n    <a class=\"w3-hover-text-green\" href=\"/about/default.asp\" style=\"text-decoration:none\" target=\"_top\">ABOUT</a>\\n</nav>\\n<nav class=\"w3-center w3-hide-large w3-margin-top w3-wide\">\\n<a class=\"w3-hover-text-green\" href=\"/forum/default.asp\" style=\"text-decoration:none\" target=\"_blank\">FORUM</a> |\\r\\n    <a class=\"w3-hover-text-green\" href=\"/about/default.asp\" style=\"text-decoration:none\" target=\"_top\">ABOUT</a>\\n</nav>\\n</div>\\n<p class=\"w3-medium\">\\r\\n W3Schools is optimized for learning, testing, and training. Examples might be simplified to improve reading and basic understanding. Tutorials, references, and examples are constantly reviewed to avoid errors, but we cannot warrant full correctness of\\r\\n all content. While using this site, you agree to have read and accepted our <a class=\"w3-hover-text-green\" href=\"/about/about_copyright.asp\">terms of use</a>, <a class=\"w3-hover-text-green\" href=\"/about/about_privacy.asp\">cookie and privacy policy</a>.<br/>\\n<a class=\"w3-hover-text-green\" href=\"/about/about_copyright.asp\">Copyright 1999-2016</a> by Refsnes Data. All Rights Reserved.<br/><br/></p>\\n<a class=\"w3-hover-text-light-grey\" href=\"javascript:void(0);\" onclick=\"clickFBLike()\" title=\"Like W3Schools on Facebook\">\\n<i class=\"fa fa-thumbs-o-up w3-xxlarge\"></i></a>\\n<div class=\"w3-modal\" id=\"fblikeframe\">\\n<div class=\"w3-modal-content w3-padding-64 w3-animate-zoom\" id=\"popupDIV\"></div>\\n</div>\\n</footer>\\n<!-- END MAIN -->\\n</div>,\n",
       " <div class=\"w3-row w3-margin-bottom\">\\n<div class=\"w3-col l6 w3-center\" style=\"padding:3%\">\\n<h1>HTML</h1>\\n<p class=\"w3-xlarge w3-text-dark-grey\">The language for building web pages</p>\\n<a class=\"w3-btn w3-dark-grey w3-padding\" href=\"/html/default.asp\">LEARN HTML</a>\\n<a class=\"w3-btn w3-dark-grey w3-padding\" href=\"/tags/default.asp\">HTML REFERENCE</a>\\n</div>\\n<div class=\"w3-col l6\" style=\"padding:3%\">\\n<div class=\"w3-example w3-padding-16 w3-margin-0 w3-hide-small\">\\n<h4>HTML Example:</h4>\\n<div class=\"w3-code htmlHigh notranslate w3-border-green\">\\r\\n&lt;!DOCTYPE html&gt;<br/>\\r\\n&lt;html&gt;<br/>\\r\\n&lt;title&gt;HTML Tutorial&lt;/title&gt;<br/>\\r\\n&lt;body&gt;<br/><br/>\\r\\n&lt;h1&gt;This is a heading&lt;/h1&gt;<br/>\\r\\n&lt;p&gt;This is a paragraph.&lt;/p&gt;<br/><br/>\\r\\n&lt;/body&gt;<br/>\\r\\n&lt;/html&gt;\\r\\n   </div>\\n<a class=\"w3-btn w3-theme w3-margin-0\" href=\"/html/tryit.asp?filename=tryhtml_default\" target=\"_blank\">Try it Yourself \\xbb</a>\\n</div>\\n</div>\\n</div>,\n",
       " <div class=\"w3-col l6 w3-center\" style=\"padding:3%\">\\n<h1>HTML</h1>\\n<p class=\"w3-xlarge w3-text-dark-grey\">The language for building web pages</p>\\n<a class=\"w3-btn w3-dark-grey w3-padding\" href=\"/html/default.asp\">LEARN HTML</a>\\n<a class=\"w3-btn w3-dark-grey w3-padding\" href=\"/tags/default.asp\">HTML REFERENCE</a>\\n</div>,\n",
       " <div class=\"w3-col l6\" style=\"padding:3%\">\\n<div class=\"w3-example w3-padding-16 w3-margin-0 w3-hide-small\">\\n<h4>HTML Example:</h4>\\n<div class=\"w3-code htmlHigh notranslate w3-border-green\">\\r\\n&lt;!DOCTYPE html&gt;<br/>\\r\\n&lt;html&gt;<br/>\\r\\n&lt;title&gt;HTML Tutorial&lt;/title&gt;<br/>\\r\\n&lt;body&gt;<br/><br/>\\r\\n&lt;h1&gt;This is a heading&lt;/h1&gt;<br/>\\r\\n&lt;p&gt;This is a paragraph.&lt;/p&gt;<br/><br/>\\r\\n&lt;/body&gt;<br/>\\r\\n&lt;/html&gt;\\r\\n   </div>\\n<a class=\"w3-btn w3-theme w3-margin-0\" href=\"/html/tryit.asp?filename=tryhtml_default\" target=\"_blank\">Try it Yourself \\xbb</a>\\n</div>\\n</div>,\n",
       " <div class=\"w3-example w3-padding-16 w3-margin-0 w3-hide-small\">\\n<h4>HTML Example:</h4>\\n<div class=\"w3-code htmlHigh notranslate w3-border-green\">\\r\\n&lt;!DOCTYPE html&gt;<br/>\\r\\n&lt;html&gt;<br/>\\r\\n&lt;title&gt;HTML Tutorial&lt;/title&gt;<br/>\\r\\n&lt;body&gt;<br/><br/>\\r\\n&lt;h1&gt;This is a heading&lt;/h1&gt;<br/>\\r\\n&lt;p&gt;This is a paragraph.&lt;/p&gt;<br/><br/>\\r\\n&lt;/body&gt;<br/>\\r\\n&lt;/html&gt;\\r\\n   </div>\\n<a class=\"w3-btn w3-theme w3-margin-0\" href=\"/html/tryit.asp?filename=tryhtml_default\" target=\"_blank\">Try it Yourself \\xbb</a>\\n</div>,\n",
       " <div class=\"w3-code htmlHigh notranslate w3-border-green\">\\r\\n&lt;!DOCTYPE html&gt;<br/>\\r\\n&lt;html&gt;<br/>\\r\\n&lt;title&gt;HTML Tutorial&lt;/title&gt;<br/>\\r\\n&lt;body&gt;<br/><br/>\\r\\n&lt;h1&gt;This is a heading&lt;/h1&gt;<br/>\\r\\n&lt;p&gt;This is a paragraph.&lt;/p&gt;<br/><br/>\\r\\n&lt;/body&gt;<br/>\\r\\n&lt;/html&gt;\\r\\n   </div>,\n",
       " <div class=\"w3-row w3-light-grey w3-hide-medium w3-hide-small\">\\n<div class=\"w3-col l6\" style=\"padding-top:40px;padding:3%;\">\\n<h4>CSS Example:</h4>\\n<div class=\"w3-code cssHigh notranslate w3-card-2 w3-border-green\">\\r\\nbody {<br/>\\r\\n\\xa0\\xa0\\xa0 background-color: lightblue;<br/>}<br/>\\r\\nh1 {<br/>\\r\\n\\xa0\\xa0\\xa0 color: white;<br/>\\r\\n\\xa0\\xa0\\xa0 text-align: center;<br/>}<br/>\\r\\np {<br/>\\r\\n\\xa0\\xa0\\xa0 font-family: verdana;<br/>\\r\\n\\xa0\\xa0\\xa0 font-size: 20px;<br/>}\\r\\n  </div>\\n<a class=\"w3-btn w3-theme w3-margin-0\" href=\"/css/tryit.asp?filename=trycss_default\" target=\"_blank\">Try it Yourself \\xbb</a>\\n</div>\\n<div class=\"w3-col l6 w3-center\" style=\"padding:3%\">\\n<h1>CSS</h1>\\n<p class=\"w3-xlarge\">The language for styling web pages</p>\\n<a class=\"w3-btn w3-dark-grey w3-padding\" href=\"/css/default.asp\">LEARN CSS</a>\\n<a class=\"w3-btn w3-dark-grey w3-padding\" href=\"/cssref/default.asp\">CSS REFERENCE</a>\\n</div>\\n</div>,\n",
       " <div class=\"w3-col l6\" style=\"padding-top:40px;padding:3%;\">\\n<h4>CSS Example:</h4>\\n<div class=\"w3-code cssHigh notranslate w3-card-2 w3-border-green\">\\r\\nbody {<br/>\\r\\n\\xa0\\xa0\\xa0 background-color: lightblue;<br/>}<br/>\\r\\nh1 {<br/>\\r\\n\\xa0\\xa0\\xa0 color: white;<br/>\\r\\n\\xa0\\xa0\\xa0 text-align: center;<br/>}<br/>\\r\\np {<br/>\\r\\n\\xa0\\xa0\\xa0 font-family: verdana;<br/>\\r\\n\\xa0\\xa0\\xa0 font-size: 20px;<br/>}\\r\\n  </div>\\n<a class=\"w3-btn w3-theme w3-margin-0\" href=\"/css/tryit.asp?filename=trycss_default\" target=\"_blank\">Try it Yourself \\xbb</a>\\n</div>,\n",
       " <div class=\"w3-code cssHigh notranslate w3-card-2 w3-border-green\">\\r\\nbody {<br/>\\r\\n\\xa0\\xa0\\xa0 background-color: lightblue;<br/>}<br/>\\r\\nh1 {<br/>\\r\\n\\xa0\\xa0\\xa0 color: white;<br/>\\r\\n\\xa0\\xa0\\xa0 text-align: center;<br/>}<br/>\\r\\np {<br/>\\r\\n\\xa0\\xa0\\xa0 font-family: verdana;<br/>\\r\\n\\xa0\\xa0\\xa0 font-size: 20px;<br/>}\\r\\n  </div>,\n",
       " <div class=\"w3-col l6 w3-center\" style=\"padding:3%\">\\n<h1>CSS</h1>\\n<p class=\"w3-xlarge\">The language for styling web pages</p>\\n<a class=\"w3-btn w3-dark-grey w3-padding\" href=\"/css/default.asp\">LEARN CSS</a>\\n<a class=\"w3-btn w3-dark-grey w3-padding\" href=\"/cssref/default.asp\">CSS REFERENCE</a>\\n</div>,\n",
       " <div class=\"w3-row w3-light-grey w3-hide-large\" style=\"padding-bottom:30px\">\\n<div class=\"w3-col l6 w3-center\" style=\"padding:3%\">\\n<h1>CSS</h1>\\n<p class=\"w3-xlarge\">The language for styling web pages</p>\\n<a class=\"w3-btn w3-dark-grey w3-padding\" href=\"/css/default.asp\">LEARN CSS</a>\\n<a class=\"w3-btn w3-dark-grey w3-padding\" href=\"/cssref/default.asp\">CSS REFERENCE</a>\\n</div>\\n<div class=\"w3-col l6 w3-hide-small\" style=\"padding-top:40px;padding:3%;\">\\n<h4>CSS Example:</h4>\\n<div class=\"w3-code cssHigh notranslate w3-card-2 w3-border-green\">\\r\\nbody {<br/>\\r\\n\\xa0\\xa0\\xa0 background-color: lightblue;<br/>}<br/>\\r\\nh1 {<br/>\\r\\n\\xa0\\xa0\\xa0 color: white;<br/>\\r\\n\\xa0\\xa0\\xa0 text-align: center;<br/>}<br/>\\r\\np {<br/>\\r\\n\\xa0\\xa0\\xa0 font-family: verdana;<br/>\\r\\n\\xa0\\xa0\\xa0 font-size: 20px;<br/>}\\r\\n  </div>\\n<a class=\"w3-btn w3-theme w3-margin-0\" href=\"/css/tryit.asp?filename=trycss_default\" target=\"_blank\">Try it Yourself \\xbb</a>\\n</div>\\n</div>,\n",
       " <div class=\"w3-col l6 w3-center\" style=\"padding:3%\">\\n<h1>CSS</h1>\\n<p class=\"w3-xlarge\">The language for styling web pages</p>\\n<a class=\"w3-btn w3-dark-grey w3-padding\" href=\"/css/default.asp\">LEARN CSS</a>\\n<a class=\"w3-btn w3-dark-grey w3-padding\" href=\"/cssref/default.asp\">CSS REFERENCE</a>\\n</div>,\n",
       " <div class=\"w3-col l6 w3-hide-small\" style=\"padding-top:40px;padding:3%;\">\\n<h4>CSS Example:</h4>\\n<div class=\"w3-code cssHigh notranslate w3-card-2 w3-border-green\">\\r\\nbody {<br/>\\r\\n\\xa0\\xa0\\xa0 background-color: lightblue;<br/>}<br/>\\r\\nh1 {<br/>\\r\\n\\xa0\\xa0\\xa0 color: white;<br/>\\r\\n\\xa0\\xa0\\xa0 text-align: center;<br/>}<br/>\\r\\np {<br/>\\r\\n\\xa0\\xa0\\xa0 font-family: verdana;<br/>\\r\\n\\xa0\\xa0\\xa0 font-size: 20px;<br/>}\\r\\n  </div>\\n<a class=\"w3-btn w3-theme w3-margin-0\" href=\"/css/tryit.asp?filename=trycss_default\" target=\"_blank\">Try it Yourself \\xbb</a>\\n</div>,\n",
       " <div class=\"w3-code cssHigh notranslate w3-card-2 w3-border-green\">\\r\\nbody {<br/>\\r\\n\\xa0\\xa0\\xa0 background-color: lightblue;<br/>}<br/>\\r\\nh1 {<br/>\\r\\n\\xa0\\xa0\\xa0 color: white;<br/>\\r\\n\\xa0\\xa0\\xa0 text-align: center;<br/>}<br/>\\r\\np {<br/>\\r\\n\\xa0\\xa0\\xa0 font-family: verdana;<br/>\\r\\n\\xa0\\xa0\\xa0 font-size: 20px;<br/>}\\r\\n  </div>,\n",
       " <div class=\"w3-row\">\\n<div class=\"w3-col l6 w3-center\" style=\"padding:3%\">\\n<h1 class=\"w3-jumbo\">JavaScript</h1>\\n<p class=\"w3-xlarge w3-text-dark-grey\">The language for programming web pages</p>\\n<a class=\"w3-btn w3-dark-grey w3-padding\" href=\"/js/default.asp\">LEARN JAVASCRIPT</a>\\n<a class=\"w3-btn w3-dark-grey w3-padding\" href=\"/jsref/default.asp\">JAVASCRIPT REFERENCE</a>\\n</div>\\n<div class=\"w3-col l6\" style=\"padding:3%\">\\n<div class=\"w3-example w3-padding-16 w3-margin-0 w3-hide-small\">\\n<h4>JavaScript Example:</h4>\\n<div class=\"w3-code notranslate w3-border-green\">\\n<div class=\"htmlHigh\">\\r\\n&lt;script&gt;\\r\\n   </div>\\n<div class=\"jsHigh\">\\r\\nfunction myFunction() {<br/>\\r\\n\\xa0\\xa0\\xa0 var x = document.getElementById(\"demo\");<br/>\\r\\n\\xa0\\xa0\\xa0 x.style.fontSize = \"25px\"; <br/>\\r\\n\\xa0\\xa0\\xa0 x.style.color = \"red\"; <br/>}<br/>\\n</div>\\n<div class=\"htmlHigh\">\\r\\n&lt;/script&gt;<br/><br/>\\r\\n&lt;button onclick=\"myFunction()\"&gt;Click Me!&lt;/button&gt;\\r\\n    </div>\\n</div>\\n<a class=\"w3-btn w3-theme w3-margin-0\" href=\"/js/tryit.asp?filename=tryjs_default\" target=\"_blank\">Try it Yourself \\xbb</a>\\n</div>\\n</div>\\n</div>,\n",
       " <div class=\"w3-col l6 w3-center\" style=\"padding:3%\">\\n<h1 class=\"w3-jumbo\">JavaScript</h1>\\n<p class=\"w3-xlarge w3-text-dark-grey\">The language for programming web pages</p>\\n<a class=\"w3-btn w3-dark-grey w3-padding\" href=\"/js/default.asp\">LEARN JAVASCRIPT</a>\\n<a class=\"w3-btn w3-dark-grey w3-padding\" href=\"/jsref/default.asp\">JAVASCRIPT REFERENCE</a>\\n</div>,\n",
       " <div class=\"w3-col l6\" style=\"padding:3%\">\\n<div class=\"w3-example w3-padding-16 w3-margin-0 w3-hide-small\">\\n<h4>JavaScript Example:</h4>\\n<div class=\"w3-code notranslate w3-border-green\">\\n<div class=\"htmlHigh\">\\r\\n&lt;script&gt;\\r\\n   </div>\\n<div class=\"jsHigh\">\\r\\nfunction myFunction() {<br/>\\r\\n\\xa0\\xa0\\xa0 var x = document.getElementById(\"demo\");<br/>\\r\\n\\xa0\\xa0\\xa0 x.style.fontSize = \"25px\"; <br/>\\r\\n\\xa0\\xa0\\xa0 x.style.color = \"red\"; <br/>}<br/>\\n</div>\\n<div class=\"htmlHigh\">\\r\\n&lt;/script&gt;<br/><br/>\\r\\n&lt;button onclick=\"myFunction()\"&gt;Click Me!&lt;/button&gt;\\r\\n    </div>\\n</div>\\n<a class=\"w3-btn w3-theme w3-margin-0\" href=\"/js/tryit.asp?filename=tryjs_default\" target=\"_blank\">Try it Yourself \\xbb</a>\\n</div>\\n</div>,\n",
       " <div class=\"w3-example w3-padding-16 w3-margin-0 w3-hide-small\">\\n<h4>JavaScript Example:</h4>\\n<div class=\"w3-code notranslate w3-border-green\">\\n<div class=\"htmlHigh\">\\r\\n&lt;script&gt;\\r\\n   </div>\\n<div class=\"jsHigh\">\\r\\nfunction myFunction() {<br/>\\r\\n\\xa0\\xa0\\xa0 var x = document.getElementById(\"demo\");<br/>\\r\\n\\xa0\\xa0\\xa0 x.style.fontSize = \"25px\"; <br/>\\r\\n\\xa0\\xa0\\xa0 x.style.color = \"red\"; <br/>}<br/>\\n</div>\\n<div class=\"htmlHigh\">\\r\\n&lt;/script&gt;<br/><br/>\\r\\n&lt;button onclick=\"myFunction()\"&gt;Click Me!&lt;/button&gt;\\r\\n    </div>\\n</div>\\n<a class=\"w3-btn w3-theme w3-margin-0\" href=\"/js/tryit.asp?filename=tryjs_default\" target=\"_blank\">Try it Yourself \\xbb</a>\\n</div>,\n",
       " <div class=\"w3-code notranslate w3-border-green\">\\n<div class=\"htmlHigh\">\\r\\n&lt;script&gt;\\r\\n   </div>\\n<div class=\"jsHigh\">\\r\\nfunction myFunction() {<br/>\\r\\n\\xa0\\xa0\\xa0 var x = document.getElementById(\"demo\");<br/>\\r\\n\\xa0\\xa0\\xa0 x.style.fontSize = \"25px\"; <br/>\\r\\n\\xa0\\xa0\\xa0 x.style.color = \"red\"; <br/>}<br/>\\n</div>\\n<div class=\"htmlHigh\">\\r\\n&lt;/script&gt;<br/><br/>\\r\\n&lt;button onclick=\"myFunction()\"&gt;Click Me!&lt;/button&gt;\\r\\n    </div>\\n</div>,\n",
       " <div class=\"htmlHigh\">\\r\\n&lt;script&gt;\\r\\n   </div>,\n",
       " <div class=\"jsHigh\">\\r\\nfunction myFunction() {<br/>\\r\\n\\xa0\\xa0\\xa0 var x = document.getElementById(\"demo\");<br/>\\r\\n\\xa0\\xa0\\xa0 x.style.fontSize = \"25px\"; <br/>\\r\\n\\xa0\\xa0\\xa0 x.style.color = \"red\"; <br/>}<br/>\\n</div>,\n",
       " <div class=\"htmlHigh\">\\r\\n&lt;/script&gt;<br/><br/>\\r\\n&lt;button onclick=\"myFunction()\"&gt;Click Me!&lt;/button&gt;\\r\\n    </div>,\n",
       " <div class=\"w3-row w3-light-grey w3-padding-12\">\\n<div class=\"w3-col l4 w3-center\" style=\"padding:3%;\">\\n<div class=\"w3-card-2 w3-white\">\\n<h2 class=\"w3-xxlarge\">SQL</h2>\\n<h4 class=\"w3-text-dark-grey\">A language for accessing databases</h4>\\n<a class=\"w3-btn w3-dark-grey w3-padding\" href=\"/sql/default.asp\">LEARN SQL</a>\\n</div>\\n</div>\\n<div class=\"w3-col l4 w3-center\" style=\"padding:3%;\">\\n<div class=\"w3-card-2 w3-white\">\\n<h2 class=\"w3-xxlarge\">PHP</h2>\\n<h4 class=\"w3-text-dark-grey\">A web server programming language</h4>\\n<a class=\"w3-btn w3-dark-grey w3-padding\" href=\"/php/default.asp\">LEARN PHP</a>\\n</div>\\n</div>\\n<div class=\"w3-col l4 w3-center\" style=\"padding:3%;\">\\n<div class=\"w3-card-2 w3-white\">\\n<h2 class=\"w3-xxlarge\">jQuery</h2>\\n<h4 class=\"w3-text-dark-grey\">A JavaScript library for developing web pages</h4>\\n<a class=\"w3-btn w3-dark-grey w3-padding\" href=\"/jquery/default.asp\">LEARN JQUERY</a>\\n</div>\\n</div>\\n</div>,\n",
       " <div class=\"w3-col l4 w3-center\" style=\"padding:3%;\">\\n<div class=\"w3-card-2 w3-white\">\\n<h2 class=\"w3-xxlarge\">SQL</h2>\\n<h4 class=\"w3-text-dark-grey\">A language for accessing databases</h4>\\n<a class=\"w3-btn w3-dark-grey w3-padding\" href=\"/sql/default.asp\">LEARN SQL</a>\\n</div>\\n</div>,\n",
       " <div class=\"w3-card-2 w3-white\">\\n<h2 class=\"w3-xxlarge\">SQL</h2>\\n<h4 class=\"w3-text-dark-grey\">A language for accessing databases</h4>\\n<a class=\"w3-btn w3-dark-grey w3-padding\" href=\"/sql/default.asp\">LEARN SQL</a>\\n</div>,\n",
       " <div class=\"w3-col l4 w3-center\" style=\"padding:3%;\">\\n<div class=\"w3-card-2 w3-white\">\\n<h2 class=\"w3-xxlarge\">PHP</h2>\\n<h4 class=\"w3-text-dark-grey\">A web server programming language</h4>\\n<a class=\"w3-btn w3-dark-grey w3-padding\" href=\"/php/default.asp\">LEARN PHP</a>\\n</div>\\n</div>,\n",
       " <div class=\"w3-card-2 w3-white\">\\n<h2 class=\"w3-xxlarge\">PHP</h2>\\n<h4 class=\"w3-text-dark-grey\">A web server programming language</h4>\\n<a class=\"w3-btn w3-dark-grey w3-padding\" href=\"/php/default.asp\">LEARN PHP</a>\\n</div>,\n",
       " <div class=\"w3-col l4 w3-center\" style=\"padding:3%;\">\\n<div class=\"w3-card-2 w3-white\">\\n<h2 class=\"w3-xxlarge\">jQuery</h2>\\n<h4 class=\"w3-text-dark-grey\">A JavaScript library for developing web pages</h4>\\n<a class=\"w3-btn w3-dark-grey w3-padding\" href=\"/jquery/default.asp\">LEARN JQUERY</a>\\n</div>\\n</div>,\n",
       " <div class=\"w3-card-2 w3-white\">\\n<h2 class=\"w3-xxlarge\">jQuery</h2>\\n<h4 class=\"w3-text-dark-grey\">A JavaScript library for developing web pages</h4>\\n<a class=\"w3-btn w3-dark-grey w3-padding\" href=\"/jquery/default.asp\">LEARN JQUERY</a>\\n</div>,\n",
       " <div class=\"w3-row\">\\n<div class=\"w3-col l4 w3-center\" style=\"padding:3%;\">\\n<h2 class=\"w3-xxlarge\">W3.CSS</h2>\\n<h4 class=\"w3-text-dark-grey\">A modern CSS framework for faster and better responsive web sites</h4>\\n<a class=\"w3-btn w3-dark-grey w3-padding\" href=\"/w3css/default.asp\">LEARN W3.CSS</a>\\n</div>\\n<div class=\"w3-col l4 w3-center\" style=\"padding:3%;\">\\n<h2 class=\"w3-xxlarge\">Color Picker</h2>\\n<a class=\"w3-hover-opacity\" href=\"/colors/colors_picker.asp\"><img alt=\"Colorpicker\" src=\"/images/colorpicker.png\" style=\"width:150px;height:128px;margin-top:16px;\"/></a>\\n</div>\\n<div class=\"w3-col l4 w3-center\" style=\"padding:3%;\">\\n<h2 class=\"w3-xxlarge\">Bootstrap</h2>\\n<h4 class=\"w3-text-dark-grey\">Bootstrap is a CSS framework for designing better web pages</h4>\\n<a class=\"w3-btn w3-dark-grey w3-padding\" href=\"/bootstrap/default.asp\">LEARN BOOTSTRAP</a>\\n</div>\\n</div>,\n",
       " <div class=\"w3-col l4 w3-center\" style=\"padding:3%;\">\\n<h2 class=\"w3-xxlarge\">W3.CSS</h2>\\n<h4 class=\"w3-text-dark-grey\">A modern CSS framework for faster and better responsive web sites</h4>\\n<a class=\"w3-btn w3-dark-grey w3-padding\" href=\"/w3css/default.asp\">LEARN W3.CSS</a>\\n</div>,\n",
       " <div class=\"w3-col l4 w3-center\" style=\"padding:3%;\">\\n<h2 class=\"w3-xxlarge\">Color Picker</h2>\\n<a class=\"w3-hover-opacity\" href=\"/colors/colors_picker.asp\"><img alt=\"Colorpicker\" src=\"/images/colorpicker.png\" style=\"width:150px;height:128px;margin-top:16px;\"/></a>\\n</div>,\n",
       " <div class=\"w3-col l4 w3-center\" style=\"padding:3%;\">\\n<h2 class=\"w3-xxlarge\">Bootstrap</h2>\\n<h4 class=\"w3-text-dark-grey\">Bootstrap is a CSS framework for designing better web pages</h4>\\n<a class=\"w3-btn w3-dark-grey w3-padding\" href=\"/bootstrap/default.asp\">LEARN BOOTSTRAP</a>\\n</div>,\n",
       " <div class=\"w3-light-grey w3-center w3-padding-jumbo w3-padding-32\">\\n<h2 class=\"w3-xxlarge\">Web Templates</h2>\\n<h4 class=\"w3-text-dark-grey\">Browse our selection of <strong>free</strong> responsive HTML Templates</h4>\\n<div class=\"w3-content\">\\n<a href=\"/w3css/w3css_templates.asp\"><img alt=\"W3.CSS Templates\" src=\"w3css_templates.jpg\" style=\"width:100%;margin:32px 0\"/></a>\\n</div>\\n<p><a class=\"w3-btn w3-dark-grey w3-padding-large\" href=\"/w3css/w3css_templates.asp\">BROWSE TEMPLATES</a></p>\\n</div>,\n",
       " <div class=\"w3-content\">\\n<a href=\"/w3css/w3css_templates.asp\"><img alt=\"W3.CSS Templates\" src=\"w3css_templates.jpg\" style=\"width:100%;margin:32px 0\"/></a>\\n</div>,\n",
       " <div class=\"w3-container w3-padding-32\">\\n<a class=\"w3-btn w3-light-grey w3-hide-small w3-hide-medium w3-left w3-padding\" href=\"/cert/default.asp\" style=\"font-size:16px;margin-top:-9px\">WEB CERTIFICATES</a>\\n<a class=\"w3-btn w3-light-grey w3-hide-large\" href=\"/cert/default.asp\" style=\"font-size:16px;margin-bottom:16px\">WEB CERTIFICATES</a>\\n<nav class=\"w3-right w3-hide-medium w3-hide-small w3-wide\">\\n<a class=\"w3-hover-text-green\" href=\"/forum/default.asp\" style=\"text-decoration:none\" target=\"_blank\">FORUM</a> |\\r\\n    <a class=\"w3-hover-text-green\" href=\"/about/default.asp\" style=\"text-decoration:none\" target=\"_top\">ABOUT</a>\\n</nav>\\n<nav class=\"w3-center w3-hide-large w3-margin-top w3-wide\">\\n<a class=\"w3-hover-text-green\" href=\"/forum/default.asp\" style=\"text-decoration:none\" target=\"_blank\">FORUM</a> |\\r\\n    <a class=\"w3-hover-text-green\" href=\"/about/default.asp\" style=\"text-decoration:none\" target=\"_top\">ABOUT</a>\\n</nav>\\n</div>,\n",
       " <div class=\"w3-modal\" id=\"fblikeframe\">\\n<div class=\"w3-modal-content w3-padding-64 w3-animate-zoom\" id=\"popupDIV\"></div>\\n</div>,\n",
       " <div class=\"w3-modal-content w3-padding-64 w3-animate-zoom\" id=\"popupDIV\"></div>]"
      ]
     },
     "execution_count": 44,
     "metadata": {},
     "output_type": "execute_result"
    }
   ],
   "source": [
    "soup.findAll('div')"
   ]
  },
  {
   "cell_type": "code",
   "execution_count": 45,
   "metadata": {
    "collapsed": false
   },
   "outputs": [
    {
     "data": {
      "text/plain": [
       "[<p class=\"w3-xlarge w3-text-dark-grey\">The language for building web pages</p>,\n",
       " <p class=\"w3-xlarge\">The language for styling web pages</p>,\n",
       " <p class=\"w3-xlarge\">The language for styling web pages</p>,\n",
       " <p class=\"w3-xlarge w3-text-dark-grey\">The language for programming web pages</p>,\n",
       " <p><a class=\"w3-btn w3-dark-grey w3-padding-large\" href=\"/w3css/w3css_templates.asp\">BROWSE TEMPLATES</a></p>,\n",
       " <p class=\"w3-medium\">\\r\\n W3Schools is optimized for learning, testing, and training. Examples might be simplified to improve reading and basic understanding. Tutorials, references, and examples are constantly reviewed to avoid errors, but we cannot warrant full correctness of\\r\\n all content. While using this site, you agree to have read and accepted our <a class=\"w3-hover-text-green\" href=\"/about/about_copyright.asp\">terms of use</a>, <a class=\"w3-hover-text-green\" href=\"/about/about_privacy.asp\">cookie and privacy policy</a>.<br/>\\n<a class=\"w3-hover-text-green\" href=\"/about/about_copyright.asp\">Copyright 1999-2016</a> by Refsnes Data. All Rights Reserved.<br/><br/></p>]"
      ]
     },
     "execution_count": 45,
     "metadata": {},
     "output_type": "execute_result"
    }
   ],
   "source": [
    "soup.findAll('p')"
   ]
  },
  {
   "cell_type": "code",
   "execution_count": 46,
   "metadata": {
    "collapsed": false
   },
   "outputs": [
    {
     "data": {
      "text/plain": [
       "[<a class=\"w3schools-logo\" href=\"//www.w3schools.com\">w3schools<span class=\"dotcom\">.com</span></a>,\n",
       " <a class=\"w3schools-logo\" href=\"//www.w3schools.com\">w3schools<span class=\"dotcom\">.com</span></a>,\n",
       " <a class=\"w3-hover-white w3-theme w3-padding-16\" href=\"javascript:void(0)\" onclick=\"w3_open()\">\\u2630</a>,\n",
       " <a class=\"w3-hover-white w3-padding-16\" href=\"javascript:void(0)\" id=\"navbtn_tutorials\" onclick=\"w3_open_nav('tutorials')\">TUTORIALS <i class=\"fa fa-caret-down\"></i><i class=\"fa fa-caret-up\" style=\"display:none\"></i></a>,\n",
       " <a class=\"w3-hover-white w3-padding-16\" href=\"javascript:void(0)\" id=\"navbtn_references\" onclick=\"w3_open_nav('references')\">REFERENCES <i class=\"fa fa-caret-down\"></i><i class=\"fa fa-caret-up\" style=\"display:none\"></i></a>,\n",
       " <a class=\"w3-hover-white w3-padding-16\" href=\"javascript:void(0)\" id=\"navbtn_examples\" onclick=\"w3_open_nav('examples')\">EXAMPLES <i class=\"fa fa-caret-down\"></i><i class=\"fa fa-caret-up\" style=\"display:none\"></i></a>,\n",
       " <a class=\"w3-hover-white w3-padding-16 w3-right\" href=\"javascript:void(0)\" onclick=\"open_search(this)\" title=\"Search W3Schools\"><i class=\"fa\">\\ue802</i></a>,\n",
       " <a class=\"w3-hover-white w3-padding-16 w3-right\" href=\"javascript:void(0)\" onclick=\"open_translate(this)\" title=\"Translate W3Schools\"><i class=\"fa\">\\ue801</i></a>,\n",
       " <a href=\"/html/default.asp\">Learn HTML</a>,\n",
       " <a href=\"/css/default.asp\">Learn CSS</a>,\n",
       " <a href=\"/w3css/default.asp\">Learn W3.CSS</a>,\n",
       " <a href=\"/colors/default.asp\">Learn Colors</a>,\n",
       " <a href=\"/bootstrap/default.asp\">Learn Bootstrap</a>,\n",
       " <a href=\"/icons/default.asp\">Learn Icons</a>,\n",
       " <a href=\"/graphics/default.asp\">Learn Graphics</a>,\n",
       " <a href=\"/howto/default.asp\">Learn How To</a>,\n",
       " <a href=\"/js/default.asp\">Learn JavaScript</a>,\n",
       " <a href=\"/jquery/default.asp\">Learn jQuery</a>,\n",
       " <a href=\"/jquerymobile/default.asp\">Learn jQueryMobile</a>,\n",
       " <a href=\"/appml/default.asp\">Learn AppML</a>,\n",
       " <a href=\"/angular/default.asp\">Learn AngularJS</a>,\n",
       " <a href=\"/js/js_json_intro.asp\">Learn JSON</a>,\n",
       " <a href=\"/js/js_ajax_intro.asp\">Learn AJAX</a>,\n",
       " <a href=\"/sql/default.asp\">Learn SQL</a>,\n",
       " <a href=\"/php/default.asp\">Learn PHP</a>,\n",
       " <a href=\"/asp/default.asp\">Learn ASP</a>,\n",
       " <a href=\"/w3css/w3css_templates.asp\">Web Templates</a>,\n",
       " <a href=\"/browsers/default.asp\">Web Statistics</a>,\n",
       " <a href=\"/cert/default.asp\">Web Certificates</a>,\n",
       " <a href=\"/xml/default.asp\">Learn XML</a>,\n",
       " <a href=\"/xml/ajax_intro.asp\">Learn XML AJAX</a>,\n",
       " <a href=\"/xml/dom_intro.asp\">Learn XML DOM</a>,\n",
       " <a href=\"/xml/xml_dtd_intro.asp\">Learn XML DTD</a>,\n",
       " <a href=\"/xml/schema_intro.asp\">Learn XML Schema</a>,\n",
       " <a href=\"/xml/xsl_intro.asp\">Learn XSLT</a>,\n",
       " <a href=\"/xml/xpath_intro.asp\">Learn XPath</a>,\n",
       " <a href=\"/xml/xquery_intro.asp\">Learn XQuery</a>,\n",
       " <a class=\"w3-closebtn w3-xlarge w3-margin-0\" href=\"javascript:void(0)\" onclick=\"w3_close()\">\\xd7</a>,\n",
       " <a class=\"w3-btn-block w3-light-grey w3-large w3-wide w3-hover-none w3-hover-opacity\" href=\"javascript:void(0);\" onclick=\"open_xs_menu('tutorials');\">TUTORIALS <i class=\"fa fa-caret-down\"></i></a>,\n",
       " <a class=\"w3-btn-block w3-light-grey w3-large w3-wide w3-hover-none w3-hover-opacity\" href=\"javascript:void(0);\" onclick=\"open_xs_menu('references')\">REFERENCES <i class=\"fa fa-caret-down\"></i></a>,\n",
       " <a class=\"w3-btn-block w3-light-grey w3-large w3-wide w3-hover-none w3-hover-opacity\" href=\"javascript:void(0);\" onclick=\"open_xs_menu('examples')\">EXAMPLES <i class=\"fa fa-caret-down\"></i></a>,\n",
       " <a href=\"/html/default.asp\">Learn HTML</a>,\n",
       " <a href=\"/css/default.asp\">Learn CSS</a>,\n",
       " <a href=\"/w3css/default.asp\">Learn W3.CSS</a>,\n",
       " <a href=\"/colors/default.asp\">Learn Colors</a>,\n",
       " <a href=\"/bootstrap/default.asp\">Learn Bootstrap</a>,\n",
       " <a href=\"/icons/default.asp\">Learn Icons</a>,\n",
       " <a href=\"/graphics/default.asp\">Learn Graphics</a>,\n",
       " <a href=\"/howto/default.asp\">Learn How To</a>,\n",
       " <a href=\"/js/default.asp\">Learn JavaScript</a>,\n",
       " <a href=\"/jquery/default.asp\">Learn jQuery</a>,\n",
       " <a href=\"/jquerymobile/default.asp\">Learn jQueryMobile</a>,\n",
       " <a href=\"/appml/default.asp\">Learn AppML</a>,\n",
       " <a href=\"/angular/default.asp\">Learn AngularJS</a>,\n",
       " <a href=\"/js/js_json_intro.asp\">Learn JSON</a>,\n",
       " <a href=\"/js/js_ajax_intro.asp\">Learn AJAX</a>,\n",
       " <a href=\"/sql/default.asp\">Learn SQL</a>,\n",
       " <a href=\"/php/default.asp\">Learn PHP</a>,\n",
       " <a href=\"/asp/default.asp\">Learn ASP</a>,\n",
       " <a href=\"/w3css/w3css_templates.asp\">Web Templates</a>,\n",
       " <a href=\"/browsers/default.asp\">Web Statistics</a>,\n",
       " <a href=\"/cert/default.asp\">Web Certificates</a>,\n",
       " <a href=\"/xml/default.asp\">Learn XML</a>,\n",
       " <a href=\"/xml/ajax_intro.asp\">Learn XML AJAX</a>,\n",
       " <a href=\"/xml/dom_intro.asp\">Learn XML DOM</a>,\n",
       " <a href=\"/xml/xml_dtd_intro.asp\">Learn XML DTD</a>,\n",
       " <a href=\"/xml/schema_intro.asp\">Learn XML Schema</a>,\n",
       " <a href=\"/xml/xsl_intro.asp\">Learn XSLT</a>,\n",
       " <a href=\"/xml/xpath_intro.asp\">Learn XPath</a>,\n",
       " <a href=\"/xml/xquery_intro.asp\">Learn XQuery</a>,\n",
       " <a href=\"/tags/default.asp\">HTML Tag Reference</a>,\n",
       " <a href=\"/tags/ref_eventattributes.asp\">HTML Event Reference</a>,\n",
       " <a href=\"/colors/default.asp\">HTML Color Reference</a>,\n",
       " <a href=\"/tags/ref_attributes.asp\">HTML Attribute Reference</a>,\n",
       " <a href=\"/tags/ref_canvas.asp\">HTML Canvas Reference</a>,\n",
       " <a href=\"/graphics/svg_reference.asp\">HTML SVG Reference</a>,\n",
       " <a href=\"/graphics/google_maps_reference.asp\">Google Maps Reference</a>,\n",
       " <a href=\"/cssref/default.asp\">CSS Reference</a>,\n",
       " <a href=\"/cssref/css_selectors.asp\">CSS Selector Reference</a>,\n",
       " <a href=\"/w3css/w3css_references.asp\">W3.CSS Reference</a>,\n",
       " <a href=\"/bootstrap/bootstrap_ref_all_classes.asp\">Bootstrap Reference</a>,\n",
       " <a href=\"/icons/icons_reference.asp\">Icon Reference</a>,\n",
       " <a href=\"/jsref/default.asp\">JavaScript Reference</a>,\n",
       " <a href=\"/jsref/default.asp\">HTML DOM Reference</a>,\n",
       " <a href=\"/jquery/jquery_ref_selectors.asp\">jQuery Reference</a>,\n",
       " <a href=\"/jquerymobile/jquerymobile_ref_data.asp\">jQuery Mobile Reference</a>,\n",
       " <a href=\"/angular/angular_ref_directives.asp\">AngularJS Reference</a>,\n",
       " <a href=\"/xml/dom_nodetype.asp\">XML DOM Reference</a>,\n",
       " <a href=\"/xml/dom_http.asp\">XML Http Reference</a>,\n",
       " <a href=\"/xml/xsl_elementref.asp\">XSLT Reference</a>,\n",
       " <a href=\"/xml/schema_elements_ref.asp\">XML Schema Reference</a>,\n",
       " <a href=\"/charsets/default.asp\">HTML Character Sets</a>,\n",
       " <a href=\"/charsets/ref_html_ascii.asp\">HTML ASCII</a>,\n",
       " <a href=\"/charsets/ref_html_ansi.asp\">HTML ANSI</a>,\n",
       " <a href=\"/charsets/ref_html_ansi.asp\">HTML Windows-1252</a>,\n",
       " <a href=\"/charsets/ref_html_8859.asp\">HTML ISO-8859-1</a>,\n",
       " <a href=\"/charsets/ref_html_symbols.asp\">HTML Symbols</a>,\n",
       " <a href=\"/charsets/ref_html_utf8.asp\">HTML UTF-8</a>,\n",
       " <a href=\"/php/php_ref_array.asp\">PHP Reference</a>,\n",
       " <a href=\"/sql/sql_quickref.asp\">SQL Reference</a>,\n",
       " <a href=\"/asp/asp_ref_response.asp\">ASP Reference</a>,\n",
       " <a href=\"/html/html_examples.asp\">HTML Examples</a>,\n",
       " <a href=\"/css/css_examples.asp\">CSS Examples</a>,\n",
       " <a href=\"/w3css/w3css_examples.asp\">W3.CSS Examples</a>,\n",
       " <a href=\"/bootstrap/bootstrap_examples.asp\">Bootstrap Examples</a>,\n",
       " <a href=\"/js/js_examples.asp\" target=\"_top\">JavaScript Examples</a>,\n",
       " <a href=\"/js/js_dom_examples.asp\" target=\"_top\">HTML DOM Examples</a>,\n",
       " <a href=\"/jquery/jquery_examples.asp\" target=\"_top\">jQuery Examples</a>,\n",
       " <a href=\"/jquerymobile/jquerymobile_examples.asp\" target=\"_top\">jQuery Mobile Examples</a>,\n",
       " <a href=\"/angular/angular_examples.asp\" target=\"_top\">AngularJS Examples</a>,\n",
       " <a href=\"/js/js_ajax_examples.asp\" target=\"_top\">AJAX Examples</a>,\n",
       " <a href=\"/xml/xml_examples.asp\" target=\"_top\">XML Examples</a>,\n",
       " <a href=\"/xml/xsl_examples.asp\" target=\"_top\">XSLT Examples</a>,\n",
       " <a href=\"/xml/xpath_examples.asp\" target=\"_top\">XPath Examples</a>,\n",
       " <a href=\"/xml/schema_example.asp\" target=\"_top\">XML Schema Examples</a>,\n",
       " <a href=\"/xml/ajax_examples.asp\" target=\"_top\">AJAX Examples</a>,\n",
       " <a href=\"/graphics/svg_examples.asp\" target=\"_top\">SVG Examples</a>,\n",
       " <a href=\"/php/php_examples.asp\" target=\"_top\">PHP Examples</a>,\n",
       " <a href=\"/asp/asp_examples.asp\" target=\"_top\">ASP Examples</a>,\n",
       " <a href=\"/quiztest/quiztest.asp?Qtest=HTML\" target=\"_top\">HTML Quiz</a>,\n",
       " <a href=\"/quiztest/quiztest.asp?Qtest=CSS\" target=\"_top\">CSS Quiz</a>,\n",
       " <a href=\"/quiztest/quiztest.asp?Qtest=JavaScript\" target=\"_top\">JavaScript Quiz</a>,\n",
       " <a href=\"/quiztest/quiztest.asp?Qtest=Bootstrap\" target=\"_top\">Bootstrap Quiz</a>,\n",
       " <a href=\"/quiztest/quiztest.asp?Qtest=jQuery\" target=\"_top\">jQuery Quiz</a>,\n",
       " <a href=\"/quiztest/quiztest.asp?Qtest=PHP\" target=\"_top\">PHP Quiz</a>,\n",
       " <a href=\"/quiztest/quiztest.asp?Qtest=SQL\" target=\"_top\">SQL Quiz</a>,\n",
       " <a href=\"/quiztest/quiztest.asp?Qtest=XML\" target=\"_top\">XML Quiz</a>,\n",
       " <a class=\"w3-btn w3-dark-grey w3-padding\" href=\"/html/default.asp\">LEARN HTML</a>,\n",
       " <a class=\"w3-btn w3-dark-grey w3-padding\" href=\"/tags/default.asp\">HTML REFERENCE</a>,\n",
       " <a class=\"w3-btn w3-theme w3-margin-0\" href=\"/html/tryit.asp?filename=tryhtml_default\" target=\"_blank\">Try it Yourself \\xbb</a>,\n",
       " <a class=\"w3-btn w3-theme w3-margin-0\" href=\"/css/tryit.asp?filename=trycss_default\" target=\"_blank\">Try it Yourself \\xbb</a>,\n",
       " <a class=\"w3-btn w3-dark-grey w3-padding\" href=\"/css/default.asp\">LEARN CSS</a>,\n",
       " <a class=\"w3-btn w3-dark-grey w3-padding\" href=\"/cssref/default.asp\">CSS REFERENCE</a>,\n",
       " <a class=\"w3-btn w3-dark-grey w3-padding\" href=\"/css/default.asp\">LEARN CSS</a>,\n",
       " <a class=\"w3-btn w3-dark-grey w3-padding\" href=\"/cssref/default.asp\">CSS REFERENCE</a>,\n",
       " <a class=\"w3-btn w3-theme w3-margin-0\" href=\"/css/tryit.asp?filename=trycss_default\" target=\"_blank\">Try it Yourself \\xbb</a>,\n",
       " <a class=\"w3-btn w3-dark-grey w3-padding\" href=\"/js/default.asp\">LEARN JAVASCRIPT</a>,\n",
       " <a class=\"w3-btn w3-dark-grey w3-padding\" href=\"/jsref/default.asp\">JAVASCRIPT REFERENCE</a>,\n",
       " <a class=\"w3-btn w3-theme w3-margin-0\" href=\"/js/tryit.asp?filename=tryjs_default\" target=\"_blank\">Try it Yourself \\xbb</a>,\n",
       " <a class=\"w3-btn w3-dark-grey w3-padding\" href=\"/sql/default.asp\">LEARN SQL</a>,\n",
       " <a class=\"w3-btn w3-dark-grey w3-padding\" href=\"/php/default.asp\">LEARN PHP</a>,\n",
       " <a class=\"w3-btn w3-dark-grey w3-padding\" href=\"/jquery/default.asp\">LEARN JQUERY</a>,\n",
       " <a class=\"w3-btn w3-dark-grey w3-padding\" href=\"/w3css/default.asp\">LEARN W3.CSS</a>,\n",
       " <a class=\"w3-hover-opacity\" href=\"/colors/colors_picker.asp\"><img alt=\"Colorpicker\" src=\"/images/colorpicker.png\" style=\"width:150px;height:128px;margin-top:16px;\"/></a>,\n",
       " <a class=\"w3-btn w3-dark-grey w3-padding\" href=\"/bootstrap/default.asp\">LEARN BOOTSTRAP</a>,\n",
       " <a href=\"/w3css/w3css_templates.asp\"><img alt=\"W3.CSS Templates\" src=\"w3css_templates.jpg\" style=\"width:100%;margin:32px 0\"/></a>,\n",
       " <a class=\"w3-btn w3-dark-grey w3-padding-large\" href=\"/w3css/w3css_templates.asp\">BROWSE TEMPLATES</a>,\n",
       " <a class=\"w3-btn w3-light-grey w3-hide-small w3-hide-medium w3-left w3-padding\" href=\"/cert/default.asp\" style=\"font-size:16px;margin-top:-9px\">WEB CERTIFICATES</a>,\n",
       " <a class=\"w3-btn w3-light-grey w3-hide-large\" href=\"/cert/default.asp\" style=\"font-size:16px;margin-bottom:16px\">WEB CERTIFICATES</a>,\n",
       " <a class=\"w3-hover-text-green\" href=\"/forum/default.asp\" style=\"text-decoration:none\" target=\"_blank\">FORUM</a>,\n",
       " <a class=\"w3-hover-text-green\" href=\"/about/default.asp\" style=\"text-decoration:none\" target=\"_top\">ABOUT</a>,\n",
       " <a class=\"w3-hover-text-green\" href=\"/forum/default.asp\" style=\"text-decoration:none\" target=\"_blank\">FORUM</a>,\n",
       " <a class=\"w3-hover-text-green\" href=\"/about/default.asp\" style=\"text-decoration:none\" target=\"_top\">ABOUT</a>,\n",
       " <a class=\"w3-hover-text-green\" href=\"/about/about_copyright.asp\">terms of use</a>,\n",
       " <a class=\"w3-hover-text-green\" href=\"/about/about_privacy.asp\">cookie and privacy policy</a>,\n",
       " <a class=\"w3-hover-text-green\" href=\"/about/about_copyright.asp\">Copyright 1999-2016</a>,\n",
       " <a class=\"w3-hover-text-light-grey\" href=\"javascript:void(0);\" onclick=\"clickFBLike()\" title=\"Like W3Schools on Facebook\">\\n<i class=\"fa fa-thumbs-o-up w3-xxlarge\"></i></a>]"
      ]
     },
     "execution_count": 46,
     "metadata": {},
     "output_type": "execute_result"
    }
   ],
   "source": [
    "soup.findAll('a')"
   ]
  },
  {
   "cell_type": "code",
   "execution_count": 47,
   "metadata": {
    "collapsed": false
   },
   "outputs": [
    {
     "data": {
      "text/plain": [
       "[<img alt=\"Colorpicker\" src=\"/images/colorpicker.png\" style=\"width:150px;height:128px;margin-top:16px;\"/>,\n",
       " <img alt=\"W3.CSS Templates\" src=\"w3css_templates.jpg\" style=\"width:100%;margin:32px 0\"/>]"
      ]
     },
     "execution_count": 47,
     "metadata": {},
     "output_type": "execute_result"
    }
   ],
   "source": [
    "soup.findAll('img')"
   ]
  },
  {
   "cell_type": "code",
   "execution_count": 48,
   "metadata": {
    "collapsed": true
   },
   "outputs": [],
   "source": [
    "import pandas as pd"
   ]
  },
  {
   "cell_type": "code",
   "execution_count": 49,
   "metadata": {
    "collapsed": true
   },
   "outputs": [],
   "source": [
    "pd.read_excel?"
   ]
  },
  {
   "cell_type": "code",
   "execution_count": 50,
   "metadata": {
    "collapsed": true
   },
   "outputs": [],
   "source": [
    "data = pd.read_excel('stock.xlsx')"
   ]
  },
  {
   "cell_type": "code",
   "execution_count": 51,
   "metadata": {
    "collapsed": false
   },
   "outputs": [
    {
     "data": {
      "text/html": [
       "<div>\n",
       "<table border=\"1\" class=\"dataframe\">\n",
       "  <thead>\n",
       "    <tr style=\"text-align: right;\">\n",
       "      <th></th>\n",
       "      <th>HOURLY</th>\n",
       "      <th>Date Strt RowNo</th>\n",
       "      <th>Dt End RowNo</th>\n",
       "      <th>Avg. Price</th>\n",
       "      <th>Avg. Volume</th>\n",
       "    </tr>\n",
       "  </thead>\n",
       "  <tbody>\n",
       "    <tr>\n",
       "      <th>0</th>\n",
       "      <td>0-1 AM</td>\n",
       "      <td>9</td>\n",
       "      <td>20</td>\n",
       "      <td>0.000002</td>\n",
       "      <td>0.000000</td>\n",
       "    </tr>\n",
       "    <tr>\n",
       "      <th>1</th>\n",
       "      <td>1-2 AM</td>\n",
       "      <td>21</td>\n",
       "      <td>32</td>\n",
       "      <td>0.000002</td>\n",
       "      <td>0.003142</td>\n",
       "    </tr>\n",
       "    <tr>\n",
       "      <th>2</th>\n",
       "      <td>2-3 AM</td>\n",
       "      <td>33</td>\n",
       "      <td>44</td>\n",
       "      <td>0.000002</td>\n",
       "      <td>0.000505</td>\n",
       "    </tr>\n",
       "    <tr>\n",
       "      <th>3</th>\n",
       "      <td>3-4 AM</td>\n",
       "      <td>45</td>\n",
       "      <td>56</td>\n",
       "      <td>0.000002</td>\n",
       "      <td>0.000917</td>\n",
       "    </tr>\n",
       "    <tr>\n",
       "      <th>4</th>\n",
       "      <td>4-5 AM</td>\n",
       "      <td>57</td>\n",
       "      <td>68</td>\n",
       "      <td>0.000002</td>\n",
       "      <td>0.000126</td>\n",
       "    </tr>\n",
       "    <tr>\n",
       "      <th>5</th>\n",
       "      <td>5-6 AM</td>\n",
       "      <td>69</td>\n",
       "      <td>80</td>\n",
       "      <td>0.000002</td>\n",
       "      <td>0.000000</td>\n",
       "    </tr>\n",
       "    <tr>\n",
       "      <th>6</th>\n",
       "      <td>6-7 AM</td>\n",
       "      <td>81</td>\n",
       "      <td>92</td>\n",
       "      <td>0.000002</td>\n",
       "      <td>0.003439</td>\n",
       "    </tr>\n",
       "    <tr>\n",
       "      <th>7</th>\n",
       "      <td>7-8 AM</td>\n",
       "      <td>93</td>\n",
       "      <td>104</td>\n",
       "      <td>0.000003</td>\n",
       "      <td>0.000555</td>\n",
       "    </tr>\n",
       "    <tr>\n",
       "      <th>8</th>\n",
       "      <td>8-9 AM</td>\n",
       "      <td>105</td>\n",
       "      <td>116</td>\n",
       "      <td>0.000007</td>\n",
       "      <td>0.010247</td>\n",
       "    </tr>\n",
       "    <tr>\n",
       "      <th>9</th>\n",
       "      <td>9-10 AM</td>\n",
       "      <td>117</td>\n",
       "      <td>128</td>\n",
       "      <td>0.000043</td>\n",
       "      <td>0.005902</td>\n",
       "    </tr>\n",
       "    <tr>\n",
       "      <th>10</th>\n",
       "      <td>10-11 AM</td>\n",
       "      <td>129</td>\n",
       "      <td>140</td>\n",
       "      <td>0.000002</td>\n",
       "      <td>0.017822</td>\n",
       "    </tr>\n",
       "    <tr>\n",
       "      <th>11</th>\n",
       "      <td>11-12 AM</td>\n",
       "      <td>141</td>\n",
       "      <td>152</td>\n",
       "      <td>0.000002</td>\n",
       "      <td>0.000321</td>\n",
       "    </tr>\n",
       "    <tr>\n",
       "      <th>12</th>\n",
       "      <td>12-1 PM</td>\n",
       "      <td>153</td>\n",
       "      <td>164</td>\n",
       "      <td>0.000002</td>\n",
       "      <td>0.001576</td>\n",
       "    </tr>\n",
       "    <tr>\n",
       "      <th>13</th>\n",
       "      <td>1-2 PM</td>\n",
       "      <td>165</td>\n",
       "      <td>176</td>\n",
       "      <td>0.000002</td>\n",
       "      <td>0.008665</td>\n",
       "    </tr>\n",
       "    <tr>\n",
       "      <th>14</th>\n",
       "      <td>2-3 PM</td>\n",
       "      <td>177</td>\n",
       "      <td>188</td>\n",
       "      <td>0.000002</td>\n",
       "      <td>0.003815</td>\n",
       "    </tr>\n",
       "    <tr>\n",
       "      <th>15</th>\n",
       "      <td>3-4 PM</td>\n",
       "      <td>189</td>\n",
       "      <td>200</td>\n",
       "      <td>0.000002</td>\n",
       "      <td>0.000000</td>\n",
       "    </tr>\n",
       "    <tr>\n",
       "      <th>16</th>\n",
       "      <td>4-5 PM</td>\n",
       "      <td>201</td>\n",
       "      <td>212</td>\n",
       "      <td>0.000002</td>\n",
       "      <td>0.001091</td>\n",
       "    </tr>\n",
       "    <tr>\n",
       "      <th>17</th>\n",
       "      <td>5-6 PM</td>\n",
       "      <td>213</td>\n",
       "      <td>224</td>\n",
       "      <td>0.000002</td>\n",
       "      <td>0.016232</td>\n",
       "    </tr>\n",
       "    <tr>\n",
       "      <th>18</th>\n",
       "      <td>6-7 PM</td>\n",
       "      <td>225</td>\n",
       "      <td>236</td>\n",
       "      <td>0.000002</td>\n",
       "      <td>0.000000</td>\n",
       "    </tr>\n",
       "    <tr>\n",
       "      <th>19</th>\n",
       "      <td>7-8 PM</td>\n",
       "      <td>237</td>\n",
       "      <td>248</td>\n",
       "      <td>0.000002</td>\n",
       "      <td>0.003348</td>\n",
       "    </tr>\n",
       "    <tr>\n",
       "      <th>20</th>\n",
       "      <td>8-9 PM</td>\n",
       "      <td>249</td>\n",
       "      <td>260</td>\n",
       "      <td>0.000002</td>\n",
       "      <td>0.000000</td>\n",
       "    </tr>\n",
       "    <tr>\n",
       "      <th>21</th>\n",
       "      <td>9-10 PM</td>\n",
       "      <td>261</td>\n",
       "      <td>272</td>\n",
       "      <td>0.000002</td>\n",
       "      <td>0.000364</td>\n",
       "    </tr>\n",
       "    <tr>\n",
       "      <th>22</th>\n",
       "      <td>10-11 PM</td>\n",
       "      <td>273</td>\n",
       "      <td>284</td>\n",
       "      <td>0.000002</td>\n",
       "      <td>0.000000</td>\n",
       "    </tr>\n",
       "    <tr>\n",
       "      <th>23</th>\n",
       "      <td>11-12 AM</td>\n",
       "      <td>285</td>\n",
       "      <td>296</td>\n",
       "      <td>0.000002</td>\n",
       "      <td>0.003644</td>\n",
       "    </tr>\n",
       "    <tr>\n",
       "      <th>24</th>\n",
       "      <td>0-1 AM</td>\n",
       "      <td>297</td>\n",
       "      <td>308</td>\n",
       "      <td>0.000002</td>\n",
       "      <td>0.000000</td>\n",
       "    </tr>\n",
       "    <tr>\n",
       "      <th>25</th>\n",
       "      <td>1-2 AM</td>\n",
       "      <td>309</td>\n",
       "      <td>320</td>\n",
       "      <td>0.000002</td>\n",
       "      <td>0.000210</td>\n",
       "    </tr>\n",
       "    <tr>\n",
       "      <th>26</th>\n",
       "      <td>2-3 AM</td>\n",
       "      <td>321</td>\n",
       "      <td>332</td>\n",
       "      <td>0.000002</td>\n",
       "      <td>0.000000</td>\n",
       "    </tr>\n",
       "    <tr>\n",
       "      <th>27</th>\n",
       "      <td>3-4 AM</td>\n",
       "      <td>333</td>\n",
       "      <td>344</td>\n",
       "      <td>0.000002</td>\n",
       "      <td>0.001452</td>\n",
       "    </tr>\n",
       "    <tr>\n",
       "      <th>28</th>\n",
       "      <td>4-5 AM</td>\n",
       "      <td>345</td>\n",
       "      <td>356</td>\n",
       "      <td>0.000002</td>\n",
       "      <td>0.001420</td>\n",
       "    </tr>\n",
       "    <tr>\n",
       "      <th>29</th>\n",
       "      <td>5-6 AM</td>\n",
       "      <td>357</td>\n",
       "      <td>368</td>\n",
       "      <td>0.000002</td>\n",
       "      <td>0.003276</td>\n",
       "    </tr>\n",
       "    <tr>\n",
       "      <th>...</th>\n",
       "      <td>...</td>\n",
       "      <td>...</td>\n",
       "      <td>...</td>\n",
       "      <td>...</td>\n",
       "      <td>...</td>\n",
       "    </tr>\n",
       "    <tr>\n",
       "      <th>483</th>\n",
       "      <td>3-4 AM</td>\n",
       "      <td>5805</td>\n",
       "      <td>5816</td>\n",
       "      <td>0.000001</td>\n",
       "      <td>0.000000</td>\n",
       "    </tr>\n",
       "    <tr>\n",
       "      <th>484</th>\n",
       "      <td>4-5 AM</td>\n",
       "      <td>5817</td>\n",
       "      <td>5828</td>\n",
       "      <td>0.000001</td>\n",
       "      <td>0.000000</td>\n",
       "    </tr>\n",
       "    <tr>\n",
       "      <th>485</th>\n",
       "      <td>5-6 AM</td>\n",
       "      <td>5829</td>\n",
       "      <td>5840</td>\n",
       "      <td>0.000001</td>\n",
       "      <td>0.000000</td>\n",
       "    </tr>\n",
       "    <tr>\n",
       "      <th>486</th>\n",
       "      <td>6-7 AM</td>\n",
       "      <td>5841</td>\n",
       "      <td>5852</td>\n",
       "      <td>0.000001</td>\n",
       "      <td>0.000000</td>\n",
       "    </tr>\n",
       "    <tr>\n",
       "      <th>487</th>\n",
       "      <td>7-8 AM</td>\n",
       "      <td>5853</td>\n",
       "      <td>5864</td>\n",
       "      <td>0.000001</td>\n",
       "      <td>0.000000</td>\n",
       "    </tr>\n",
       "    <tr>\n",
       "      <th>488</th>\n",
       "      <td>8-9 AM</td>\n",
       "      <td>5865</td>\n",
       "      <td>5876</td>\n",
       "      <td>0.000001</td>\n",
       "      <td>0.000000</td>\n",
       "    </tr>\n",
       "    <tr>\n",
       "      <th>489</th>\n",
       "      <td>9-10 AM</td>\n",
       "      <td>5877</td>\n",
       "      <td>5888</td>\n",
       "      <td>0.000001</td>\n",
       "      <td>0.000000</td>\n",
       "    </tr>\n",
       "    <tr>\n",
       "      <th>490</th>\n",
       "      <td>10-11 AM</td>\n",
       "      <td>5889</td>\n",
       "      <td>5900</td>\n",
       "      <td>0.000001</td>\n",
       "      <td>0.000000</td>\n",
       "    </tr>\n",
       "    <tr>\n",
       "      <th>491</th>\n",
       "      <td>11-12 AM</td>\n",
       "      <td>5901</td>\n",
       "      <td>5912</td>\n",
       "      <td>0.000001</td>\n",
       "      <td>0.001025</td>\n",
       "    </tr>\n",
       "    <tr>\n",
       "      <th>492</th>\n",
       "      <td>12-1 PM</td>\n",
       "      <td>5913</td>\n",
       "      <td>5924</td>\n",
       "      <td>0.000001</td>\n",
       "      <td>0.000000</td>\n",
       "    </tr>\n",
       "    <tr>\n",
       "      <th>493</th>\n",
       "      <td>1-2 PM</td>\n",
       "      <td>5925</td>\n",
       "      <td>5936</td>\n",
       "      <td>0.000001</td>\n",
       "      <td>0.000000</td>\n",
       "    </tr>\n",
       "    <tr>\n",
       "      <th>494</th>\n",
       "      <td>2-3 PM</td>\n",
       "      <td>5937</td>\n",
       "      <td>5948</td>\n",
       "      <td>0.000001</td>\n",
       "      <td>0.000000</td>\n",
       "    </tr>\n",
       "    <tr>\n",
       "      <th>495</th>\n",
       "      <td>3-4 PM</td>\n",
       "      <td>5949</td>\n",
       "      <td>5960</td>\n",
       "      <td>0.000001</td>\n",
       "      <td>0.000000</td>\n",
       "    </tr>\n",
       "    <tr>\n",
       "      <th>496</th>\n",
       "      <td>4-5 PM</td>\n",
       "      <td>5961</td>\n",
       "      <td>5972</td>\n",
       "      <td>0.000001</td>\n",
       "      <td>0.000000</td>\n",
       "    </tr>\n",
       "    <tr>\n",
       "      <th>497</th>\n",
       "      <td>5-6 PM</td>\n",
       "      <td>5973</td>\n",
       "      <td>5984</td>\n",
       "      <td>0.000001</td>\n",
       "      <td>0.000000</td>\n",
       "    </tr>\n",
       "    <tr>\n",
       "      <th>498</th>\n",
       "      <td>6-7 PM</td>\n",
       "      <td>5985</td>\n",
       "      <td>5996</td>\n",
       "      <td>0.000001</td>\n",
       "      <td>0.000011</td>\n",
       "    </tr>\n",
       "    <tr>\n",
       "      <th>499</th>\n",
       "      <td>7-8 PM</td>\n",
       "      <td>5997</td>\n",
       "      <td>6008</td>\n",
       "      <td>0.000001</td>\n",
       "      <td>0.006168</td>\n",
       "    </tr>\n",
       "    <tr>\n",
       "      <th>500</th>\n",
       "      <td>8-9 PM</td>\n",
       "      <td>6009</td>\n",
       "      <td>6020</td>\n",
       "      <td>0.000001</td>\n",
       "      <td>0.002132</td>\n",
       "    </tr>\n",
       "    <tr>\n",
       "      <th>501</th>\n",
       "      <td>9-10 PM</td>\n",
       "      <td>6021</td>\n",
       "      <td>6032</td>\n",
       "      <td>0.000001</td>\n",
       "      <td>0.001065</td>\n",
       "    </tr>\n",
       "    <tr>\n",
       "      <th>502</th>\n",
       "      <td>10-11 PM</td>\n",
       "      <td>6033</td>\n",
       "      <td>6044</td>\n",
       "      <td>0.000001</td>\n",
       "      <td>0.001382</td>\n",
       "    </tr>\n",
       "    <tr>\n",
       "      <th>503</th>\n",
       "      <td>11-12 AM</td>\n",
       "      <td>6045</td>\n",
       "      <td>6056</td>\n",
       "      <td>0.000001</td>\n",
       "      <td>0.002635</td>\n",
       "    </tr>\n",
       "    <tr>\n",
       "      <th>504</th>\n",
       "      <td>0-1 AM</td>\n",
       "      <td>6057</td>\n",
       "      <td>6068</td>\n",
       "      <td>0.000001</td>\n",
       "      <td>0.000000</td>\n",
       "    </tr>\n",
       "    <tr>\n",
       "      <th>505</th>\n",
       "      <td>1-2 AM</td>\n",
       "      <td>6069</td>\n",
       "      <td>6080</td>\n",
       "      <td>0.000001</td>\n",
       "      <td>0.002347</td>\n",
       "    </tr>\n",
       "    <tr>\n",
       "      <th>506</th>\n",
       "      <td>2-3 AM</td>\n",
       "      <td>6081</td>\n",
       "      <td>6092</td>\n",
       "      <td>0.000001</td>\n",
       "      <td>0.001736</td>\n",
       "    </tr>\n",
       "    <tr>\n",
       "      <th>507</th>\n",
       "      <td>3-4 AM</td>\n",
       "      <td>6093</td>\n",
       "      <td>6104</td>\n",
       "      <td>0.000001</td>\n",
       "      <td>0.001496</td>\n",
       "    </tr>\n",
       "    <tr>\n",
       "      <th>508</th>\n",
       "      <td>4-5 AM</td>\n",
       "      <td>6105</td>\n",
       "      <td>6116</td>\n",
       "      <td>0.000001</td>\n",
       "      <td>0.000000</td>\n",
       "    </tr>\n",
       "    <tr>\n",
       "      <th>509</th>\n",
       "      <td>5-6 AM</td>\n",
       "      <td>6117</td>\n",
       "      <td>6128</td>\n",
       "      <td>0.000001</td>\n",
       "      <td>0.000000</td>\n",
       "    </tr>\n",
       "    <tr>\n",
       "      <th>510</th>\n",
       "      <td>6-7 AM</td>\n",
       "      <td>6129</td>\n",
       "      <td>6140</td>\n",
       "      <td>0.000001</td>\n",
       "      <td>0.001701</td>\n",
       "    </tr>\n",
       "    <tr>\n",
       "      <th>511</th>\n",
       "      <td>7-8 AM</td>\n",
       "      <td>6141</td>\n",
       "      <td>6152</td>\n",
       "      <td>0.000001</td>\n",
       "      <td>0.000000</td>\n",
       "    </tr>\n",
       "    <tr>\n",
       "      <th>512</th>\n",
       "      <td>8-9 AM</td>\n",
       "      <td>6153</td>\n",
       "      <td>6164</td>\n",
       "      <td>0.000001</td>\n",
       "      <td>0.000170</td>\n",
       "    </tr>\n",
       "  </tbody>\n",
       "</table>\n",
       "<p>513 rows × 5 columns</p>\n",
       "</div>"
      ],
      "text/plain": [
       "       HOURLY  Date Strt RowNo  Dt End RowNo  Avg. Price  Avg. Volume\n",
       "0      0-1 AM                9            20    0.000002     0.000000\n",
       "1      1-2 AM               21            32    0.000002     0.003142\n",
       "2      2-3 AM               33            44    0.000002     0.000505\n",
       "3      3-4 AM               45            56    0.000002     0.000917\n",
       "4      4-5 AM               57            68    0.000002     0.000126\n",
       "5      5-6 AM               69            80    0.000002     0.000000\n",
       "6      6-7 AM               81            92    0.000002     0.003439\n",
       "7      7-8 AM               93           104    0.000003     0.000555\n",
       "8      8-9 AM              105           116    0.000007     0.010247\n",
       "9     9-10 AM              117           128    0.000043     0.005902\n",
       "10   10-11 AM              129           140    0.000002     0.017822\n",
       "11   11-12 AM              141           152    0.000002     0.000321\n",
       "12    12-1 PM              153           164    0.000002     0.001576\n",
       "13     1-2 PM              165           176    0.000002     0.008665\n",
       "14     2-3 PM              177           188    0.000002     0.003815\n",
       "15     3-4 PM              189           200    0.000002     0.000000\n",
       "16     4-5 PM              201           212    0.000002     0.001091\n",
       "17     5-6 PM              213           224    0.000002     0.016232\n",
       "18     6-7 PM              225           236    0.000002     0.000000\n",
       "19     7-8 PM              237           248    0.000002     0.003348\n",
       "20     8-9 PM              249           260    0.000002     0.000000\n",
       "21    9-10 PM              261           272    0.000002     0.000364\n",
       "22   10-11 PM              273           284    0.000002     0.000000\n",
       "23   11-12 AM              285           296    0.000002     0.003644\n",
       "24     0-1 AM              297           308    0.000002     0.000000\n",
       "25     1-2 AM              309           320    0.000002     0.000210\n",
       "26     2-3 AM              321           332    0.000002     0.000000\n",
       "27     3-4 AM              333           344    0.000002     0.001452\n",
       "28     4-5 AM              345           356    0.000002     0.001420\n",
       "29     5-6 AM              357           368    0.000002     0.003276\n",
       "..        ...              ...           ...         ...          ...\n",
       "483    3-4 AM             5805          5816    0.000001     0.000000\n",
       "484    4-5 AM             5817          5828    0.000001     0.000000\n",
       "485    5-6 AM             5829          5840    0.000001     0.000000\n",
       "486    6-7 AM             5841          5852    0.000001     0.000000\n",
       "487    7-8 AM             5853          5864    0.000001     0.000000\n",
       "488    8-9 AM             5865          5876    0.000001     0.000000\n",
       "489   9-10 AM             5877          5888    0.000001     0.000000\n",
       "490  10-11 AM             5889          5900    0.000001     0.000000\n",
       "491  11-12 AM             5901          5912    0.000001     0.001025\n",
       "492   12-1 PM             5913          5924    0.000001     0.000000\n",
       "493    1-2 PM             5925          5936    0.000001     0.000000\n",
       "494    2-3 PM             5937          5948    0.000001     0.000000\n",
       "495    3-4 PM             5949          5960    0.000001     0.000000\n",
       "496    4-5 PM             5961          5972    0.000001     0.000000\n",
       "497    5-6 PM             5973          5984    0.000001     0.000000\n",
       "498    6-7 PM             5985          5996    0.000001     0.000011\n",
       "499    7-8 PM             5997          6008    0.000001     0.006168\n",
       "500    8-9 PM             6009          6020    0.000001     0.002132\n",
       "501   9-10 PM             6021          6032    0.000001     0.001065\n",
       "502  10-11 PM             6033          6044    0.000001     0.001382\n",
       "503  11-12 AM             6045          6056    0.000001     0.002635\n",
       "504    0-1 AM             6057          6068    0.000001     0.000000\n",
       "505    1-2 AM             6069          6080    0.000001     0.002347\n",
       "506    2-3 AM             6081          6092    0.000001     0.001736\n",
       "507    3-4 AM             6093          6104    0.000001     0.001496\n",
       "508    4-5 AM             6105          6116    0.000001     0.000000\n",
       "509    5-6 AM             6117          6128    0.000001     0.000000\n",
       "510    6-7 AM             6129          6140    0.000001     0.001701\n",
       "511    7-8 AM             6141          6152    0.000001     0.000000\n",
       "512    8-9 AM             6153          6164    0.000001     0.000170\n",
       "\n",
       "[513 rows x 5 columns]"
      ]
     },
     "execution_count": 51,
     "metadata": {},
     "output_type": "execute_result"
    }
   ],
   "source": [
    "data"
   ]
  },
  {
   "cell_type": "code",
   "execution_count": 52,
   "metadata": {
    "collapsed": false
   },
   "outputs": [
    {
     "data": {
      "text/plain": [
       "pandas.core.frame.DataFrame"
      ]
     },
     "execution_count": 52,
     "metadata": {},
     "output_type": "execute_result"
    }
   ],
   "source": [
    "type(data)"
   ]
  },
  {
   "cell_type": "code",
   "execution_count": 53,
   "metadata": {
    "collapsed": false
   },
   "outputs": [
    {
     "data": {
      "text/plain": [
       "Index([u'HOURLY', u'Date Strt RowNo', u'Dt End RowNo', u'Avg. Price',\n",
       "       u'Avg. Volume'],\n",
       "      dtype='object')"
      ]
     },
     "execution_count": 53,
     "metadata": {},
     "output_type": "execute_result"
    }
   ],
   "source": [
    "data.columns"
   ]
  },
  {
   "cell_type": "code",
   "execution_count": 54,
   "metadata": {
    "collapsed": false
   },
   "outputs": [
    {
     "data": {
      "text/plain": [
       "0      0.000002\n",
       "1      0.000002\n",
       "2      0.000002\n",
       "3      0.000002\n",
       "4      0.000002\n",
       "5      0.000002\n",
       "6      0.000002\n",
       "7      0.000003\n",
       "8      0.000007\n",
       "9      0.000043\n",
       "10     0.000002\n",
       "11     0.000002\n",
       "12     0.000002\n",
       "13     0.000002\n",
       "14     0.000002\n",
       "15     0.000002\n",
       "16     0.000002\n",
       "17     0.000002\n",
       "18     0.000002\n",
       "19     0.000002\n",
       "20     0.000002\n",
       "21     0.000002\n",
       "22     0.000002\n",
       "23     0.000002\n",
       "24     0.000002\n",
       "25     0.000002\n",
       "26     0.000002\n",
       "27     0.000002\n",
       "28     0.000002\n",
       "29     0.000002\n",
       "         ...   \n",
       "483    0.000001\n",
       "484    0.000001\n",
       "485    0.000001\n",
       "486    0.000001\n",
       "487    0.000001\n",
       "488    0.000001\n",
       "489    0.000001\n",
       "490    0.000001\n",
       "491    0.000001\n",
       "492    0.000001\n",
       "493    0.000001\n",
       "494    0.000001\n",
       "495    0.000001\n",
       "496    0.000001\n",
       "497    0.000001\n",
       "498    0.000001\n",
       "499    0.000001\n",
       "500    0.000001\n",
       "501    0.000001\n",
       "502    0.000001\n",
       "503    0.000001\n",
       "504    0.000001\n",
       "505    0.000001\n",
       "506    0.000001\n",
       "507    0.000001\n",
       "508    0.000001\n",
       "509    0.000001\n",
       "510    0.000001\n",
       "511    0.000001\n",
       "512    0.000001\n",
       "Name: Avg. Price, dtype: float64"
      ]
     },
     "execution_count": 54,
     "metadata": {},
     "output_type": "execute_result"
    }
   ],
   "source": [
    "data['Avg. Price']"
   ]
  },
  {
   "cell_type": "code",
   "execution_count": 55,
   "metadata": {
    "collapsed": false
   },
   "outputs": [
    {
     "data": {
      "text/plain": [
       "4.3016666666666698e-05"
      ]
     },
     "execution_count": 55,
     "metadata": {},
     "output_type": "execute_result"
    }
   ],
   "source": [
    "data['Avg. Price'].max()"
   ]
  },
  {
   "cell_type": "code",
   "execution_count": 56,
   "metadata": {
    "collapsed": false
   },
   "outputs": [
    {
     "data": {
      "text/plain": [
       "1.17166666666666e-06"
      ]
     },
     "execution_count": 56,
     "metadata": {},
     "output_type": "execute_result"
    }
   ],
   "source": [
    "data['Avg. Price'].min()"
   ]
  },
  {
   "cell_type": "code",
   "execution_count": 57,
   "metadata": {
    "collapsed": false
   },
   "outputs": [
    {
     "data": {
      "text/plain": [
       "0.0007753783333333321"
      ]
     },
     "execution_count": 57,
     "metadata": {},
     "output_type": "execute_result"
    }
   ],
   "source": [
    "data['Avg. Price'].sum()"
   ]
  },
  {
   "cell_type": "code",
   "execution_count": 58,
   "metadata": {
    "collapsed": false
   },
   "outputs": [
    {
     "data": {
      "text/html": [
       "<div>\n",
       "<table border=\"1\" class=\"dataframe\">\n",
       "  <thead>\n",
       "    <tr style=\"text-align: right;\">\n",
       "      <th></th>\n",
       "      <th>HOURLY</th>\n",
       "      <th>Date Strt RowNo</th>\n",
       "      <th>Dt End RowNo</th>\n",
       "      <th>Avg. Price</th>\n",
       "      <th>Avg. Volume</th>\n",
       "    </tr>\n",
       "  </thead>\n",
       "  <tbody>\n",
       "    <tr>\n",
       "      <th>0</th>\n",
       "      <td>0-1 AM</td>\n",
       "      <td>9</td>\n",
       "      <td>20</td>\n",
       "      <td>0.000002</td>\n",
       "      <td>0.000000</td>\n",
       "    </tr>\n",
       "    <tr>\n",
       "      <th>1</th>\n",
       "      <td>1-2 AM</td>\n",
       "      <td>21</td>\n",
       "      <td>32</td>\n",
       "      <td>0.000002</td>\n",
       "      <td>0.003142</td>\n",
       "    </tr>\n",
       "    <tr>\n",
       "      <th>2</th>\n",
       "      <td>2-3 AM</td>\n",
       "      <td>33</td>\n",
       "      <td>44</td>\n",
       "      <td>0.000002</td>\n",
       "      <td>0.000505</td>\n",
       "    </tr>\n",
       "    <tr>\n",
       "      <th>3</th>\n",
       "      <td>3-4 AM</td>\n",
       "      <td>45</td>\n",
       "      <td>56</td>\n",
       "      <td>0.000002</td>\n",
       "      <td>0.000917</td>\n",
       "    </tr>\n",
       "    <tr>\n",
       "      <th>4</th>\n",
       "      <td>4-5 AM</td>\n",
       "      <td>57</td>\n",
       "      <td>68</td>\n",
       "      <td>0.000002</td>\n",
       "      <td>0.000126</td>\n",
       "    </tr>\n",
       "  </tbody>\n",
       "</table>\n",
       "</div>"
      ],
      "text/plain": [
       "   HOURLY  Date Strt RowNo  Dt End RowNo  Avg. Price  Avg. Volume\n",
       "0  0-1 AM                9            20    0.000002     0.000000\n",
       "1  1-2 AM               21            32    0.000002     0.003142\n",
       "2  2-3 AM               33            44    0.000002     0.000505\n",
       "3  3-4 AM               45            56    0.000002     0.000917\n",
       "4  4-5 AM               57            68    0.000002     0.000126"
      ]
     },
     "execution_count": 58,
     "metadata": {},
     "output_type": "execute_result"
    }
   ],
   "source": [
    "data.head(5)"
   ]
  },
  {
   "cell_type": "code",
   "execution_count": 59,
   "metadata": {
    "collapsed": false
   },
   "outputs": [
    {
     "data": {
      "text/html": [
       "<div>\n",
       "<table border=\"1\" class=\"dataframe\">\n",
       "  <thead>\n",
       "    <tr style=\"text-align: right;\">\n",
       "      <th></th>\n",
       "      <th>HOURLY</th>\n",
       "      <th>Date Strt RowNo</th>\n",
       "      <th>Dt End RowNo</th>\n",
       "      <th>Avg. Price</th>\n",
       "      <th>Avg. Volume</th>\n",
       "    </tr>\n",
       "  </thead>\n",
       "  <tbody>\n",
       "    <tr>\n",
       "      <th>508</th>\n",
       "      <td>4-5 AM</td>\n",
       "      <td>6105</td>\n",
       "      <td>6116</td>\n",
       "      <td>0.000001</td>\n",
       "      <td>0.000000</td>\n",
       "    </tr>\n",
       "    <tr>\n",
       "      <th>509</th>\n",
       "      <td>5-6 AM</td>\n",
       "      <td>6117</td>\n",
       "      <td>6128</td>\n",
       "      <td>0.000001</td>\n",
       "      <td>0.000000</td>\n",
       "    </tr>\n",
       "    <tr>\n",
       "      <th>510</th>\n",
       "      <td>6-7 AM</td>\n",
       "      <td>6129</td>\n",
       "      <td>6140</td>\n",
       "      <td>0.000001</td>\n",
       "      <td>0.001701</td>\n",
       "    </tr>\n",
       "    <tr>\n",
       "      <th>511</th>\n",
       "      <td>7-8 AM</td>\n",
       "      <td>6141</td>\n",
       "      <td>6152</td>\n",
       "      <td>0.000001</td>\n",
       "      <td>0.000000</td>\n",
       "    </tr>\n",
       "    <tr>\n",
       "      <th>512</th>\n",
       "      <td>8-9 AM</td>\n",
       "      <td>6153</td>\n",
       "      <td>6164</td>\n",
       "      <td>0.000001</td>\n",
       "      <td>0.000170</td>\n",
       "    </tr>\n",
       "  </tbody>\n",
       "</table>\n",
       "</div>"
      ],
      "text/plain": [
       "     HOURLY  Date Strt RowNo  Dt End RowNo  Avg. Price  Avg. Volume\n",
       "508  4-5 AM             6105          6116    0.000001     0.000000\n",
       "509  5-6 AM             6117          6128    0.000001     0.000000\n",
       "510  6-7 AM             6129          6140    0.000001     0.001701\n",
       "511  7-8 AM             6141          6152    0.000001     0.000000\n",
       "512  8-9 AM             6153          6164    0.000001     0.000170"
      ]
     },
     "execution_count": 59,
     "metadata": {},
     "output_type": "execute_result"
    }
   ],
   "source": [
    "data.tail(5)"
   ]
  },
  {
   "cell_type": "code",
   "execution_count": 60,
   "metadata": {
    "collapsed": false
   },
   "outputs": [
    {
     "data": {
      "text/html": [
       "<div>\n",
       "<table border=\"1\" class=\"dataframe\">\n",
       "  <thead>\n",
       "    <tr style=\"text-align: right;\">\n",
       "      <th></th>\n",
       "      <th>HOURLY</th>\n",
       "      <th>Date Strt RowNo</th>\n",
       "      <th>Dt End RowNo</th>\n",
       "      <th>Avg. Price</th>\n",
       "      <th>Avg. Volume</th>\n",
       "    </tr>\n",
       "  </thead>\n",
       "  <tbody>\n",
       "    <tr>\n",
       "      <th>10</th>\n",
       "      <td>10-11 AM</td>\n",
       "      <td>129</td>\n",
       "      <td>140</td>\n",
       "      <td>0.000002</td>\n",
       "      <td>0.017822</td>\n",
       "    </tr>\n",
       "    <tr>\n",
       "      <th>11</th>\n",
       "      <td>11-12 AM</td>\n",
       "      <td>141</td>\n",
       "      <td>152</td>\n",
       "      <td>0.000002</td>\n",
       "      <td>0.000321</td>\n",
       "    </tr>\n",
       "    <tr>\n",
       "      <th>12</th>\n",
       "      <td>12-1 PM</td>\n",
       "      <td>153</td>\n",
       "      <td>164</td>\n",
       "      <td>0.000002</td>\n",
       "      <td>0.001576</td>\n",
       "    </tr>\n",
       "    <tr>\n",
       "      <th>13</th>\n",
       "      <td>1-2 PM</td>\n",
       "      <td>165</td>\n",
       "      <td>176</td>\n",
       "      <td>0.000002</td>\n",
       "      <td>0.008665</td>\n",
       "    </tr>\n",
       "    <tr>\n",
       "      <th>14</th>\n",
       "      <td>2-3 PM</td>\n",
       "      <td>177</td>\n",
       "      <td>188</td>\n",
       "      <td>0.000002</td>\n",
       "      <td>0.003815</td>\n",
       "    </tr>\n",
       "    <tr>\n",
       "      <th>15</th>\n",
       "      <td>3-4 PM</td>\n",
       "      <td>189</td>\n",
       "      <td>200</td>\n",
       "      <td>0.000002</td>\n",
       "      <td>0.000000</td>\n",
       "    </tr>\n",
       "    <tr>\n",
       "      <th>16</th>\n",
       "      <td>4-5 PM</td>\n",
       "      <td>201</td>\n",
       "      <td>212</td>\n",
       "      <td>0.000002</td>\n",
       "      <td>0.001091</td>\n",
       "    </tr>\n",
       "    <tr>\n",
       "      <th>17</th>\n",
       "      <td>5-6 PM</td>\n",
       "      <td>213</td>\n",
       "      <td>224</td>\n",
       "      <td>0.000002</td>\n",
       "      <td>0.016232</td>\n",
       "    </tr>\n",
       "    <tr>\n",
       "      <th>18</th>\n",
       "      <td>6-7 PM</td>\n",
       "      <td>225</td>\n",
       "      <td>236</td>\n",
       "      <td>0.000002</td>\n",
       "      <td>0.000000</td>\n",
       "    </tr>\n",
       "    <tr>\n",
       "      <th>19</th>\n",
       "      <td>7-8 PM</td>\n",
       "      <td>237</td>\n",
       "      <td>248</td>\n",
       "      <td>0.000002</td>\n",
       "      <td>0.003348</td>\n",
       "    </tr>\n",
       "    <tr>\n",
       "      <th>20</th>\n",
       "      <td>8-9 PM</td>\n",
       "      <td>249</td>\n",
       "      <td>260</td>\n",
       "      <td>0.000002</td>\n",
       "      <td>0.000000</td>\n",
       "    </tr>\n",
       "    <tr>\n",
       "      <th>21</th>\n",
       "      <td>9-10 PM</td>\n",
       "      <td>261</td>\n",
       "      <td>272</td>\n",
       "      <td>0.000002</td>\n",
       "      <td>0.000364</td>\n",
       "    </tr>\n",
       "    <tr>\n",
       "      <th>22</th>\n",
       "      <td>10-11 PM</td>\n",
       "      <td>273</td>\n",
       "      <td>284</td>\n",
       "      <td>0.000002</td>\n",
       "      <td>0.000000</td>\n",
       "    </tr>\n",
       "    <tr>\n",
       "      <th>23</th>\n",
       "      <td>11-12 AM</td>\n",
       "      <td>285</td>\n",
       "      <td>296</td>\n",
       "      <td>0.000002</td>\n",
       "      <td>0.003644</td>\n",
       "    </tr>\n",
       "    <tr>\n",
       "      <th>24</th>\n",
       "      <td>0-1 AM</td>\n",
       "      <td>297</td>\n",
       "      <td>308</td>\n",
       "      <td>0.000002</td>\n",
       "      <td>0.000000</td>\n",
       "    </tr>\n",
       "    <tr>\n",
       "      <th>25</th>\n",
       "      <td>1-2 AM</td>\n",
       "      <td>309</td>\n",
       "      <td>320</td>\n",
       "      <td>0.000002</td>\n",
       "      <td>0.000210</td>\n",
       "    </tr>\n",
       "  </tbody>\n",
       "</table>\n",
       "</div>"
      ],
      "text/plain": [
       "      HOURLY  Date Strt RowNo  Dt End RowNo  Avg. Price  Avg. Volume\n",
       "10  10-11 AM              129           140    0.000002     0.017822\n",
       "11  11-12 AM              141           152    0.000002     0.000321\n",
       "12   12-1 PM              153           164    0.000002     0.001576\n",
       "13    1-2 PM              165           176    0.000002     0.008665\n",
       "14    2-3 PM              177           188    0.000002     0.003815\n",
       "15    3-4 PM              189           200    0.000002     0.000000\n",
       "16    4-5 PM              201           212    0.000002     0.001091\n",
       "17    5-6 PM              213           224    0.000002     0.016232\n",
       "18    6-7 PM              225           236    0.000002     0.000000\n",
       "19    7-8 PM              237           248    0.000002     0.003348\n",
       "20    8-9 PM              249           260    0.000002     0.000000\n",
       "21   9-10 PM              261           272    0.000002     0.000364\n",
       "22  10-11 PM              273           284    0.000002     0.000000\n",
       "23  11-12 AM              285           296    0.000002     0.003644\n",
       "24    0-1 AM              297           308    0.000002     0.000000\n",
       "25    1-2 AM              309           320    0.000002     0.000210"
      ]
     },
     "execution_count": 60,
     "metadata": {},
     "output_type": "execute_result"
    }
   ],
   "source": [
    "data.ix[10:25]"
   ]
  },
  {
   "cell_type": "code",
   "execution_count": 61,
   "metadata": {
    "collapsed": false
   },
   "outputs": [
    {
     "data": {
      "text/plain": [
       "RangeIndex(start=0, stop=513, step=1)"
      ]
     },
     "execution_count": 61,
     "metadata": {},
     "output_type": "execute_result"
    }
   ],
   "source": [
    "data.index"
   ]
  },
  {
   "cell_type": "code",
   "execution_count": 62,
   "metadata": {
    "collapsed": true
   },
   "outputs": [],
   "source": [
    "data.index = data['HOURLY']"
   ]
  },
  {
   "cell_type": "code",
   "execution_count": 63,
   "metadata": {
    "collapsed": false
   },
   "outputs": [
    {
     "data": {
      "text/plain": [
       "Index([u'0-1 AM', u'1-2 AM', u'2-3 AM', u'3-4 AM', u'4-5 AM', u'5-6 AM',\n",
       "       u'6-7 AM', u'7-8 AM', u'8-9 AM', u'9-10 AM',\n",
       "       ...\n",
       "       u'11-12 AM', u'0-1 AM', u'1-2 AM', u'2-3 AM', u'3-4 AM', u'4-5 AM',\n",
       "       u'5-6 AM', u'6-7 AM', u'7-8 AM', u'8-9 AM'],\n",
       "      dtype='object', name=u'HOURLY', length=513)"
      ]
     },
     "execution_count": 63,
     "metadata": {},
     "output_type": "execute_result"
    }
   ],
   "source": [
    "data.index"
   ]
  },
  {
   "cell_type": "code",
   "execution_count": 64,
   "metadata": {
    "collapsed": false
   },
   "outputs": [
    {
     "data": {
      "text/plain": [
       "<matplotlib.axes._subplots.AxesSubplot at 0x7efdfe29d710>"
      ]
     },
     "execution_count": 64,
     "metadata": {},
     "output_type": "execute_result"
    }
   ],
   "source": [
    "import matplotlib.pyplot as plt\n",
    "data.plot(y='Avg. Price')"
   ]
  },
  {
   "cell_type": "code",
   "execution_count": 65,
   "metadata": {
    "collapsed": true
   },
   "outputs": [],
   "source": [
    "plt.show()"
   ]
  },
  {
   "cell_type": "code",
   "execution_count": 66,
   "metadata": {
    "collapsed": false
   },
   "outputs": [
    {
     "data": {
      "text/html": [
       "<div>\n",
       "<table border=\"1\" class=\"dataframe\">\n",
       "  <thead>\n",
       "    <tr style=\"text-align: right;\">\n",
       "      <th></th>\n",
       "      <th>HOURLY</th>\n",
       "      <th>Date Strt RowNo</th>\n",
       "      <th>Dt End RowNo</th>\n",
       "      <th>Avg. Price</th>\n",
       "      <th>Avg. Volume</th>\n",
       "    </tr>\n",
       "    <tr>\n",
       "      <th>HOURLY</th>\n",
       "      <th></th>\n",
       "      <th></th>\n",
       "      <th></th>\n",
       "      <th></th>\n",
       "      <th></th>\n",
       "    </tr>\n",
       "  </thead>\n",
       "  <tbody>\n",
       "    <tr>\n",
       "      <th>10-11 AM</th>\n",
       "      <td>10-11 AM</td>\n",
       "      <td>129</td>\n",
       "      <td>140</td>\n",
       "      <td>0.000002</td>\n",
       "      <td>0.017822</td>\n",
       "    </tr>\n",
       "    <tr>\n",
       "      <th>10-11 AM</th>\n",
       "      <td>10-11 AM</td>\n",
       "      <td>417</td>\n",
       "      <td>428</td>\n",
       "      <td>0.000002</td>\n",
       "      <td>0.000091</td>\n",
       "    </tr>\n",
       "    <tr>\n",
       "      <th>10-11 AM</th>\n",
       "      <td>10-11 AM</td>\n",
       "      <td>705</td>\n",
       "      <td>716</td>\n",
       "      <td>0.000002</td>\n",
       "      <td>0.000779</td>\n",
       "    </tr>\n",
       "    <tr>\n",
       "      <th>10-11 AM</th>\n",
       "      <td>10-11 AM</td>\n",
       "      <td>993</td>\n",
       "      <td>1004</td>\n",
       "      <td>0.000002</td>\n",
       "      <td>0.000000</td>\n",
       "    </tr>\n",
       "    <tr>\n",
       "      <th>10-11 AM</th>\n",
       "      <td>10-11 AM</td>\n",
       "      <td>1281</td>\n",
       "      <td>1292</td>\n",
       "      <td>0.000001</td>\n",
       "      <td>0.000621</td>\n",
       "    </tr>\n",
       "    <tr>\n",
       "      <th>10-11 AM</th>\n",
       "      <td>10-11 AM</td>\n",
       "      <td>1569</td>\n",
       "      <td>1580</td>\n",
       "      <td>0.000001</td>\n",
       "      <td>0.000000</td>\n",
       "    </tr>\n",
       "    <tr>\n",
       "      <th>10-11 AM</th>\n",
       "      <td>10-11 AM</td>\n",
       "      <td>1857</td>\n",
       "      <td>1868</td>\n",
       "      <td>0.000002</td>\n",
       "      <td>0.000400</td>\n",
       "    </tr>\n",
       "    <tr>\n",
       "      <th>10-11 AM</th>\n",
       "      <td>10-11 AM</td>\n",
       "      <td>2145</td>\n",
       "      <td>2156</td>\n",
       "      <td>0.000001</td>\n",
       "      <td>0.000000</td>\n",
       "    </tr>\n",
       "    <tr>\n",
       "      <th>10-11 AM</th>\n",
       "      <td>10-11 AM</td>\n",
       "      <td>2433</td>\n",
       "      <td>2444</td>\n",
       "      <td>0.000002</td>\n",
       "      <td>0.021157</td>\n",
       "    </tr>\n",
       "    <tr>\n",
       "      <th>10-11 AM</th>\n",
       "      <td>10-11 AM</td>\n",
       "      <td>2721</td>\n",
       "      <td>2732</td>\n",
       "      <td>0.000001</td>\n",
       "      <td>0.000000</td>\n",
       "    </tr>\n",
       "    <tr>\n",
       "      <th>10-11 AM</th>\n",
       "      <td>10-11 AM</td>\n",
       "      <td>3009</td>\n",
       "      <td>3020</td>\n",
       "      <td>0.000001</td>\n",
       "      <td>0.000000</td>\n",
       "    </tr>\n",
       "    <tr>\n",
       "      <th>10-11 AM</th>\n",
       "      <td>10-11 AM</td>\n",
       "      <td>3297</td>\n",
       "      <td>3308</td>\n",
       "      <td>0.000001</td>\n",
       "      <td>0.000000</td>\n",
       "    </tr>\n",
       "    <tr>\n",
       "      <th>10-11 AM</th>\n",
       "      <td>10-11 AM</td>\n",
       "      <td>3585</td>\n",
       "      <td>3596</td>\n",
       "      <td>0.000001</td>\n",
       "      <td>0.000000</td>\n",
       "    </tr>\n",
       "    <tr>\n",
       "      <th>10-11 AM</th>\n",
       "      <td>10-11 AM</td>\n",
       "      <td>3873</td>\n",
       "      <td>3884</td>\n",
       "      <td>0.000001</td>\n",
       "      <td>0.003528</td>\n",
       "    </tr>\n",
       "    <tr>\n",
       "      <th>10-11 AM</th>\n",
       "      <td>10-11 AM</td>\n",
       "      <td>4161</td>\n",
       "      <td>4172</td>\n",
       "      <td>0.000001</td>\n",
       "      <td>0.000000</td>\n",
       "    </tr>\n",
       "    <tr>\n",
       "      <th>10-11 AM</th>\n",
       "      <td>10-11 AM</td>\n",
       "      <td>4449</td>\n",
       "      <td>4460</td>\n",
       "      <td>0.000001</td>\n",
       "      <td>0.000000</td>\n",
       "    </tr>\n",
       "    <tr>\n",
       "      <th>10-11 AM</th>\n",
       "      <td>10-11 AM</td>\n",
       "      <td>4737</td>\n",
       "      <td>4748</td>\n",
       "      <td>0.000001</td>\n",
       "      <td>0.000000</td>\n",
       "    </tr>\n",
       "    <tr>\n",
       "      <th>10-11 AM</th>\n",
       "      <td>10-11 AM</td>\n",
       "      <td>5025</td>\n",
       "      <td>5036</td>\n",
       "      <td>0.000001</td>\n",
       "      <td>0.000000</td>\n",
       "    </tr>\n",
       "    <tr>\n",
       "      <th>10-11 AM</th>\n",
       "      <td>10-11 AM</td>\n",
       "      <td>5313</td>\n",
       "      <td>5324</td>\n",
       "      <td>0.000001</td>\n",
       "      <td>0.000000</td>\n",
       "    </tr>\n",
       "    <tr>\n",
       "      <th>10-11 AM</th>\n",
       "      <td>10-11 AM</td>\n",
       "      <td>5601</td>\n",
       "      <td>5612</td>\n",
       "      <td>0.000001</td>\n",
       "      <td>0.000000</td>\n",
       "    </tr>\n",
       "    <tr>\n",
       "      <th>10-11 AM</th>\n",
       "      <td>10-11 AM</td>\n",
       "      <td>5889</td>\n",
       "      <td>5900</td>\n",
       "      <td>0.000001</td>\n",
       "      <td>0.000000</td>\n",
       "    </tr>\n",
       "  </tbody>\n",
       "</table>\n",
       "</div>"
      ],
      "text/plain": [
       "            HOURLY  Date Strt RowNo  Dt End RowNo  Avg. Price  Avg. Volume\n",
       "HOURLY                                                                    \n",
       "10-11 AM  10-11 AM              129           140    0.000002     0.017822\n",
       "10-11 AM  10-11 AM              417           428    0.000002     0.000091\n",
       "10-11 AM  10-11 AM              705           716    0.000002     0.000779\n",
       "10-11 AM  10-11 AM              993          1004    0.000002     0.000000\n",
       "10-11 AM  10-11 AM             1281          1292    0.000001     0.000621\n",
       "10-11 AM  10-11 AM             1569          1580    0.000001     0.000000\n",
       "10-11 AM  10-11 AM             1857          1868    0.000002     0.000400\n",
       "10-11 AM  10-11 AM             2145          2156    0.000001     0.000000\n",
       "10-11 AM  10-11 AM             2433          2444    0.000002     0.021157\n",
       "10-11 AM  10-11 AM             2721          2732    0.000001     0.000000\n",
       "10-11 AM  10-11 AM             3009          3020    0.000001     0.000000\n",
       "10-11 AM  10-11 AM             3297          3308    0.000001     0.000000\n",
       "10-11 AM  10-11 AM             3585          3596    0.000001     0.000000\n",
       "10-11 AM  10-11 AM             3873          3884    0.000001     0.003528\n",
       "10-11 AM  10-11 AM             4161          4172    0.000001     0.000000\n",
       "10-11 AM  10-11 AM             4449          4460    0.000001     0.000000\n",
       "10-11 AM  10-11 AM             4737          4748    0.000001     0.000000\n",
       "10-11 AM  10-11 AM             5025          5036    0.000001     0.000000\n",
       "10-11 AM  10-11 AM             5313          5324    0.000001     0.000000\n",
       "10-11 AM  10-11 AM             5601          5612    0.000001     0.000000\n",
       "10-11 AM  10-11 AM             5889          5900    0.000001     0.000000"
      ]
     },
     "execution_count": 66,
     "metadata": {},
     "output_type": "execute_result"
    }
   ],
   "source": [
    "data[data['HOURLY']=='10-11 AM']"
   ]
  },
  {
   "cell_type": "code",
   "execution_count": 67,
   "metadata": {
    "collapsed": false
   },
   "outputs": [
    {
     "data": {
      "text/plain": [
       "Index([u'HOURLY', u'Date Strt RowNo', u'Dt End RowNo', u'Avg. Price',\n",
       "       u'Avg. Volume'],\n",
       "      dtype='object')"
      ]
     },
     "execution_count": 67,
     "metadata": {},
     "output_type": "execute_result"
    }
   ],
   "source": [
    "data.columns"
   ]
  },
  {
   "cell_type": "code",
   "execution_count": 68,
   "metadata": {
    "collapsed": true
   },
   "outputs": [],
   "source": [
    "plt.figure()\n",
    "data.plot()\n",
    "plt.show()"
   ]
  },
  {
   "cell_type": "code",
   "execution_count": 69,
   "metadata": {
    "collapsed": true
   },
   "outputs": [],
   "source": [
    "data.plot(y=\"Avg. Volume\")\n",
    "plt.show()"
   ]
  },
  {
   "cell_type": "code",
   "execution_count": 70,
   "metadata": {
    "collapsed": true
   },
   "outputs": [],
   "source": [
    "data.plot?"
   ]
  },
  {
   "cell_type": "code",
   "execution_count": 71,
   "metadata": {
    "collapsed": true
   },
   "outputs": [],
   "source": [
    "data.plot(y=\"Avg. Volume\",kind=\"bar\")\n",
    "plt.show()"
   ]
  },
  {
   "cell_type": "code",
   "execution_count": 72,
   "metadata": {
    "collapsed": true
   },
   "outputs": [],
   "source": [
    "pd.read_csv?"
   ]
  },
  {
   "cell_type": "code",
   "execution_count": 73,
   "metadata": {
    "collapsed": true
   },
   "outputs": [],
   "source": [
    "data1 = pd.read_clipboard()"
   ]
  },
  {
   "cell_type": "code",
   "execution_count": 74,
   "metadata": {
    "collapsed": false
   },
   "outputs": [
    {
     "data": {
      "text/html": [
       "<div>\n",
       "<table border=\"1\" class=\"dataframe\">\n",
       "  <thead>\n",
       "    <tr style=\"text-align: right;\">\n",
       "      <th></th>\n",
       "      <th>10-11 AM</th>\n",
       "      <th>129</th>\n",
       "      <th>140</th>\n",
       "      <th>0.000002419</th>\n",
       "      <th>0.017822473</th>\n",
       "    </tr>\n",
       "  </thead>\n",
       "  <tbody>\n",
       "    <tr>\n",
       "      <th>0</th>\n",
       "      <td>11-12 AM</td>\n",
       "      <td>141</td>\n",
       "      <td>152</td>\n",
       "      <td>0.000002</td>\n",
       "      <td>0.000321</td>\n",
       "    </tr>\n",
       "    <tr>\n",
       "      <th>1</th>\n",
       "      <td>12-1 PM</td>\n",
       "      <td>153</td>\n",
       "      <td>164</td>\n",
       "      <td>0.000002</td>\n",
       "      <td>0.001576</td>\n",
       "    </tr>\n",
       "    <tr>\n",
       "      <th>2</th>\n",
       "      <td>1-2 PM</td>\n",
       "      <td>165</td>\n",
       "      <td>176</td>\n",
       "      <td>0.000002</td>\n",
       "      <td>0.008665</td>\n",
       "    </tr>\n",
       "    <tr>\n",
       "      <th>3</th>\n",
       "      <td>2-3 PM</td>\n",
       "      <td>177</td>\n",
       "      <td>188</td>\n",
       "      <td>0.000002</td>\n",
       "      <td>0.003815</td>\n",
       "    </tr>\n",
       "    <tr>\n",
       "      <th>4</th>\n",
       "      <td>3-4 PM</td>\n",
       "      <td>189</td>\n",
       "      <td>200</td>\n",
       "      <td>0.000002</td>\n",
       "      <td>0.000000</td>\n",
       "    </tr>\n",
       "    <tr>\n",
       "      <th>5</th>\n",
       "      <td>4-5 PM</td>\n",
       "      <td>201</td>\n",
       "      <td>212</td>\n",
       "      <td>0.000002</td>\n",
       "      <td>0.001091</td>\n",
       "    </tr>\n",
       "    <tr>\n",
       "      <th>6</th>\n",
       "      <td>5-6 PM</td>\n",
       "      <td>213</td>\n",
       "      <td>224</td>\n",
       "      <td>0.000002</td>\n",
       "      <td>0.016232</td>\n",
       "    </tr>\n",
       "    <tr>\n",
       "      <th>7</th>\n",
       "      <td>6-7 PM</td>\n",
       "      <td>225</td>\n",
       "      <td>236</td>\n",
       "      <td>0.000002</td>\n",
       "      <td>0.000000</td>\n",
       "    </tr>\n",
       "    <tr>\n",
       "      <th>8</th>\n",
       "      <td>7-8 PM</td>\n",
       "      <td>237</td>\n",
       "      <td>248</td>\n",
       "      <td>0.000002</td>\n",
       "      <td>0.003348</td>\n",
       "    </tr>\n",
       "    <tr>\n",
       "      <th>9</th>\n",
       "      <td>8-9 PM</td>\n",
       "      <td>249</td>\n",
       "      <td>260</td>\n",
       "      <td>0.000002</td>\n",
       "      <td>0.000000</td>\n",
       "    </tr>\n",
       "    <tr>\n",
       "      <th>10</th>\n",
       "      <td>9-10 PM</td>\n",
       "      <td>261</td>\n",
       "      <td>272</td>\n",
       "      <td>0.000002</td>\n",
       "      <td>0.000364</td>\n",
       "    </tr>\n",
       "    <tr>\n",
       "      <th>11</th>\n",
       "      <td>10-11 PM</td>\n",
       "      <td>273</td>\n",
       "      <td>284</td>\n",
       "      <td>0.000002</td>\n",
       "      <td>0.000000</td>\n",
       "    </tr>\n",
       "    <tr>\n",
       "      <th>12</th>\n",
       "      <td>11-12 AM</td>\n",
       "      <td>285</td>\n",
       "      <td>296</td>\n",
       "      <td>0.000002</td>\n",
       "      <td>0.003644</td>\n",
       "    </tr>\n",
       "    <tr>\n",
       "      <th>13</th>\n",
       "      <td>0-1 AM</td>\n",
       "      <td>297</td>\n",
       "      <td>308</td>\n",
       "      <td>0.000002</td>\n",
       "      <td>0.000000</td>\n",
       "    </tr>\n",
       "    <tr>\n",
       "      <th>14</th>\n",
       "      <td>1-2 AM</td>\n",
       "      <td>309</td>\n",
       "      <td>320</td>\n",
       "      <td>0.000002</td>\n",
       "      <td>0.000210</td>\n",
       "    </tr>\n",
       "    <tr>\n",
       "      <th>15</th>\n",
       "      <td>2-3 AM</td>\n",
       "      <td>321</td>\n",
       "      <td>332</td>\n",
       "      <td>0.000002</td>\n",
       "      <td>0.000000</td>\n",
       "    </tr>\n",
       "    <tr>\n",
       "      <th>16</th>\n",
       "      <td>3-4 AM</td>\n",
       "      <td>333</td>\n",
       "      <td>344</td>\n",
       "      <td>0.000002</td>\n",
       "      <td>0.001452</td>\n",
       "    </tr>\n",
       "    <tr>\n",
       "      <th>17</th>\n",
       "      <td>4-5 AM</td>\n",
       "      <td>345</td>\n",
       "      <td>356</td>\n",
       "      <td>0.000002</td>\n",
       "      <td>0.001420</td>\n",
       "    </tr>\n",
       "    <tr>\n",
       "      <th>18</th>\n",
       "      <td>5-6 AM</td>\n",
       "      <td>357</td>\n",
       "      <td>368</td>\n",
       "      <td>0.000002</td>\n",
       "      <td>0.003276</td>\n",
       "    </tr>\n",
       "    <tr>\n",
       "      <th>19</th>\n",
       "      <td>6-7 AM</td>\n",
       "      <td>369</td>\n",
       "      <td>380</td>\n",
       "      <td>0.000002</td>\n",
       "      <td>0.003815</td>\n",
       "    </tr>\n",
       "  </tbody>\n",
       "</table>\n",
       "</div>"
      ],
      "text/plain": [
       "    10-11 AM  129  140  0.000002419  0.017822473\n",
       "0   11-12 AM  141  152     0.000002     0.000321\n",
       "1    12-1 PM  153  164     0.000002     0.001576\n",
       "2     1-2 PM  165  176     0.000002     0.008665\n",
       "3     2-3 PM  177  188     0.000002     0.003815\n",
       "4     3-4 PM  189  200     0.000002     0.000000\n",
       "5     4-5 PM  201  212     0.000002     0.001091\n",
       "6     5-6 PM  213  224     0.000002     0.016232\n",
       "7     6-7 PM  225  236     0.000002     0.000000\n",
       "8     7-8 PM  237  248     0.000002     0.003348\n",
       "9     8-9 PM  249  260     0.000002     0.000000\n",
       "10   9-10 PM  261  272     0.000002     0.000364\n",
       "11  10-11 PM  273  284     0.000002     0.000000\n",
       "12  11-12 AM  285  296     0.000002     0.003644\n",
       "13    0-1 AM  297  308     0.000002     0.000000\n",
       "14    1-2 AM  309  320     0.000002     0.000210\n",
       "15    2-3 AM  321  332     0.000002     0.000000\n",
       "16    3-4 AM  333  344     0.000002     0.001452\n",
       "17    4-5 AM  345  356     0.000002     0.001420\n",
       "18    5-6 AM  357  368     0.000002     0.003276\n",
       "19    6-7 AM  369  380     0.000002     0.003815"
      ]
     },
     "execution_count": 74,
     "metadata": {},
     "output_type": "execute_result"
    }
   ],
   "source": [
    "data1"
   ]
  },
  {
   "cell_type": "code",
   "execution_count": 75,
   "metadata": {
    "collapsed": true
   },
   "outputs": [],
   "source": [
    "data2 = pd.read_html('http://www.w3schools.com/html/html_tables.asp')\n"
   ]
  },
  {
   "cell_type": "code",
   "execution_count": 76,
   "metadata": {
    "collapsed": false
   },
   "outputs": [
    {
     "data": {
      "text/html": [
       "<div>\n",
       "<table border=\"1\" class=\"dataframe\">\n",
       "  <thead>\n",
       "    <tr style=\"text-align: right;\">\n",
       "      <th></th>\n",
       "      <th>0</th>\n",
       "      <th>1</th>\n",
       "      <th>2</th>\n",
       "    </tr>\n",
       "  </thead>\n",
       "  <tbody>\n",
       "    <tr>\n",
       "      <th>0</th>\n",
       "      <td>Company</td>\n",
       "      <td>Contact</td>\n",
       "      <td>Country</td>\n",
       "    </tr>\n",
       "    <tr>\n",
       "      <th>1</th>\n",
       "      <td>Alfreds Futterkiste</td>\n",
       "      <td>Maria Anders</td>\n",
       "      <td>Germany</td>\n",
       "    </tr>\n",
       "    <tr>\n",
       "      <th>2</th>\n",
       "      <td>Centro comercial Moctezuma</td>\n",
       "      <td>Francisco Chang</td>\n",
       "      <td>Mexico</td>\n",
       "    </tr>\n",
       "    <tr>\n",
       "      <th>3</th>\n",
       "      <td>Ernst Handel</td>\n",
       "      <td>Roland Mendel</td>\n",
       "      <td>Austria</td>\n",
       "    </tr>\n",
       "    <tr>\n",
       "      <th>4</th>\n",
       "      <td>Island Trading</td>\n",
       "      <td>Helen Bennett</td>\n",
       "      <td>UK</td>\n",
       "    </tr>\n",
       "    <tr>\n",
       "      <th>5</th>\n",
       "      <td>Laughing Bacchus Winecellars</td>\n",
       "      <td>Yoshi Tannamuri</td>\n",
       "      <td>Canada</td>\n",
       "    </tr>\n",
       "    <tr>\n",
       "      <th>6</th>\n",
       "      <td>Magazzini Alimentari Riuniti</td>\n",
       "      <td>Giovanni Rovelli</td>\n",
       "      <td>Italy</td>\n",
       "    </tr>\n",
       "  </tbody>\n",
       "</table>\n",
       "</div>"
      ],
      "text/plain": [
       "                              0                 1        2\n",
       "0                       Company           Contact  Country\n",
       "1           Alfreds Futterkiste      Maria Anders  Germany\n",
       "2    Centro comercial Moctezuma   Francisco Chang   Mexico\n",
       "3                  Ernst Handel     Roland Mendel  Austria\n",
       "4                Island Trading     Helen Bennett       UK\n",
       "5  Laughing Bacchus Winecellars   Yoshi Tannamuri   Canada\n",
       "6  Magazzini Alimentari Riuniti  Giovanni Rovelli    Italy"
      ]
     },
     "execution_count": 76,
     "metadata": {},
     "output_type": "execute_result"
    }
   ],
   "source": [
    "data2[0]"
   ]
  },
  {
   "cell_type": "code",
   "execution_count": null,
   "metadata": {
    "collapsed": true
   },
   "outputs": [],
   "source": []
  }
 ],
 "metadata": {
  "kernelspec": {
   "display_name": "Python 2",
   "language": "python",
   "name": "python2"
  },
  "language_info": {
   "codemirror_mode": {
    "name": "ipython",
    "version": 2
   },
   "file_extension": ".py",
   "mimetype": "text/x-python",
   "name": "python",
   "nbconvert_exporter": "python",
   "pygments_lexer": "ipython2",
   "version": "2.7.11"
  }
 },
 "nbformat": 4,
 "nbformat_minor": 0
}
